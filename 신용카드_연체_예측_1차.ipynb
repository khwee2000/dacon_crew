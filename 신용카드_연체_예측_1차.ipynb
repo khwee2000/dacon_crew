{
  "cells": [
    {
      "cell_type": "markdown",
      "metadata": {
        "id": "vl025mYWsl05"
      },
      "source": [
        "# 신용카드 연체 예측 프로젝트\n",
        "[1등예정팀] 신용카드 사용자 연체 예측\n"
      ]
    },
    {
      "cell_type": "markdown",
      "metadata": {
        "id": "Fcph38n8aiDl"
      },
      "source": [
        "\n",
        "\n",
        "안녕하세요. 데이크루 6기 ‘1등예정팀’ 팀입니다!\n",
        "\n",
        "\n",
        "저희는 신용카드 사용자 연체 예측을 하는 데이터 분석 문제를 해결하고자 합니다.\n"
      ]
    },
    {
      "cell_type": "markdown",
      "metadata": {
        "id": "GeEgfhhGaXbw"
      },
      "source": [
        "##목차"
      ]
    },
    {
      "cell_type": "markdown",
      "metadata": {
        "id": "AJdQi48p3MbL"
      },
      "source": [
        "\n",
        "1. 소개\n",
        "  \n",
        "  1.1 프로젝트 개요\n",
        "  \n",
        "  1.2 프로젝트 목적\n",
        "\n",
        "  1.3 데이터셋 소개\n",
        "\n",
        "2. 데이터 탐색과 전처리\n",
        "\n",
        "  2.1 데이터 불러오기\n",
        "  \n",
        "  2.2 데이터 구조 파악\n",
        "  \n",
        "  2.3 데이터 클렌징\n",
        "  \n",
        "    - 결측치 처리 (제거, 대치)\n",
        "  \n",
        "    - 이상치 처리\n",
        "  \n",
        "    - 중복데이터 처리\n",
        "  \n",
        "  2.4 데이터 변환\n",
        "    - 범주형 변수 처리(레이블 인코딩, 원핫 인코딩)\n",
        "    - 데이터 스케일링\n",
        "3. 데이터 시각화와 탐색적 데이터 분석(EDA)\n",
        "\n",
        "  3.1 타깃 변수 분포 확인\n",
        "\n",
        "  3.2 수치형 피처와 타깃 변수 간 상관관계 분석\n",
        "\n",
        "  3.3 범주형 피처와 타깃 변수 간 관계 탐색\n",
        "\n",
        "  3.4 시각화를 통한 인사이트 도출\n",
        "\n",
        "4. 특징 공학\n",
        "  \n",
        "  4.1 피처 생성\n",
        "  \n",
        "  4.2 피처 변환\n",
        "  \n",
        "  4.3 특징 선택\n",
        "  \n",
        "\n",
        "5. sklearn 모델 학습/예측\n",
        "  \n",
        "  5.1 모델 학습\n",
        "  \n",
        "  5.2 모델 성능 평가 지표 선택\n",
        "  \n",
        "  5.3 모델 튜닝과 최적화\n",
        "\n",
        "6. 평가\n",
        "  \n",
        "  6.1 모델 성능 평가\n",
        "  \n",
        "  6.2 하이퍼파라미터 튜닝\n",
        "  \n",
        "  6.3 모델 개선 방향 도출\n",
        "\n",
        "7. 프로젝트 결론과 향후 방향\n",
        "\n",
        "  7.1 프로젝트 결과 요약\n",
        "\n",
        "  7.2 프로젝트 진행 중 발견된 문제점\n"
      ]
    },
    {
      "cell_type": "markdown",
      "metadata": {
        "id": "GT3NzYeivbWJ"
      },
      "source": [
        "#1.소개"
      ]
    },
    {
      "cell_type": "markdown",
      "metadata": {
        "id": "LZdIiZxryp1A"
      },
      "source": [
        "안녕하세요, 데이커 여러분!\n",
        "\n",
        "데이커 여러분들은 현대 사회에서 신용카드를 사용하는 분들이 많으시겠죠? 신용카드는 현대인의 일상에 밀접하게 녹아들어있는 결제 수단으로, 많은 사람들이 신용카드를 이용하여 다양한 소비를 하고 있습니다! 하지만 신용카드 사용자들의 대금 연체 가능성을 미리 예측하고 파악하는 것은 금융 기업과 비즈니스에 매우 중요한 과제입니다.\n",
        "\n",
        "여러분이 신용카드 사용자라면 어떤 요인이 가장 중요할까요? 혹시 지출 패턴, 상점 이용 빈도, 사용한 금액, 혹은 이용 시간대가 신용카드 사용에 영향을 미치는 요소가 될 수 있을까요? 이런 궁금증들이 머리 속에서 맴돌기 시작하죠.\n",
        "\n",
        "이제 우리는 이런 궁금증을 데이터 분석과 머신러닝으로 해결해 보려고 합니다! 이번 대회에서는 사용자들의 신용카드 대금 연체 정도를 예측하는 것이 목표입니다. 과연 높은 신용의 고객과 낮은 신용의 고객을 어떻게 분류할 수 있을지, 함께 알아보도록 하겠습니다!"
      ]
    },
    {
      "cell_type": "markdown",
      "metadata": {
        "id": "6IsVdu4g00yW"
      },
      "source": [
        "### 1.1 프로젝트 개요\n",
        "\n",
        "신용카드 사용자 연체 예측의 개념과 중요성에 대해 소개하겠습니다.\n",
        "\n",
        "우리는 머신러닝과 데이터 분석을 통해 사용자들의 신용카드 대금 연체 정도를 미리 예측하고 파악하고자 합니다.\n",
        "\n",
        "이를 통해 높은 신용의 고객과 낮은 신용의 고객을 분류하여 보다 효율적인 금융 서비스를 제공하고자 합니다."
      ]
    },
    {
      "cell_type": "markdown",
      "metadata": {
        "id": "DvwNMhmE0-Mr"
      },
      "source": [
        "### 1.2 프로젝트 목표\n",
        "\n",
        "데이커 여러분들이 신용카드 사용자 연체 예측과 관련된 데이터 분석과 머신러닝 기술을 습득하고, 실제 금융 서비스에 적용할 수 있는 능력을 키우는 것입니다.\n",
        "\n",
        "이번 프로젝트를 통해 기초적인 데이터 분석 과정과 **Classification(분류)** 문제를 경험하면서 실제 대회에서 사용할 수 있는 기법을 익혀 나가세요!\n"
      ]
    },
    {
      "cell_type": "markdown",
      "metadata": {
        "id": "k6q9gGKNwg3Q"
      },
      "source": [
        "### 1.3 데이터셋 설명"
      ]
    },
    {
      "cell_type": "markdown",
      "metadata": {
        "id": "mpU2hz1ZzdtT"
      },
      "source": [
        "**input 변수**\n",
        "\n",
        "| 변수명          | 설명                     |\n",
        "|----------------|------------------------|\n",
        "| gender         | 성별                   |\n",
        "| car            | 차량 소유 여부          |\n",
        "| reality        | 부동산 소유 여부        |\n",
        "| child_num      | 자녀의 수               |\n",
        "| income_total   | 연간 총 소득             |\n",
        "| income_type    | 소득 유형               |\n",
        "| edu_type       | 교육 수준               |\n",
        "| family_type    | 가족 유형               |\n",
        "| house_type     | 거주 유형               |\n",
        "| DAYS_BIRTH     | 출생일                  |\n",
        "| DAYS_EMPLOYED  | 현재 직장에 고용된 기간  |\n",
        "| FLAG_MOBIL     | 핸드폰 소유 여부         |\n",
        "| work_phone     | 업무용 전화 소유 여부     |\n",
        "| phone          | 전화 소유 여부           |\n",
        "| email          | 이메일 소유 여부         |\n",
        "| occyp_type     | 직업 유형               |\n",
        "| family_size    | 가족 구성원의 수         |\n",
        "| begin_month    | 신용카드 발급 월         |\n",
        "\n",
        "**output 변수**\n",
        "* credit: 신용 등급"
      ]
    },
    {
      "cell_type": "markdown",
      "metadata": {
        "id": "1o84VirMt9oY"
      },
      "source": [
        "# 2.데이터 탐색\n",
        "데이터 분석을 시작하기 전에 사용할 데이터를 먼저 확인하는 것이 중요합니다.\n",
        "\n",
        "이 단계는 마치 요리를 시작하기 전에 어떤 재료를 사용할지 미리 살펴보는 것과 비슷합니다. 데이터 분석에서도 우리는 사용할 데이터가 어떤 형태를 가지고 있는지, 데이터의 내용은 어떤지, 그리고 행과 열은 어떻게 구성되어 있는지를 파악해야 합니다. 이렇게 데이터를 먼저 확인함으로써 앞으로의 분석 방향을 정할 수 있습니다.\n",
        "\n",
        "이 프로젝트에서는 제공되는 CSV 파일이 총 3개 있습니다. 이를 자세히 살펴보는 것은 데이터 분석의 출발점이며, 데이터를 이해하는 데 매우 중요한 과정입니다.\n"
      ]
    },
    {
      "cell_type": "markdown",
      "metadata": {
        "id": "mamGiFvsRzKT"
      },
      "source": [
        "## 2.1 데이터 불러오기\n",
        "\n",
        "첫 단계로 데이터를 불러오겠습니다. 이는 데이터를 분석하기 위한 필수적인 단계입니다. 우선 필요한 라이브러리를 불러옵니다."
      ]
    },
    {
      "cell_type": "code",
      "execution_count": null,
      "metadata": {
        "colab": {
          "base_uri": "https://localhost:8080/"
        },
        "id": "di4YksIVJWK6",
        "outputId": "13a1ca7e-2e02-4ca5-c2eb-b36f97a4fc12"
      },
      "outputs": [
        {
          "name": "stdout",
          "output_type": "stream",
          "text": [
            "Mounted at /content/drive\n",
            "변수 type:  <class 'pandas.core.frame.DataFrame'>\n"
          ]
        }
      ],
      "source": [
        "# Python 기본 함수인 import를 이용해 pandas 라이브러리를 가져오고 as로 이름을 명명하기\n",
        "import pandas as pd\n",
        "import numpy as np\n",
        "import matplotlib.pyplot as plt\n",
        "import seaborn as sns\n",
        "\n",
        "# 구글 드라이브 mount\n",
        "from google.colab import drive\n",
        "drive.mount('/content/drive')\n",
        "\n",
        "# 데이터 불러오기\n",
        "credit_df = pd.read_csv('/content/drive/MyDrive/데이크루 13/data/train.csv')\n",
        "test = pd.read_csv('/content/drive/MyDrive/데이크루 13/data/test.csv')\n",
        "submission = pd.read_csv('/content/drive/MyDrive/데이크루 13/data/sample_submission.csv')\n",
        "print('변수 type: ', type(credit_df))"
      ]
    },
    {
      "cell_type": "markdown",
      "metadata": {
        "id": "YCwpkjkHzIOi"
      },
      "source": [
        ">**Inst.**\n",
        "\n",
        "이번 프로젝트에서는 총 3가지 데이터가 존재하며, 모두 .csv 파일 형식으로 제공됩니다.\n",
        "  - train.csv: 모델을 학습하기 위해 사용하는 데이터\n",
        "  - test.csv: 모델을 통해 정답을 예측하기 위해 사용하는 데이터\n",
        "  - sample_submission.csv: 예측한 정답 값을 기록하여 제출하기 위한 샘플 정답 파일\n",
        "\n",
        "위에서 호출한 판다스(pandas) 라이브러리(library)를 사용하여 train.csv 파일을 읽어와볼까요?\n",
        "\n",
        "**read_csv('파일경로/파일명.csv')**함수는 CSV 파일을 읽어서 데이터프레임(DataFrame)형식으로 반환합니다. type함수를 활용해 DataFrame인걸 한번 더 확인했습니다.\n",
        "\n",
        "데이터프레임은 행(row)와 열(col)로 이루어진 테이블 형태의 데이터입니다.\n",
        "\n",
        "read_csv()함수는 다양한 매개변수를 받아 데이터를 읽을 수 있는데, 코드에서는 파일 경로 ('train.csv')를 문자열로 전달하였습니다.\n",
        "\n",
        "> **결과 해석**\n",
        "- 코드의 실행 결과 raw_data 변수에는 train.csv 파일의 데이터가 데이터프레임 형태로 저장됩니다.\n",
        "이를 통해 **데이터의 구조와 내용을 분석하고 모델링**을 수행할 수 있습니다.\n"
      ]
    },
    {
      "cell_type": "markdown",
      "metadata": {
        "id": "TxZ47FQIuRZZ"
      },
      "source": [
        "## 2.2 데이터 구조 파악\n",
        "데이터 분석을 시작하기 전에, 먼저 데이터를 확인해보겠습니다. 데이터를 미리 살펴보는 것은 분석의 첫 걸음이라고 할 수 있습니다.\n",
        "\n",
        "데이터 분석 과정에서 모델을 작성하기 전에 데이터의 특성을 제대로 파악하고 이를 어떻게 처리할지 결정하는 것은 매우 중요한 단계입니다. 실제로 데이터를 이해하지 못하고 이 단계를 건너뛰면, 이후의 모든 작업이 허무하게 될 수 있습니다.\n",
        "\n",
        "기본적으로 데이터 자체에 대한 정확한 이해가 없다면, 이후의 모델 구축이나 분석 결과의 해석 또한 힘들어질 수 있습니다. 데이터가 어떤 의미를 가지고 있는지 파악하지 않고 분석을 진행한다면, 그 결과는 신뢰할 수 없을 것입니다.\n",
        "\n",
        "따라서 데이터의 특성을 꼼꼼하게 살펴보고 이를 바탕으로 적절한 처리 방법을 결정하는 것은 데이터 분석의 가장 기본적이고 핵심적인 부분입니다.\n",
        "\n",
        "\n",
        "\n",
        "1. **데이터 미리 확인하기 (.head())**: 데이터의 첫 5행을 확인하여 어떤 종류의 정보를 담고 있는지 대략적으로 파악합니다.\n",
        "\n",
        "2. **데이터의 형태 확인하기 (.shape)**: 데이터의 행과 열의 개수를 확인하여 데이터의 크기를 파악합니다.\n",
        "\n",
        "3. **데이터에 대한 정보 표시하기 (.info())**: 데이터의 변수들에 대한 정보를 표시하여 데이터 타입과 결측치 여부를 확인합니다.\n",
        "\n",
        "4. **누락된 값 확인하기 (.isna().sum())**: 각 변수별로 결측치가 얼마나 있는지 확인하여 데이터의 완결성을 평가합니다.\n",
        "\n",
        "5. **범주형 변수의 고유한 값 표시하기 (.unique())**: 범주형 변수에서 어떤 고유한 값들이 있는지 확인하여 데이터의 다양성을 파악합니다.\n",
        "\n",
        "이러한 단계들을 순서대로 진행하여 데이터의 전반적인 특성을 파악하고, 이후 분석 방향을 결정할 수 있습니다."
      ]
    },
    {
      "cell_type": "code",
      "execution_count": null,
      "metadata": {
        "colab": {
          "base_uri": "https://localhost:8080/",
          "height": 382
        },
        "id": "XCya9885KulO",
        "outputId": "14571830-a7d0-4509-ee39-9754f92fd8a6"
      },
      "outputs": [
        {
          "data": {
            "text/html": [
              "\n",
              "  <div id=\"df-0dda572b-99c6-45de-8fbd-4dc9eb681a3f\" class=\"colab-df-container\">\n",
              "    <div>\n",
              "<style scoped>\n",
              "    .dataframe tbody tr th:only-of-type {\n",
              "        vertical-align: middle;\n",
              "    }\n",
              "\n",
              "    .dataframe tbody tr th {\n",
              "        vertical-align: top;\n",
              "    }\n",
              "\n",
              "    .dataframe thead th {\n",
              "        text-align: right;\n",
              "    }\n",
              "</style>\n",
              "<table border=\"1\" class=\"dataframe\">\n",
              "  <thead>\n",
              "    <tr style=\"text-align: right;\">\n",
              "      <th></th>\n",
              "      <th>index</th>\n",
              "      <th>gender</th>\n",
              "      <th>car</th>\n",
              "      <th>reality</th>\n",
              "      <th>child_num</th>\n",
              "      <th>income_total</th>\n",
              "      <th>income_type</th>\n",
              "      <th>edu_type</th>\n",
              "      <th>family_type</th>\n",
              "      <th>house_type</th>\n",
              "      <th>DAYS_BIRTH</th>\n",
              "      <th>DAYS_EMPLOYED</th>\n",
              "      <th>FLAG_MOBIL</th>\n",
              "      <th>work_phone</th>\n",
              "      <th>phone</th>\n",
              "      <th>email</th>\n",
              "      <th>occyp_type</th>\n",
              "      <th>family_size</th>\n",
              "      <th>begin_month</th>\n",
              "      <th>credit</th>\n",
              "    </tr>\n",
              "  </thead>\n",
              "  <tbody>\n",
              "    <tr>\n",
              "      <th>0</th>\n",
              "      <td>0</td>\n",
              "      <td>F</td>\n",
              "      <td>N</td>\n",
              "      <td>N</td>\n",
              "      <td>0</td>\n",
              "      <td>202500.0</td>\n",
              "      <td>Commercial associate</td>\n",
              "      <td>Higher education</td>\n",
              "      <td>Married</td>\n",
              "      <td>Municipal apartment</td>\n",
              "      <td>-13899</td>\n",
              "      <td>-4709</td>\n",
              "      <td>1</td>\n",
              "      <td>0</td>\n",
              "      <td>0</td>\n",
              "      <td>0</td>\n",
              "      <td>NaN</td>\n",
              "      <td>2.0</td>\n",
              "      <td>-6.0</td>\n",
              "      <td>1.0</td>\n",
              "    </tr>\n",
              "    <tr>\n",
              "      <th>1</th>\n",
              "      <td>1</td>\n",
              "      <td>F</td>\n",
              "      <td>N</td>\n",
              "      <td>Y</td>\n",
              "      <td>1</td>\n",
              "      <td>247500.0</td>\n",
              "      <td>Commercial associate</td>\n",
              "      <td>Secondary / secondary special</td>\n",
              "      <td>Civil marriage</td>\n",
              "      <td>House / apartment</td>\n",
              "      <td>-11380</td>\n",
              "      <td>-1540</td>\n",
              "      <td>1</td>\n",
              "      <td>0</td>\n",
              "      <td>0</td>\n",
              "      <td>1</td>\n",
              "      <td>Laborers</td>\n",
              "      <td>3.0</td>\n",
              "      <td>-5.0</td>\n",
              "      <td>1.0</td>\n",
              "    </tr>\n",
              "    <tr>\n",
              "      <th>2</th>\n",
              "      <td>2</td>\n",
              "      <td>M</td>\n",
              "      <td>Y</td>\n",
              "      <td>Y</td>\n",
              "      <td>0</td>\n",
              "      <td>450000.0</td>\n",
              "      <td>Working</td>\n",
              "      <td>Higher education</td>\n",
              "      <td>Married</td>\n",
              "      <td>House / apartment</td>\n",
              "      <td>-19087</td>\n",
              "      <td>-4434</td>\n",
              "      <td>1</td>\n",
              "      <td>0</td>\n",
              "      <td>1</td>\n",
              "      <td>0</td>\n",
              "      <td>Managers</td>\n",
              "      <td>2.0</td>\n",
              "      <td>-22.0</td>\n",
              "      <td>2.0</td>\n",
              "    </tr>\n",
              "    <tr>\n",
              "      <th>3</th>\n",
              "      <td>3</td>\n",
              "      <td>F</td>\n",
              "      <td>N</td>\n",
              "      <td>Y</td>\n",
              "      <td>0</td>\n",
              "      <td>202500.0</td>\n",
              "      <td>Commercial associate</td>\n",
              "      <td>Secondary / secondary special</td>\n",
              "      <td>Married</td>\n",
              "      <td>House / apartment</td>\n",
              "      <td>-15088</td>\n",
              "      <td>-2092</td>\n",
              "      <td>1</td>\n",
              "      <td>0</td>\n",
              "      <td>1</td>\n",
              "      <td>0</td>\n",
              "      <td>Sales staff</td>\n",
              "      <td>2.0</td>\n",
              "      <td>-37.0</td>\n",
              "      <td>0.0</td>\n",
              "    </tr>\n",
              "    <tr>\n",
              "      <th>4</th>\n",
              "      <td>4</td>\n",
              "      <td>F</td>\n",
              "      <td>Y</td>\n",
              "      <td>Y</td>\n",
              "      <td>0</td>\n",
              "      <td>157500.0</td>\n",
              "      <td>State servant</td>\n",
              "      <td>Higher education</td>\n",
              "      <td>Married</td>\n",
              "      <td>House / apartment</td>\n",
              "      <td>-15037</td>\n",
              "      <td>-2105</td>\n",
              "      <td>1</td>\n",
              "      <td>0</td>\n",
              "      <td>0</td>\n",
              "      <td>0</td>\n",
              "      <td>Managers</td>\n",
              "      <td>2.0</td>\n",
              "      <td>-26.0</td>\n",
              "      <td>2.0</td>\n",
              "    </tr>\n",
              "  </tbody>\n",
              "</table>\n",
              "</div>\n",
              "    <div class=\"colab-df-buttons\">\n",
              "\n",
              "  <div class=\"colab-df-container\">\n",
              "    <button class=\"colab-df-convert\" onclick=\"convertToInteractive('df-0dda572b-99c6-45de-8fbd-4dc9eb681a3f')\"\n",
              "            title=\"Convert this dataframe to an interactive table.\"\n",
              "            style=\"display:none;\">\n",
              "\n",
              "  <svg xmlns=\"http://www.w3.org/2000/svg\" height=\"24px\" viewBox=\"0 -960 960 960\">\n",
              "    <path d=\"M120-120v-720h720v720H120Zm60-500h600v-160H180v160Zm220 220h160v-160H400v160Zm0 220h160v-160H400v160ZM180-400h160v-160H180v160Zm440 0h160v-160H620v160ZM180-180h160v-160H180v160Zm440 0h160v-160H620v160Z\"/>\n",
              "  </svg>\n",
              "    </button>\n",
              "\n",
              "  <style>\n",
              "    .colab-df-container {\n",
              "      display:flex;\n",
              "      gap: 12px;\n",
              "    }\n",
              "\n",
              "    .colab-df-convert {\n",
              "      background-color: #E8F0FE;\n",
              "      border: none;\n",
              "      border-radius: 50%;\n",
              "      cursor: pointer;\n",
              "      display: none;\n",
              "      fill: #1967D2;\n",
              "      height: 32px;\n",
              "      padding: 0 0 0 0;\n",
              "      width: 32px;\n",
              "    }\n",
              "\n",
              "    .colab-df-convert:hover {\n",
              "      background-color: #E2EBFA;\n",
              "      box-shadow: 0px 1px 2px rgba(60, 64, 67, 0.3), 0px 1px 3px 1px rgba(60, 64, 67, 0.15);\n",
              "      fill: #174EA6;\n",
              "    }\n",
              "\n",
              "    .colab-df-buttons div {\n",
              "      margin-bottom: 4px;\n",
              "    }\n",
              "\n",
              "    [theme=dark] .colab-df-convert {\n",
              "      background-color: #3B4455;\n",
              "      fill: #D2E3FC;\n",
              "    }\n",
              "\n",
              "    [theme=dark] .colab-df-convert:hover {\n",
              "      background-color: #434B5C;\n",
              "      box-shadow: 0px 1px 3px 1px rgba(0, 0, 0, 0.15);\n",
              "      filter: drop-shadow(0px 1px 2px rgba(0, 0, 0, 0.3));\n",
              "      fill: #FFFFFF;\n",
              "    }\n",
              "  </style>\n",
              "\n",
              "    <script>\n",
              "      const buttonEl =\n",
              "        document.querySelector('#df-0dda572b-99c6-45de-8fbd-4dc9eb681a3f button.colab-df-convert');\n",
              "      buttonEl.style.display =\n",
              "        google.colab.kernel.accessAllowed ? 'block' : 'none';\n",
              "\n",
              "      async function convertToInteractive(key) {\n",
              "        const element = document.querySelector('#df-0dda572b-99c6-45de-8fbd-4dc9eb681a3f');\n",
              "        const dataTable =\n",
              "          await google.colab.kernel.invokeFunction('convertToInteractive',\n",
              "                                                    [key], {});\n",
              "        if (!dataTable) return;\n",
              "\n",
              "        const docLinkHtml = 'Like what you see? Visit the ' +\n",
              "          '<a target=\"_blank\" href=https://colab.research.google.com/notebooks/data_table.ipynb>data table notebook</a>'\n",
              "          + ' to learn more about interactive tables.';\n",
              "        element.innerHTML = '';\n",
              "        dataTable['output_type'] = 'display_data';\n",
              "        await google.colab.output.renderOutput(dataTable, element);\n",
              "        const docLink = document.createElement('div');\n",
              "        docLink.innerHTML = docLinkHtml;\n",
              "        element.appendChild(docLink);\n",
              "      }\n",
              "    </script>\n",
              "  </div>\n",
              "\n",
              "\n",
              "<div id=\"df-b2ee4aa7-6f68-4f5f-b523-f8bda68db4e9\">\n",
              "  <button class=\"colab-df-quickchart\" onclick=\"quickchart('df-b2ee4aa7-6f68-4f5f-b523-f8bda68db4e9')\"\n",
              "            title=\"Suggest charts.\"\n",
              "            style=\"display:none;\">\n",
              "\n",
              "<svg xmlns=\"http://www.w3.org/2000/svg\" height=\"24px\"viewBox=\"0 0 24 24\"\n",
              "     width=\"24px\">\n",
              "    <g>\n",
              "        <path d=\"M19 3H5c-1.1 0-2 .9-2 2v14c0 1.1.9 2 2 2h14c1.1 0 2-.9 2-2V5c0-1.1-.9-2-2-2zM9 17H7v-7h2v7zm4 0h-2V7h2v10zm4 0h-2v-4h2v4z\"/>\n",
              "    </g>\n",
              "</svg>\n",
              "  </button>\n",
              "\n",
              "<style>\n",
              "  .colab-df-quickchart {\n",
              "      --bg-color: #E8F0FE;\n",
              "      --fill-color: #1967D2;\n",
              "      --hover-bg-color: #E2EBFA;\n",
              "      --hover-fill-color: #174EA6;\n",
              "      --disabled-fill-color: #AAA;\n",
              "      --disabled-bg-color: #DDD;\n",
              "  }\n",
              "\n",
              "  [theme=dark] .colab-df-quickchart {\n",
              "      --bg-color: #3B4455;\n",
              "      --fill-color: #D2E3FC;\n",
              "      --hover-bg-color: #434B5C;\n",
              "      --hover-fill-color: #FFFFFF;\n",
              "      --disabled-bg-color: #3B4455;\n",
              "      --disabled-fill-color: #666;\n",
              "  }\n",
              "\n",
              "  .colab-df-quickchart {\n",
              "    background-color: var(--bg-color);\n",
              "    border: none;\n",
              "    border-radius: 50%;\n",
              "    cursor: pointer;\n",
              "    display: none;\n",
              "    fill: var(--fill-color);\n",
              "    height: 32px;\n",
              "    padding: 0;\n",
              "    width: 32px;\n",
              "  }\n",
              "\n",
              "  .colab-df-quickchart:hover {\n",
              "    background-color: var(--hover-bg-color);\n",
              "    box-shadow: 0 1px 2px rgba(60, 64, 67, 0.3), 0 1px 3px 1px rgba(60, 64, 67, 0.15);\n",
              "    fill: var(--button-hover-fill-color);\n",
              "  }\n",
              "\n",
              "  .colab-df-quickchart-complete:disabled,\n",
              "  .colab-df-quickchart-complete:disabled:hover {\n",
              "    background-color: var(--disabled-bg-color);\n",
              "    fill: var(--disabled-fill-color);\n",
              "    box-shadow: none;\n",
              "  }\n",
              "\n",
              "  .colab-df-spinner {\n",
              "    border: 2px solid var(--fill-color);\n",
              "    border-color: transparent;\n",
              "    border-bottom-color: var(--fill-color);\n",
              "    animation:\n",
              "      spin 1s steps(1) infinite;\n",
              "  }\n",
              "\n",
              "  @keyframes spin {\n",
              "    0% {\n",
              "      border-color: transparent;\n",
              "      border-bottom-color: var(--fill-color);\n",
              "      border-left-color: var(--fill-color);\n",
              "    }\n",
              "    20% {\n",
              "      border-color: transparent;\n",
              "      border-left-color: var(--fill-color);\n",
              "      border-top-color: var(--fill-color);\n",
              "    }\n",
              "    30% {\n",
              "      border-color: transparent;\n",
              "      border-left-color: var(--fill-color);\n",
              "      border-top-color: var(--fill-color);\n",
              "      border-right-color: var(--fill-color);\n",
              "    }\n",
              "    40% {\n",
              "      border-color: transparent;\n",
              "      border-right-color: var(--fill-color);\n",
              "      border-top-color: var(--fill-color);\n",
              "    }\n",
              "    60% {\n",
              "      border-color: transparent;\n",
              "      border-right-color: var(--fill-color);\n",
              "    }\n",
              "    80% {\n",
              "      border-color: transparent;\n",
              "      border-right-color: var(--fill-color);\n",
              "      border-bottom-color: var(--fill-color);\n",
              "    }\n",
              "    90% {\n",
              "      border-color: transparent;\n",
              "      border-bottom-color: var(--fill-color);\n",
              "    }\n",
              "  }\n",
              "</style>\n",
              "\n",
              "  <script>\n",
              "    async function quickchart(key) {\n",
              "      const quickchartButtonEl =\n",
              "        document.querySelector('#' + key + ' button');\n",
              "      quickchartButtonEl.disabled = true;  // To prevent multiple clicks.\n",
              "      quickchartButtonEl.classList.add('colab-df-spinner');\n",
              "      try {\n",
              "        const charts = await google.colab.kernel.invokeFunction(\n",
              "            'suggestCharts', [key], {});\n",
              "      } catch (error) {\n",
              "        console.error('Error during call to suggestCharts:', error);\n",
              "      }\n",
              "      quickchartButtonEl.classList.remove('colab-df-spinner');\n",
              "      quickchartButtonEl.classList.add('colab-df-quickchart-complete');\n",
              "    }\n",
              "    (() => {\n",
              "      let quickchartButtonEl =\n",
              "        document.querySelector('#df-b2ee4aa7-6f68-4f5f-b523-f8bda68db4e9 button');\n",
              "      quickchartButtonEl.style.display =\n",
              "        google.colab.kernel.accessAllowed ? 'block' : 'none';\n",
              "    })();\n",
              "  </script>\n",
              "</div>\n",
              "    </div>\n",
              "  </div>\n"
            ],
            "text/plain": [
              "   index gender car reality  child_num  income_total           income_type  \\\n",
              "0      0      F   N       N          0      202500.0  Commercial associate   \n",
              "1      1      F   N       Y          1      247500.0  Commercial associate   \n",
              "2      2      M   Y       Y          0      450000.0               Working   \n",
              "3      3      F   N       Y          0      202500.0  Commercial associate   \n",
              "4      4      F   Y       Y          0      157500.0         State servant   \n",
              "\n",
              "                        edu_type     family_type           house_type  \\\n",
              "0               Higher education         Married  Municipal apartment   \n",
              "1  Secondary / secondary special  Civil marriage    House / apartment   \n",
              "2               Higher education         Married    House / apartment   \n",
              "3  Secondary / secondary special         Married    House / apartment   \n",
              "4               Higher education         Married    House / apartment   \n",
              "\n",
              "   DAYS_BIRTH  DAYS_EMPLOYED  FLAG_MOBIL  work_phone  phone  email  \\\n",
              "0      -13899          -4709           1           0      0      0   \n",
              "1      -11380          -1540           1           0      0      1   \n",
              "2      -19087          -4434           1           0      1      0   \n",
              "3      -15088          -2092           1           0      1      0   \n",
              "4      -15037          -2105           1           0      0      0   \n",
              "\n",
              "    occyp_type  family_size  begin_month  credit  \n",
              "0          NaN          2.0         -6.0     1.0  \n",
              "1     Laborers          3.0         -5.0     1.0  \n",
              "2     Managers          2.0        -22.0     2.0  \n",
              "3  Sales staff          2.0        -37.0     0.0  \n",
              "4     Managers          2.0        -26.0     2.0  "
            ]
          },
          "execution_count": 2,
          "metadata": {},
          "output_type": "execute_result"
        }
      ],
      "source": [
        "# 데이터프레임 5개의 행 출력\n",
        "credit_df.head(5)"
      ]
    },
    {
      "cell_type": "markdown",
      "metadata": {
        "id": "fZ9XaYW40Dd8"
      },
      "source": [
        ">**Inst.**  \n",
        "- head() 메서드는 데이터프레임(DataFrame)의 첫 번째부터 지정된 개수의 행(row)을 반환하는 메서드입니다.\n",
        "- head() 메서드는 상위 일부 행을 확인하고 데이터의 구조와 내용을 파악하는 데 사용되는데,\n",
        "특히 큰 데이터프레임이나 데이터셋에서 데이터의 형태를 파악하고자 할 때 주로 사용합니다.\n",
        "\n",
        ">**결과 해석**  \n",
        "- head()의 default는 5이며, credit_df.head()를 입력하면 5개의 행이 출력됩니다.\n",
        "\n",
        "\n",
        "\n",
        "\n",
        "\n",
        "\n"
      ]
    },
    {
      "cell_type": "code",
      "execution_count": null,
      "metadata": {
        "colab": {
          "base_uri": "https://localhost:8080/",
          "height": 206
        },
        "id": "I1dYXAKqtX6k",
        "outputId": "83a84bcc-e1bc-4be4-ca88-e17df19c28d9"
      },
      "outputs": [
        {
          "data": {
            "text/html": [
              "\n",
              "  <div id=\"df-e9770107-e1ca-4c3a-bdee-403f6ceecfde\" class=\"colab-df-container\">\n",
              "    <div>\n",
              "<style scoped>\n",
              "    .dataframe tbody tr th:only-of-type {\n",
              "        vertical-align: middle;\n",
              "    }\n",
              "\n",
              "    .dataframe tbody tr th {\n",
              "        vertical-align: top;\n",
              "    }\n",
              "\n",
              "    .dataframe thead th {\n",
              "        text-align: right;\n",
              "    }\n",
              "</style>\n",
              "<table border=\"1\" class=\"dataframe\">\n",
              "  <thead>\n",
              "    <tr style=\"text-align: right;\">\n",
              "      <th></th>\n",
              "      <th>index</th>\n",
              "      <th>0</th>\n",
              "      <th>1</th>\n",
              "      <th>2</th>\n",
              "    </tr>\n",
              "  </thead>\n",
              "  <tbody>\n",
              "    <tr>\n",
              "      <th>0</th>\n",
              "      <td>26457</td>\n",
              "      <td>0</td>\n",
              "      <td>0</td>\n",
              "      <td>0</td>\n",
              "    </tr>\n",
              "    <tr>\n",
              "      <th>1</th>\n",
              "      <td>26458</td>\n",
              "      <td>0</td>\n",
              "      <td>0</td>\n",
              "      <td>0</td>\n",
              "    </tr>\n",
              "    <tr>\n",
              "      <th>2</th>\n",
              "      <td>26459</td>\n",
              "      <td>0</td>\n",
              "      <td>0</td>\n",
              "      <td>0</td>\n",
              "    </tr>\n",
              "    <tr>\n",
              "      <th>3</th>\n",
              "      <td>26460</td>\n",
              "      <td>0</td>\n",
              "      <td>0</td>\n",
              "      <td>0</td>\n",
              "    </tr>\n",
              "    <tr>\n",
              "      <th>4</th>\n",
              "      <td>26461</td>\n",
              "      <td>0</td>\n",
              "      <td>0</td>\n",
              "      <td>0</td>\n",
              "    </tr>\n",
              "  </tbody>\n",
              "</table>\n",
              "</div>\n",
              "    <div class=\"colab-df-buttons\">\n",
              "\n",
              "  <div class=\"colab-df-container\">\n",
              "    <button class=\"colab-df-convert\" onclick=\"convertToInteractive('df-e9770107-e1ca-4c3a-bdee-403f6ceecfde')\"\n",
              "            title=\"Convert this dataframe to an interactive table.\"\n",
              "            style=\"display:none;\">\n",
              "\n",
              "  <svg xmlns=\"http://www.w3.org/2000/svg\" height=\"24px\" viewBox=\"0 -960 960 960\">\n",
              "    <path d=\"M120-120v-720h720v720H120Zm60-500h600v-160H180v160Zm220 220h160v-160H400v160Zm0 220h160v-160H400v160ZM180-400h160v-160H180v160Zm440 0h160v-160H620v160ZM180-180h160v-160H180v160Zm440 0h160v-160H620v160Z\"/>\n",
              "  </svg>\n",
              "    </button>\n",
              "\n",
              "  <style>\n",
              "    .colab-df-container {\n",
              "      display:flex;\n",
              "      gap: 12px;\n",
              "    }\n",
              "\n",
              "    .colab-df-convert {\n",
              "      background-color: #E8F0FE;\n",
              "      border: none;\n",
              "      border-radius: 50%;\n",
              "      cursor: pointer;\n",
              "      display: none;\n",
              "      fill: #1967D2;\n",
              "      height: 32px;\n",
              "      padding: 0 0 0 0;\n",
              "      width: 32px;\n",
              "    }\n",
              "\n",
              "    .colab-df-convert:hover {\n",
              "      background-color: #E2EBFA;\n",
              "      box-shadow: 0px 1px 2px rgba(60, 64, 67, 0.3), 0px 1px 3px 1px rgba(60, 64, 67, 0.15);\n",
              "      fill: #174EA6;\n",
              "    }\n",
              "\n",
              "    .colab-df-buttons div {\n",
              "      margin-bottom: 4px;\n",
              "    }\n",
              "\n",
              "    [theme=dark] .colab-df-convert {\n",
              "      background-color: #3B4455;\n",
              "      fill: #D2E3FC;\n",
              "    }\n",
              "\n",
              "    [theme=dark] .colab-df-convert:hover {\n",
              "      background-color: #434B5C;\n",
              "      box-shadow: 0px 1px 3px 1px rgba(0, 0, 0, 0.15);\n",
              "      filter: drop-shadow(0px 1px 2px rgba(0, 0, 0, 0.3));\n",
              "      fill: #FFFFFF;\n",
              "    }\n",
              "  </style>\n",
              "\n",
              "    <script>\n",
              "      const buttonEl =\n",
              "        document.querySelector('#df-e9770107-e1ca-4c3a-bdee-403f6ceecfde button.colab-df-convert');\n",
              "      buttonEl.style.display =\n",
              "        google.colab.kernel.accessAllowed ? 'block' : 'none';\n",
              "\n",
              "      async function convertToInteractive(key) {\n",
              "        const element = document.querySelector('#df-e9770107-e1ca-4c3a-bdee-403f6ceecfde');\n",
              "        const dataTable =\n",
              "          await google.colab.kernel.invokeFunction('convertToInteractive',\n",
              "                                                    [key], {});\n",
              "        if (!dataTable) return;\n",
              "\n",
              "        const docLinkHtml = 'Like what you see? Visit the ' +\n",
              "          '<a target=\"_blank\" href=https://colab.research.google.com/notebooks/data_table.ipynb>data table notebook</a>'\n",
              "          + ' to learn more about interactive tables.';\n",
              "        element.innerHTML = '';\n",
              "        dataTable['output_type'] = 'display_data';\n",
              "        await google.colab.output.renderOutput(dataTable, element);\n",
              "        const docLink = document.createElement('div');\n",
              "        docLink.innerHTML = docLinkHtml;\n",
              "        element.appendChild(docLink);\n",
              "      }\n",
              "    </script>\n",
              "  </div>\n",
              "\n",
              "\n",
              "<div id=\"df-07d04c9e-595b-4d31-9259-d913fc78e14f\">\n",
              "  <button class=\"colab-df-quickchart\" onclick=\"quickchart('df-07d04c9e-595b-4d31-9259-d913fc78e14f')\"\n",
              "            title=\"Suggest charts.\"\n",
              "            style=\"display:none;\">\n",
              "\n",
              "<svg xmlns=\"http://www.w3.org/2000/svg\" height=\"24px\"viewBox=\"0 0 24 24\"\n",
              "     width=\"24px\">\n",
              "    <g>\n",
              "        <path d=\"M19 3H5c-1.1 0-2 .9-2 2v14c0 1.1.9 2 2 2h14c1.1 0 2-.9 2-2V5c0-1.1-.9-2-2-2zM9 17H7v-7h2v7zm4 0h-2V7h2v10zm4 0h-2v-4h2v4z\"/>\n",
              "    </g>\n",
              "</svg>\n",
              "  </button>\n",
              "\n",
              "<style>\n",
              "  .colab-df-quickchart {\n",
              "      --bg-color: #E8F0FE;\n",
              "      --fill-color: #1967D2;\n",
              "      --hover-bg-color: #E2EBFA;\n",
              "      --hover-fill-color: #174EA6;\n",
              "      --disabled-fill-color: #AAA;\n",
              "      --disabled-bg-color: #DDD;\n",
              "  }\n",
              "\n",
              "  [theme=dark] .colab-df-quickchart {\n",
              "      --bg-color: #3B4455;\n",
              "      --fill-color: #D2E3FC;\n",
              "      --hover-bg-color: #434B5C;\n",
              "      --hover-fill-color: #FFFFFF;\n",
              "      --disabled-bg-color: #3B4455;\n",
              "      --disabled-fill-color: #666;\n",
              "  }\n",
              "\n",
              "  .colab-df-quickchart {\n",
              "    background-color: var(--bg-color);\n",
              "    border: none;\n",
              "    border-radius: 50%;\n",
              "    cursor: pointer;\n",
              "    display: none;\n",
              "    fill: var(--fill-color);\n",
              "    height: 32px;\n",
              "    padding: 0;\n",
              "    width: 32px;\n",
              "  }\n",
              "\n",
              "  .colab-df-quickchart:hover {\n",
              "    background-color: var(--hover-bg-color);\n",
              "    box-shadow: 0 1px 2px rgba(60, 64, 67, 0.3), 0 1px 3px 1px rgba(60, 64, 67, 0.15);\n",
              "    fill: var(--button-hover-fill-color);\n",
              "  }\n",
              "\n",
              "  .colab-df-quickchart-complete:disabled,\n",
              "  .colab-df-quickchart-complete:disabled:hover {\n",
              "    background-color: var(--disabled-bg-color);\n",
              "    fill: var(--disabled-fill-color);\n",
              "    box-shadow: none;\n",
              "  }\n",
              "\n",
              "  .colab-df-spinner {\n",
              "    border: 2px solid var(--fill-color);\n",
              "    border-color: transparent;\n",
              "    border-bottom-color: var(--fill-color);\n",
              "    animation:\n",
              "      spin 1s steps(1) infinite;\n",
              "  }\n",
              "\n",
              "  @keyframes spin {\n",
              "    0% {\n",
              "      border-color: transparent;\n",
              "      border-bottom-color: var(--fill-color);\n",
              "      border-left-color: var(--fill-color);\n",
              "    }\n",
              "    20% {\n",
              "      border-color: transparent;\n",
              "      border-left-color: var(--fill-color);\n",
              "      border-top-color: var(--fill-color);\n",
              "    }\n",
              "    30% {\n",
              "      border-color: transparent;\n",
              "      border-left-color: var(--fill-color);\n",
              "      border-top-color: var(--fill-color);\n",
              "      border-right-color: var(--fill-color);\n",
              "    }\n",
              "    40% {\n",
              "      border-color: transparent;\n",
              "      border-right-color: var(--fill-color);\n",
              "      border-top-color: var(--fill-color);\n",
              "    }\n",
              "    60% {\n",
              "      border-color: transparent;\n",
              "      border-right-color: var(--fill-color);\n",
              "    }\n",
              "    80% {\n",
              "      border-color: transparent;\n",
              "      border-right-color: var(--fill-color);\n",
              "      border-bottom-color: var(--fill-color);\n",
              "    }\n",
              "    90% {\n",
              "      border-color: transparent;\n",
              "      border-bottom-color: var(--fill-color);\n",
              "    }\n",
              "  }\n",
              "</style>\n",
              "\n",
              "  <script>\n",
              "    async function quickchart(key) {\n",
              "      const quickchartButtonEl =\n",
              "        document.querySelector('#' + key + ' button');\n",
              "      quickchartButtonEl.disabled = true;  // To prevent multiple clicks.\n",
              "      quickchartButtonEl.classList.add('colab-df-spinner');\n",
              "      try {\n",
              "        const charts = await google.colab.kernel.invokeFunction(\n",
              "            'suggestCharts', [key], {});\n",
              "      } catch (error) {\n",
              "        console.error('Error during call to suggestCharts:', error);\n",
              "      }\n",
              "      quickchartButtonEl.classList.remove('colab-df-spinner');\n",
              "      quickchartButtonEl.classList.add('colab-df-quickchart-complete');\n",
              "    }\n",
              "    (() => {\n",
              "      let quickchartButtonEl =\n",
              "        document.querySelector('#df-07d04c9e-595b-4d31-9259-d913fc78e14f button');\n",
              "      quickchartButtonEl.style.display =\n",
              "        google.colab.kernel.accessAllowed ? 'block' : 'none';\n",
              "    })();\n",
              "  </script>\n",
              "</div>\n",
              "    </div>\n",
              "  </div>\n"
            ],
            "text/plain": [
              "   index  0  1  2\n",
              "0  26457  0  0  0\n",
              "1  26458  0  0  0\n",
              "2  26459  0  0  0\n",
              "3  26460  0  0  0\n",
              "4  26461  0  0  0"
            ]
          },
          "execution_count": 3,
          "metadata": {},
          "output_type": "execute_result"
        }
      ],
      "source": [
        "submission.head()"
      ]
    },
    {
      "cell_type": "markdown",
      "metadata": {
        "id": "DVawntZjteJa"
      },
      "source": [
        "제출할 submission 데이터는 index와 credit칼럼(column)으로 이루어져 있습니다.\n",
        "그러나 모든 credit 데이터가 0으로 이루어져 있기 때문에,\n",
        "이번 프로젝트에서는 각 index에 따른 신용도를 예측하는 문제 임을 알 수 있습니다.\n",
        "따라서, 예측된 신용도를 credit의 값을 모두 채우면 됩니다.\n",
        "\n",
        "이를 위해 모델링을 통해 각 index에 따른 신용도를 예측하고,\n",
        "이를 credit 칼럼에 대입하여 최종적인 submission 데이터를 생성합니다.\n",
        "\n",
        "[sample_submission.csv]\n",
        "\n",
        "- index: 고객별 고유 id\n",
        "- credit: 고객의 신용도"
      ]
    },
    {
      "cell_type": "code",
      "execution_count": null,
      "metadata": {
        "colab": {
          "base_uri": "https://localhost:8080/"
        },
        "id": "xeQs4dbfPByV",
        "outputId": "e17085d4-167a-40f5-cec1-425baae2e615"
      },
      "outputs": [
        {
          "name": "stdout",
          "output_type": "stream",
          "text": [
            "DataFrame 크기:  (26457, 20)\n"
          ]
        }
      ],
      "source": [
        "# 데이터프레임 행, 열 개수 확인\n",
        "print('DataFrame 크기: ', credit_df.shape)"
      ]
    },
    {
      "cell_type": "markdown",
      "metadata": {
        "id": "hTUOdI6hUfjr"
      },
      "source": [
        ">**Inst.**\n",
        "- pandas의 shape를 통해 데이터프레임의 행/열의 개수를 확인할 수 있습니다.\n",
        "\n",
        "\n",
        ">**결과 해석**\n",
        "- 데이터프레임의 행, 열의 개수가 tuple의 형태로 출력됩니다.\n",
        "- credit_df은 26457개의 행과 20개의 열로 구성되어 있습니다"
      ]
    },
    {
      "cell_type": "code",
      "execution_count": null,
      "metadata": {
        "colab": {
          "base_uri": "https://localhost:8080/"
        },
        "id": "WEEkbEW42BxT",
        "outputId": "422051b7-94d7-4feb-e292-b013e3778f3e"
      },
      "outputs": [
        {
          "data": {
            "text/plain": [
              "index               0\n",
              "gender              0\n",
              "car                 0\n",
              "reality             0\n",
              "child_num           0\n",
              "income_total        0\n",
              "income_type         0\n",
              "edu_type            0\n",
              "family_type         0\n",
              "house_type          0\n",
              "DAYS_BIRTH          0\n",
              "DAYS_EMPLOYED       0\n",
              "FLAG_MOBIL          0\n",
              "work_phone          0\n",
              "phone               0\n",
              "email               0\n",
              "occyp_type       8171\n",
              "family_size         0\n",
              "begin_month         0\n",
              "credit              0\n",
              "dtype: int64"
            ]
          },
          "execution_count": 5,
          "metadata": {},
          "output_type": "execute_result"
        }
      ],
      "source": [
        "# 결측 데이터 확인\n",
        "credit_df.isnull().sum()"
      ]
    },
    {
      "cell_type": "markdown",
      "metadata": {
        "id": "ggvEeV2SWM74"
      },
      "source": [
        ">**Inst.**  \n",
        "- 주어진 데이터프레임 credit_df 내의 각 열(column)마다 결측값(missing value)의 개수를 확인하는 코드입니다.\n",
        "- 결측값이란 데이터가 누락되어 비어있거나 제대로 기록되지 않은 값을 의미합니다.\n",
        "\n",
        ">**결과 해석**  \n",
        "- occyp_type에 8171개의 결측값이 있는 것을 확인할 수 있습니다.\n",
        "- 이 정보를 활용하여 데이터의 결측값 상황을 이해하고, 이후 데이터 전처리나 분석 작업에서 결측값을 처리하거나 활용할 수 있습니다."
      ]
    },
    {
      "cell_type": "code",
      "execution_count": null,
      "metadata": {
        "colab": {
          "base_uri": "https://localhost:8080/"
        },
        "id": "cdCTsO8pPTYj",
        "outputId": "f22bc532-1445-40f8-e463-2c91d78b82c9"
      },
      "outputs": [
        {
          "name": "stdout",
          "output_type": "stream",
          "text": [
            "\n",
            "credit 데이터 정보\n",
            "\n",
            "<class 'pandas.core.frame.DataFrame'>\n",
            "RangeIndex: 26457 entries, 0 to 26456\n",
            "Data columns (total 20 columns):\n",
            " #   Column         Non-Null Count  Dtype  \n",
            "---  ------         --------------  -----  \n",
            " 0   index          26457 non-null  int64  \n",
            " 1   gender         26457 non-null  object \n",
            " 2   car            26457 non-null  object \n",
            " 3   reality        26457 non-null  object \n",
            " 4   child_num      26457 non-null  int64  \n",
            " 5   income_total   26457 non-null  float64\n",
            " 6   income_type    26457 non-null  object \n",
            " 7   edu_type       26457 non-null  object \n",
            " 8   family_type    26457 non-null  object \n",
            " 9   house_type     26457 non-null  object \n",
            " 10  DAYS_BIRTH     26457 non-null  int64  \n",
            " 11  DAYS_EMPLOYED  26457 non-null  int64  \n",
            " 12  FLAG_MOBIL     26457 non-null  int64  \n",
            " 13  work_phone     26457 non-null  int64  \n",
            " 14  phone          26457 non-null  int64  \n",
            " 15  email          26457 non-null  int64  \n",
            " 16  occyp_type     18286 non-null  object \n",
            " 17  family_size    26457 non-null  float64\n",
            " 18  begin_month    26457 non-null  float64\n",
            " 19  credit         26457 non-null  float64\n",
            "dtypes: float64(4), int64(8), object(8)\n",
            "memory usage: 4.0+ MB\n",
            "None\n"
          ]
        }
      ],
      "source": [
        "# 데이터 타입\n",
        "print('\\ncredit 데이터 정보\\n')\n",
        "print(credit_df.info())"
      ]
    },
    {
      "cell_type": "markdown",
      "metadata": {
        "id": "Kd-kIEQsboaJ"
      },
      "source": [
        ">**Inst.**  \n",
        "> info() 함수는 데이터프레임의 각 열에 대한 정보를 제공합니다. 주로 다음과 같은 정보를 포함합니다:\n",
        "- 열 이름 (컬럼 이름)\n",
        "- 열 데이터의 총 개수 (Non-null 값 개수)\n",
        "- 열 데이터 타입\n",
        "- 메모리 사용량\n",
        "\n",
        ">**결과 해석**  \n",
        "- 출력에서 int64, float64, object는 각 열의 데이터 타입을 나타냅니다.\n",
        "- memory usage는 해당 데이터프레임이 사용하는 메모리 양을 메가바이트(MB) 단위로 표시합니다.\n",
        "- 이 정보를 통해 데이터프레임의 열들이 어떤 데이터 타입으로 구성되어 있는지, 결측치가 있는지 여부, 메모리 사용량 등을 파악할 수 있습니다."
      ]
    },
    {
      "cell_type": "code",
      "execution_count": null,
      "metadata": {
        "colab": {
          "base_uri": "https://localhost:8080/",
          "height": 425
        },
        "id": "ah-0A5nXPdqz",
        "outputId": "749327c8-882c-4651-835f-275db01d5e00"
      },
      "outputs": [
        {
          "data": {
            "text/html": [
              "\n",
              "  <div id=\"df-84465427-3af7-4428-adf4-8d6a0a4bcfa1\" class=\"colab-df-container\">\n",
              "    <div>\n",
              "<style scoped>\n",
              "    .dataframe tbody tr th:only-of-type {\n",
              "        vertical-align: middle;\n",
              "    }\n",
              "\n",
              "    .dataframe tbody tr th {\n",
              "        vertical-align: top;\n",
              "    }\n",
              "\n",
              "    .dataframe thead th {\n",
              "        text-align: right;\n",
              "    }\n",
              "</style>\n",
              "<table border=\"1\" class=\"dataframe\">\n",
              "  <thead>\n",
              "    <tr style=\"text-align: right;\">\n",
              "      <th></th>\n",
              "      <th>count</th>\n",
              "      <th>mean</th>\n",
              "      <th>std</th>\n",
              "      <th>min</th>\n",
              "      <th>25%</th>\n",
              "      <th>50%</th>\n",
              "      <th>75%</th>\n",
              "      <th>max</th>\n",
              "    </tr>\n",
              "  </thead>\n",
              "  <tbody>\n",
              "    <tr>\n",
              "      <th>index</th>\n",
              "      <td>26457.0</td>\n",
              "      <td>13228.000000</td>\n",
              "      <td>7637.622372</td>\n",
              "      <td>0.0</td>\n",
              "      <td>6614.0</td>\n",
              "      <td>13228.0</td>\n",
              "      <td>19842.0</td>\n",
              "      <td>26456.0</td>\n",
              "    </tr>\n",
              "    <tr>\n",
              "      <th>child_num</th>\n",
              "      <td>26457.0</td>\n",
              "      <td>0.428658</td>\n",
              "      <td>0.747326</td>\n",
              "      <td>0.0</td>\n",
              "      <td>0.0</td>\n",
              "      <td>0.0</td>\n",
              "      <td>1.0</td>\n",
              "      <td>19.0</td>\n",
              "    </tr>\n",
              "    <tr>\n",
              "      <th>income_total</th>\n",
              "      <td>26457.0</td>\n",
              "      <td>187306.524493</td>\n",
              "      <td>101878.367995</td>\n",
              "      <td>27000.0</td>\n",
              "      <td>121500.0</td>\n",
              "      <td>157500.0</td>\n",
              "      <td>225000.0</td>\n",
              "      <td>1575000.0</td>\n",
              "    </tr>\n",
              "    <tr>\n",
              "      <th>DAYS_BIRTH</th>\n",
              "      <td>26457.0</td>\n",
              "      <td>-15958.053899</td>\n",
              "      <td>4201.589022</td>\n",
              "      <td>-25152.0</td>\n",
              "      <td>-19431.0</td>\n",
              "      <td>-15547.0</td>\n",
              "      <td>-12446.0</td>\n",
              "      <td>-7705.0</td>\n",
              "    </tr>\n",
              "    <tr>\n",
              "      <th>DAYS_EMPLOYED</th>\n",
              "      <td>26457.0</td>\n",
              "      <td>59068.750728</td>\n",
              "      <td>137475.427503</td>\n",
              "      <td>-15713.0</td>\n",
              "      <td>-3153.0</td>\n",
              "      <td>-1539.0</td>\n",
              "      <td>-407.0</td>\n",
              "      <td>365243.0</td>\n",
              "    </tr>\n",
              "    <tr>\n",
              "      <th>FLAG_MOBIL</th>\n",
              "      <td>26457.0</td>\n",
              "      <td>1.000000</td>\n",
              "      <td>0.000000</td>\n",
              "      <td>1.0</td>\n",
              "      <td>1.0</td>\n",
              "      <td>1.0</td>\n",
              "      <td>1.0</td>\n",
              "      <td>1.0</td>\n",
              "    </tr>\n",
              "    <tr>\n",
              "      <th>work_phone</th>\n",
              "      <td>26457.0</td>\n",
              "      <td>0.224742</td>\n",
              "      <td>0.417420</td>\n",
              "      <td>0.0</td>\n",
              "      <td>0.0</td>\n",
              "      <td>0.0</td>\n",
              "      <td>0.0</td>\n",
              "      <td>1.0</td>\n",
              "    </tr>\n",
              "    <tr>\n",
              "      <th>phone</th>\n",
              "      <td>26457.0</td>\n",
              "      <td>0.294251</td>\n",
              "      <td>0.455714</td>\n",
              "      <td>0.0</td>\n",
              "      <td>0.0</td>\n",
              "      <td>0.0</td>\n",
              "      <td>1.0</td>\n",
              "      <td>1.0</td>\n",
              "    </tr>\n",
              "    <tr>\n",
              "      <th>email</th>\n",
              "      <td>26457.0</td>\n",
              "      <td>0.091280</td>\n",
              "      <td>0.288013</td>\n",
              "      <td>0.0</td>\n",
              "      <td>0.0</td>\n",
              "      <td>0.0</td>\n",
              "      <td>0.0</td>\n",
              "      <td>1.0</td>\n",
              "    </tr>\n",
              "    <tr>\n",
              "      <th>family_size</th>\n",
              "      <td>26457.0</td>\n",
              "      <td>2.196848</td>\n",
              "      <td>0.916717</td>\n",
              "      <td>1.0</td>\n",
              "      <td>2.0</td>\n",
              "      <td>2.0</td>\n",
              "      <td>3.0</td>\n",
              "      <td>20.0</td>\n",
              "    </tr>\n",
              "    <tr>\n",
              "      <th>begin_month</th>\n",
              "      <td>26457.0</td>\n",
              "      <td>-26.123294</td>\n",
              "      <td>16.559550</td>\n",
              "      <td>-60.0</td>\n",
              "      <td>-39.0</td>\n",
              "      <td>-24.0</td>\n",
              "      <td>-12.0</td>\n",
              "      <td>0.0</td>\n",
              "    </tr>\n",
              "    <tr>\n",
              "      <th>credit</th>\n",
              "      <td>26457.0</td>\n",
              "      <td>1.519560</td>\n",
              "      <td>0.702283</td>\n",
              "      <td>0.0</td>\n",
              "      <td>1.0</td>\n",
              "      <td>2.0</td>\n",
              "      <td>2.0</td>\n",
              "      <td>2.0</td>\n",
              "    </tr>\n",
              "  </tbody>\n",
              "</table>\n",
              "</div>\n",
              "    <div class=\"colab-df-buttons\">\n",
              "\n",
              "  <div class=\"colab-df-container\">\n",
              "    <button class=\"colab-df-convert\" onclick=\"convertToInteractive('df-84465427-3af7-4428-adf4-8d6a0a4bcfa1')\"\n",
              "            title=\"Convert this dataframe to an interactive table.\"\n",
              "            style=\"display:none;\">\n",
              "\n",
              "  <svg xmlns=\"http://www.w3.org/2000/svg\" height=\"24px\" viewBox=\"0 -960 960 960\">\n",
              "    <path d=\"M120-120v-720h720v720H120Zm60-500h600v-160H180v160Zm220 220h160v-160H400v160Zm0 220h160v-160H400v160ZM180-400h160v-160H180v160Zm440 0h160v-160H620v160ZM180-180h160v-160H180v160Zm440 0h160v-160H620v160Z\"/>\n",
              "  </svg>\n",
              "    </button>\n",
              "\n",
              "  <style>\n",
              "    .colab-df-container {\n",
              "      display:flex;\n",
              "      gap: 12px;\n",
              "    }\n",
              "\n",
              "    .colab-df-convert {\n",
              "      background-color: #E8F0FE;\n",
              "      border: none;\n",
              "      border-radius: 50%;\n",
              "      cursor: pointer;\n",
              "      display: none;\n",
              "      fill: #1967D2;\n",
              "      height: 32px;\n",
              "      padding: 0 0 0 0;\n",
              "      width: 32px;\n",
              "    }\n",
              "\n",
              "    .colab-df-convert:hover {\n",
              "      background-color: #E2EBFA;\n",
              "      box-shadow: 0px 1px 2px rgba(60, 64, 67, 0.3), 0px 1px 3px 1px rgba(60, 64, 67, 0.15);\n",
              "      fill: #174EA6;\n",
              "    }\n",
              "\n",
              "    .colab-df-buttons div {\n",
              "      margin-bottom: 4px;\n",
              "    }\n",
              "\n",
              "    [theme=dark] .colab-df-convert {\n",
              "      background-color: #3B4455;\n",
              "      fill: #D2E3FC;\n",
              "    }\n",
              "\n",
              "    [theme=dark] .colab-df-convert:hover {\n",
              "      background-color: #434B5C;\n",
              "      box-shadow: 0px 1px 3px 1px rgba(0, 0, 0, 0.15);\n",
              "      filter: drop-shadow(0px 1px 2px rgba(0, 0, 0, 0.3));\n",
              "      fill: #FFFFFF;\n",
              "    }\n",
              "  </style>\n",
              "\n",
              "    <script>\n",
              "      const buttonEl =\n",
              "        document.querySelector('#df-84465427-3af7-4428-adf4-8d6a0a4bcfa1 button.colab-df-convert');\n",
              "      buttonEl.style.display =\n",
              "        google.colab.kernel.accessAllowed ? 'block' : 'none';\n",
              "\n",
              "      async function convertToInteractive(key) {\n",
              "        const element = document.querySelector('#df-84465427-3af7-4428-adf4-8d6a0a4bcfa1');\n",
              "        const dataTable =\n",
              "          await google.colab.kernel.invokeFunction('convertToInteractive',\n",
              "                                                    [key], {});\n",
              "        if (!dataTable) return;\n",
              "\n",
              "        const docLinkHtml = 'Like what you see? Visit the ' +\n",
              "          '<a target=\"_blank\" href=https://colab.research.google.com/notebooks/data_table.ipynb>data table notebook</a>'\n",
              "          + ' to learn more about interactive tables.';\n",
              "        element.innerHTML = '';\n",
              "        dataTable['output_type'] = 'display_data';\n",
              "        await google.colab.output.renderOutput(dataTable, element);\n",
              "        const docLink = document.createElement('div');\n",
              "        docLink.innerHTML = docLinkHtml;\n",
              "        element.appendChild(docLink);\n",
              "      }\n",
              "    </script>\n",
              "  </div>\n",
              "\n",
              "\n",
              "<div id=\"df-5c3ea5e9-c6c3-4cbc-ab62-3f6c5353fab5\">\n",
              "  <button class=\"colab-df-quickchart\" onclick=\"quickchart('df-5c3ea5e9-c6c3-4cbc-ab62-3f6c5353fab5')\"\n",
              "            title=\"Suggest charts.\"\n",
              "            style=\"display:none;\">\n",
              "\n",
              "<svg xmlns=\"http://www.w3.org/2000/svg\" height=\"24px\"viewBox=\"0 0 24 24\"\n",
              "     width=\"24px\">\n",
              "    <g>\n",
              "        <path d=\"M19 3H5c-1.1 0-2 .9-2 2v14c0 1.1.9 2 2 2h14c1.1 0 2-.9 2-2V5c0-1.1-.9-2-2-2zM9 17H7v-7h2v7zm4 0h-2V7h2v10zm4 0h-2v-4h2v4z\"/>\n",
              "    </g>\n",
              "</svg>\n",
              "  </button>\n",
              "\n",
              "<style>\n",
              "  .colab-df-quickchart {\n",
              "      --bg-color: #E8F0FE;\n",
              "      --fill-color: #1967D2;\n",
              "      --hover-bg-color: #E2EBFA;\n",
              "      --hover-fill-color: #174EA6;\n",
              "      --disabled-fill-color: #AAA;\n",
              "      --disabled-bg-color: #DDD;\n",
              "  }\n",
              "\n",
              "  [theme=dark] .colab-df-quickchart {\n",
              "      --bg-color: #3B4455;\n",
              "      --fill-color: #D2E3FC;\n",
              "      --hover-bg-color: #434B5C;\n",
              "      --hover-fill-color: #FFFFFF;\n",
              "      --disabled-bg-color: #3B4455;\n",
              "      --disabled-fill-color: #666;\n",
              "  }\n",
              "\n",
              "  .colab-df-quickchart {\n",
              "    background-color: var(--bg-color);\n",
              "    border: none;\n",
              "    border-radius: 50%;\n",
              "    cursor: pointer;\n",
              "    display: none;\n",
              "    fill: var(--fill-color);\n",
              "    height: 32px;\n",
              "    padding: 0;\n",
              "    width: 32px;\n",
              "  }\n",
              "\n",
              "  .colab-df-quickchart:hover {\n",
              "    background-color: var(--hover-bg-color);\n",
              "    box-shadow: 0 1px 2px rgba(60, 64, 67, 0.3), 0 1px 3px 1px rgba(60, 64, 67, 0.15);\n",
              "    fill: var(--button-hover-fill-color);\n",
              "  }\n",
              "\n",
              "  .colab-df-quickchart-complete:disabled,\n",
              "  .colab-df-quickchart-complete:disabled:hover {\n",
              "    background-color: var(--disabled-bg-color);\n",
              "    fill: var(--disabled-fill-color);\n",
              "    box-shadow: none;\n",
              "  }\n",
              "\n",
              "  .colab-df-spinner {\n",
              "    border: 2px solid var(--fill-color);\n",
              "    border-color: transparent;\n",
              "    border-bottom-color: var(--fill-color);\n",
              "    animation:\n",
              "      spin 1s steps(1) infinite;\n",
              "  }\n",
              "\n",
              "  @keyframes spin {\n",
              "    0% {\n",
              "      border-color: transparent;\n",
              "      border-bottom-color: var(--fill-color);\n",
              "      border-left-color: var(--fill-color);\n",
              "    }\n",
              "    20% {\n",
              "      border-color: transparent;\n",
              "      border-left-color: var(--fill-color);\n",
              "      border-top-color: var(--fill-color);\n",
              "    }\n",
              "    30% {\n",
              "      border-color: transparent;\n",
              "      border-left-color: var(--fill-color);\n",
              "      border-top-color: var(--fill-color);\n",
              "      border-right-color: var(--fill-color);\n",
              "    }\n",
              "    40% {\n",
              "      border-color: transparent;\n",
              "      border-right-color: var(--fill-color);\n",
              "      border-top-color: var(--fill-color);\n",
              "    }\n",
              "    60% {\n",
              "      border-color: transparent;\n",
              "      border-right-color: var(--fill-color);\n",
              "    }\n",
              "    80% {\n",
              "      border-color: transparent;\n",
              "      border-right-color: var(--fill-color);\n",
              "      border-bottom-color: var(--fill-color);\n",
              "    }\n",
              "    90% {\n",
              "      border-color: transparent;\n",
              "      border-bottom-color: var(--fill-color);\n",
              "    }\n",
              "  }\n",
              "</style>\n",
              "\n",
              "  <script>\n",
              "    async function quickchart(key) {\n",
              "      const quickchartButtonEl =\n",
              "        document.querySelector('#' + key + ' button');\n",
              "      quickchartButtonEl.disabled = true;  // To prevent multiple clicks.\n",
              "      quickchartButtonEl.classList.add('colab-df-spinner');\n",
              "      try {\n",
              "        const charts = await google.colab.kernel.invokeFunction(\n",
              "            'suggestCharts', [key], {});\n",
              "      } catch (error) {\n",
              "        console.error('Error during call to suggestCharts:', error);\n",
              "      }\n",
              "      quickchartButtonEl.classList.remove('colab-df-spinner');\n",
              "      quickchartButtonEl.classList.add('colab-df-quickchart-complete');\n",
              "    }\n",
              "    (() => {\n",
              "      let quickchartButtonEl =\n",
              "        document.querySelector('#df-5c3ea5e9-c6c3-4cbc-ab62-3f6c5353fab5 button');\n",
              "      quickchartButtonEl.style.display =\n",
              "        google.colab.kernel.accessAllowed ? 'block' : 'none';\n",
              "    })();\n",
              "  </script>\n",
              "</div>\n",
              "    </div>\n",
              "  </div>\n"
            ],
            "text/plain": [
              "                 count           mean            std      min       25%  \\\n",
              "index          26457.0   13228.000000    7637.622372      0.0    6614.0   \n",
              "child_num      26457.0       0.428658       0.747326      0.0       0.0   \n",
              "income_total   26457.0  187306.524493  101878.367995  27000.0  121500.0   \n",
              "DAYS_BIRTH     26457.0  -15958.053899    4201.589022 -25152.0  -19431.0   \n",
              "DAYS_EMPLOYED  26457.0   59068.750728  137475.427503 -15713.0   -3153.0   \n",
              "FLAG_MOBIL     26457.0       1.000000       0.000000      1.0       1.0   \n",
              "work_phone     26457.0       0.224742       0.417420      0.0       0.0   \n",
              "phone          26457.0       0.294251       0.455714      0.0       0.0   \n",
              "email          26457.0       0.091280       0.288013      0.0       0.0   \n",
              "family_size    26457.0       2.196848       0.916717      1.0       2.0   \n",
              "begin_month    26457.0     -26.123294      16.559550    -60.0     -39.0   \n",
              "credit         26457.0       1.519560       0.702283      0.0       1.0   \n",
              "\n",
              "                    50%       75%        max  \n",
              "index           13228.0   19842.0    26456.0  \n",
              "child_num           0.0       1.0       19.0  \n",
              "income_total   157500.0  225000.0  1575000.0  \n",
              "DAYS_BIRTH     -15547.0  -12446.0    -7705.0  \n",
              "DAYS_EMPLOYED   -1539.0    -407.0   365243.0  \n",
              "FLAG_MOBIL          1.0       1.0        1.0  \n",
              "work_phone          0.0       0.0        1.0  \n",
              "phone               0.0       1.0        1.0  \n",
              "email               0.0       0.0        1.0  \n",
              "family_size         2.0       3.0       20.0  \n",
              "begin_month       -24.0     -12.0        0.0  \n",
              "credit              2.0       2.0        2.0  "
            ]
          },
          "execution_count": 7,
          "metadata": {},
          "output_type": "execute_result"
        }
      ],
      "source": [
        "# 수치형 변수의 기술통계\n",
        "credit_df.describe().T"
      ]
    },
    {
      "cell_type": "markdown",
      "metadata": {
        "id": "M9Ac5_wQbyD3"
      },
      "source": [
        ">**Inst.**  \n",
        ">데이터프레임의 수치형 변수(숫자로 표현되는 변수)에 대한 기술 통계를 출력하는 메서드입니다. .T는 데이터프레임의 전치(transpose) 기능을 수행합니다.\n",
        "- 개수 (Count): 해당 열의 값이 총 몇 개인지를 나타냅니다.\n",
        "- 평균 (Mean): 해당 열의 값들의 평균을 나타냅니다.\n",
        "- 표준편차 (Standard Deviation): 해당 열의 값들의 분산의 제곱근으로, 데이터의 분산 정도를 나타냅니다.\n",
        "- 최소값 (Minimum): 해당 열의 값들 중에서 가장 작은 값을 나타냅니다.\n",
        "- 25% 분위수 (1st Quartile): 데이터를 작은 값부터 정렬했을 때 25% 위치에 있는 값을 나타냅니다.\n",
        "- 중간값 (Median): 데이터를 작은 값부터 정렬했을 때 중앙에 위치하는 값을 나타냅니다.\n",
        "- 75% 분위수 (3rd Quartile): 데이터를 작은 값부터 정렬했을 때 75% 위치에 있는 값을 나타냅니다.\n",
        "- 최대값 (Maximum): 해당 열의 값들 중에서 가장 큰 값을 나타냅니다.\n",
        "\n",
        ">**결과 해석**  \n",
        "- 수치형 변수의 분포와 중심 경향성, 데이터의 범위 등을 파악할 수 있습니다.\n",
        "- .T를 사용하여 데이터프레임의 행과 열이 바뀌어 출력됩니다.\n",
        ">>**전치 사용하는 이유**  \n",
        ">>가독성 향상: 특히 데이터프레임이 크거나 열이 많을 때, 데이터를 보기 쉽게 만들어줍니다. 열이 행으로 변하므로 긴 열명을 읽기 쉬운 행으로 바꿔줍니다.\n"
      ]
    },
    {
      "cell_type": "code",
      "execution_count": null,
      "metadata": {
        "colab": {
          "base_uri": "https://localhost:8080/",
          "height": 300
        },
        "id": "hcHaDbEssrET",
        "outputId": "24bc7af9-e5d2-4866-9613-632cb6688c1c"
      },
      "outputs": [
        {
          "data": {
            "text/html": [
              "\n",
              "  <div id=\"df-56020969-5fef-4bdb-a99e-59273513910c\" class=\"colab-df-container\">\n",
              "    <div>\n",
              "<style scoped>\n",
              "    .dataframe tbody tr th:only-of-type {\n",
              "        vertical-align: middle;\n",
              "    }\n",
              "\n",
              "    .dataframe tbody tr th {\n",
              "        vertical-align: top;\n",
              "    }\n",
              "\n",
              "    .dataframe thead th {\n",
              "        text-align: right;\n",
              "    }\n",
              "</style>\n",
              "<table border=\"1\" class=\"dataframe\">\n",
              "  <thead>\n",
              "    <tr style=\"text-align: right;\">\n",
              "      <th></th>\n",
              "      <th>count</th>\n",
              "      <th>unique</th>\n",
              "      <th>top</th>\n",
              "      <th>freq</th>\n",
              "    </tr>\n",
              "  </thead>\n",
              "  <tbody>\n",
              "    <tr>\n",
              "      <th>gender</th>\n",
              "      <td>26457</td>\n",
              "      <td>2</td>\n",
              "      <td>F</td>\n",
              "      <td>17697</td>\n",
              "    </tr>\n",
              "    <tr>\n",
              "      <th>car</th>\n",
              "      <td>26457</td>\n",
              "      <td>2</td>\n",
              "      <td>N</td>\n",
              "      <td>16410</td>\n",
              "    </tr>\n",
              "    <tr>\n",
              "      <th>reality</th>\n",
              "      <td>26457</td>\n",
              "      <td>2</td>\n",
              "      <td>Y</td>\n",
              "      <td>17830</td>\n",
              "    </tr>\n",
              "    <tr>\n",
              "      <th>income_type</th>\n",
              "      <td>26457</td>\n",
              "      <td>5</td>\n",
              "      <td>Working</td>\n",
              "      <td>13645</td>\n",
              "    </tr>\n",
              "    <tr>\n",
              "      <th>edu_type</th>\n",
              "      <td>26457</td>\n",
              "      <td>5</td>\n",
              "      <td>Secondary / secondary special</td>\n",
              "      <td>17995</td>\n",
              "    </tr>\n",
              "    <tr>\n",
              "      <th>family_type</th>\n",
              "      <td>26457</td>\n",
              "      <td>5</td>\n",
              "      <td>Married</td>\n",
              "      <td>18196</td>\n",
              "    </tr>\n",
              "    <tr>\n",
              "      <th>house_type</th>\n",
              "      <td>26457</td>\n",
              "      <td>6</td>\n",
              "      <td>House / apartment</td>\n",
              "      <td>23653</td>\n",
              "    </tr>\n",
              "    <tr>\n",
              "      <th>occyp_type</th>\n",
              "      <td>18286</td>\n",
              "      <td>18</td>\n",
              "      <td>Laborers</td>\n",
              "      <td>4512</td>\n",
              "    </tr>\n",
              "  </tbody>\n",
              "</table>\n",
              "</div>\n",
              "    <div class=\"colab-df-buttons\">\n",
              "\n",
              "  <div class=\"colab-df-container\">\n",
              "    <button class=\"colab-df-convert\" onclick=\"convertToInteractive('df-56020969-5fef-4bdb-a99e-59273513910c')\"\n",
              "            title=\"Convert this dataframe to an interactive table.\"\n",
              "            style=\"display:none;\">\n",
              "\n",
              "  <svg xmlns=\"http://www.w3.org/2000/svg\" height=\"24px\" viewBox=\"0 -960 960 960\">\n",
              "    <path d=\"M120-120v-720h720v720H120Zm60-500h600v-160H180v160Zm220 220h160v-160H400v160Zm0 220h160v-160H400v160ZM180-400h160v-160H180v160Zm440 0h160v-160H620v160ZM180-180h160v-160H180v160Zm440 0h160v-160H620v160Z\"/>\n",
              "  </svg>\n",
              "    </button>\n",
              "\n",
              "  <style>\n",
              "    .colab-df-container {\n",
              "      display:flex;\n",
              "      gap: 12px;\n",
              "    }\n",
              "\n",
              "    .colab-df-convert {\n",
              "      background-color: #E8F0FE;\n",
              "      border: none;\n",
              "      border-radius: 50%;\n",
              "      cursor: pointer;\n",
              "      display: none;\n",
              "      fill: #1967D2;\n",
              "      height: 32px;\n",
              "      padding: 0 0 0 0;\n",
              "      width: 32px;\n",
              "    }\n",
              "\n",
              "    .colab-df-convert:hover {\n",
              "      background-color: #E2EBFA;\n",
              "      box-shadow: 0px 1px 2px rgba(60, 64, 67, 0.3), 0px 1px 3px 1px rgba(60, 64, 67, 0.15);\n",
              "      fill: #174EA6;\n",
              "    }\n",
              "\n",
              "    .colab-df-buttons div {\n",
              "      margin-bottom: 4px;\n",
              "    }\n",
              "\n",
              "    [theme=dark] .colab-df-convert {\n",
              "      background-color: #3B4455;\n",
              "      fill: #D2E3FC;\n",
              "    }\n",
              "\n",
              "    [theme=dark] .colab-df-convert:hover {\n",
              "      background-color: #434B5C;\n",
              "      box-shadow: 0px 1px 3px 1px rgba(0, 0, 0, 0.15);\n",
              "      filter: drop-shadow(0px 1px 2px rgba(0, 0, 0, 0.3));\n",
              "      fill: #FFFFFF;\n",
              "    }\n",
              "  </style>\n",
              "\n",
              "    <script>\n",
              "      const buttonEl =\n",
              "        document.querySelector('#df-56020969-5fef-4bdb-a99e-59273513910c button.colab-df-convert');\n",
              "      buttonEl.style.display =\n",
              "        google.colab.kernel.accessAllowed ? 'block' : 'none';\n",
              "\n",
              "      async function convertToInteractive(key) {\n",
              "        const element = document.querySelector('#df-56020969-5fef-4bdb-a99e-59273513910c');\n",
              "        const dataTable =\n",
              "          await google.colab.kernel.invokeFunction('convertToInteractive',\n",
              "                                                    [key], {});\n",
              "        if (!dataTable) return;\n",
              "\n",
              "        const docLinkHtml = 'Like what you see? Visit the ' +\n",
              "          '<a target=\"_blank\" href=https://colab.research.google.com/notebooks/data_table.ipynb>data table notebook</a>'\n",
              "          + ' to learn more about interactive tables.';\n",
              "        element.innerHTML = '';\n",
              "        dataTable['output_type'] = 'display_data';\n",
              "        await google.colab.output.renderOutput(dataTable, element);\n",
              "        const docLink = document.createElement('div');\n",
              "        docLink.innerHTML = docLinkHtml;\n",
              "        element.appendChild(docLink);\n",
              "      }\n",
              "    </script>\n",
              "  </div>\n",
              "\n",
              "\n",
              "<div id=\"df-6595a64f-007d-41e5-a709-f180935622f2\">\n",
              "  <button class=\"colab-df-quickchart\" onclick=\"quickchart('df-6595a64f-007d-41e5-a709-f180935622f2')\"\n",
              "            title=\"Suggest charts.\"\n",
              "            style=\"display:none;\">\n",
              "\n",
              "<svg xmlns=\"http://www.w3.org/2000/svg\" height=\"24px\"viewBox=\"0 0 24 24\"\n",
              "     width=\"24px\">\n",
              "    <g>\n",
              "        <path d=\"M19 3H5c-1.1 0-2 .9-2 2v14c0 1.1.9 2 2 2h14c1.1 0 2-.9 2-2V5c0-1.1-.9-2-2-2zM9 17H7v-7h2v7zm4 0h-2V7h2v10zm4 0h-2v-4h2v4z\"/>\n",
              "    </g>\n",
              "</svg>\n",
              "  </button>\n",
              "\n",
              "<style>\n",
              "  .colab-df-quickchart {\n",
              "      --bg-color: #E8F0FE;\n",
              "      --fill-color: #1967D2;\n",
              "      --hover-bg-color: #E2EBFA;\n",
              "      --hover-fill-color: #174EA6;\n",
              "      --disabled-fill-color: #AAA;\n",
              "      --disabled-bg-color: #DDD;\n",
              "  }\n",
              "\n",
              "  [theme=dark] .colab-df-quickchart {\n",
              "      --bg-color: #3B4455;\n",
              "      --fill-color: #D2E3FC;\n",
              "      --hover-bg-color: #434B5C;\n",
              "      --hover-fill-color: #FFFFFF;\n",
              "      --disabled-bg-color: #3B4455;\n",
              "      --disabled-fill-color: #666;\n",
              "  }\n",
              "\n",
              "  .colab-df-quickchart {\n",
              "    background-color: var(--bg-color);\n",
              "    border: none;\n",
              "    border-radius: 50%;\n",
              "    cursor: pointer;\n",
              "    display: none;\n",
              "    fill: var(--fill-color);\n",
              "    height: 32px;\n",
              "    padding: 0;\n",
              "    width: 32px;\n",
              "  }\n",
              "\n",
              "  .colab-df-quickchart:hover {\n",
              "    background-color: var(--hover-bg-color);\n",
              "    box-shadow: 0 1px 2px rgba(60, 64, 67, 0.3), 0 1px 3px 1px rgba(60, 64, 67, 0.15);\n",
              "    fill: var(--button-hover-fill-color);\n",
              "  }\n",
              "\n",
              "  .colab-df-quickchart-complete:disabled,\n",
              "  .colab-df-quickchart-complete:disabled:hover {\n",
              "    background-color: var(--disabled-bg-color);\n",
              "    fill: var(--disabled-fill-color);\n",
              "    box-shadow: none;\n",
              "  }\n",
              "\n",
              "  .colab-df-spinner {\n",
              "    border: 2px solid var(--fill-color);\n",
              "    border-color: transparent;\n",
              "    border-bottom-color: var(--fill-color);\n",
              "    animation:\n",
              "      spin 1s steps(1) infinite;\n",
              "  }\n",
              "\n",
              "  @keyframes spin {\n",
              "    0% {\n",
              "      border-color: transparent;\n",
              "      border-bottom-color: var(--fill-color);\n",
              "      border-left-color: var(--fill-color);\n",
              "    }\n",
              "    20% {\n",
              "      border-color: transparent;\n",
              "      border-left-color: var(--fill-color);\n",
              "      border-top-color: var(--fill-color);\n",
              "    }\n",
              "    30% {\n",
              "      border-color: transparent;\n",
              "      border-left-color: var(--fill-color);\n",
              "      border-top-color: var(--fill-color);\n",
              "      border-right-color: var(--fill-color);\n",
              "    }\n",
              "    40% {\n",
              "      border-color: transparent;\n",
              "      border-right-color: var(--fill-color);\n",
              "      border-top-color: var(--fill-color);\n",
              "    }\n",
              "    60% {\n",
              "      border-color: transparent;\n",
              "      border-right-color: var(--fill-color);\n",
              "    }\n",
              "    80% {\n",
              "      border-color: transparent;\n",
              "      border-right-color: var(--fill-color);\n",
              "      border-bottom-color: var(--fill-color);\n",
              "    }\n",
              "    90% {\n",
              "      border-color: transparent;\n",
              "      border-bottom-color: var(--fill-color);\n",
              "    }\n",
              "  }\n",
              "</style>\n",
              "\n",
              "  <script>\n",
              "    async function quickchart(key) {\n",
              "      const quickchartButtonEl =\n",
              "        document.querySelector('#' + key + ' button');\n",
              "      quickchartButtonEl.disabled = true;  // To prevent multiple clicks.\n",
              "      quickchartButtonEl.classList.add('colab-df-spinner');\n",
              "      try {\n",
              "        const charts = await google.colab.kernel.invokeFunction(\n",
              "            'suggestCharts', [key], {});\n",
              "      } catch (error) {\n",
              "        console.error('Error during call to suggestCharts:', error);\n",
              "      }\n",
              "      quickchartButtonEl.classList.remove('colab-df-spinner');\n",
              "      quickchartButtonEl.classList.add('colab-df-quickchart-complete');\n",
              "    }\n",
              "    (() => {\n",
              "      let quickchartButtonEl =\n",
              "        document.querySelector('#df-6595a64f-007d-41e5-a709-f180935622f2 button');\n",
              "      quickchartButtonEl.style.display =\n",
              "        google.colab.kernel.accessAllowed ? 'block' : 'none';\n",
              "    })();\n",
              "  </script>\n",
              "</div>\n",
              "    </div>\n",
              "  </div>\n"
            ],
            "text/plain": [
              "             count unique                            top   freq\n",
              "gender       26457      2                              F  17697\n",
              "car          26457      2                              N  16410\n",
              "reality      26457      2                              Y  17830\n",
              "income_type  26457      5                        Working  13645\n",
              "edu_type     26457      5  Secondary / secondary special  17995\n",
              "family_type  26457      5                        Married  18196\n",
              "house_type   26457      6              House / apartment  23653\n",
              "occyp_type   18286     18                       Laborers   4512"
            ]
          },
          "execution_count": 8,
          "metadata": {},
          "output_type": "execute_result"
        }
      ],
      "source": [
        "# 문자형 변수의 기술통계\n",
        "credit_df.describe(include='O').T"
      ]
    },
    {
      "cell_type": "markdown",
      "metadata": {
        "id": "jbf_G1B1bzBb"
      },
      "source": [
        ">**Inst.**  \n",
        ">문자열(문자형) 변수에 대한 기술 통계를 출력하는 코드입니다. include='O'는 문자열 변수만을 선택하도록 지정하고, .T는 결과를 전치(transpose)하여 열과 행을 바꾸는 역할을 합니다.\n",
        "- 개수 (Count): 해당 열의 값이 총 몇 개인지를 나타냅니다.\n",
        "- 고유값 (Unique): 해당 열의 고유한 값의 개수를 나타냅니다.\n",
        "- 최빈값 (Top): 해당 열에서 가장 자주 나오는 값(최빈값)을 나타냅니다.\n",
        "- 최빈값의 빈도 (Freq): 최빈값의 발생 빈도를 나타냅니다.\n",
        "\n",
        ">**결과 해석**  \n",
        "- 각 문자열 열의 기술 통계 정보를 확인할 수 있습니다.\n",
        "- .T를 사용하여 데이터프레임의 행과 열이 바뀌어 출력됩니다.\n",
        ">>**전치 사용하는 이유**  \n",
        ">>가독성 향상: 특히 데이터프레임이 크거나 열이 많을 때, 데이터를 보기 쉽게 만들어줍니다. 열이 행으로 변하므로 긴 열명을 읽기 쉬운 행으로 바꿔줍니다.\n"
      ]
    },
    {
      "cell_type": "code",
      "execution_count": null,
      "metadata": {
        "colab": {
          "base_uri": "https://localhost:8080/"
        },
        "id": "g4M0-NZLPzVz",
        "outputId": "e52d4083-b095-4560-a7e8-aa7db33c5cab"
      },
      "outputs": [
        {
          "data": {
            "text/plain": [
              "Index(['index', 'gender', 'car', 'reality', 'child_num', 'income_total',\n",
              "       'income_type', 'edu_type', 'family_type', 'house_type', 'DAYS_BIRTH',\n",
              "       'DAYS_EMPLOYED', 'FLAG_MOBIL', 'work_phone', 'phone', 'email',\n",
              "       'occyp_type', 'family_size', 'begin_month', 'credit'],\n",
              "      dtype='object')"
            ]
          },
          "execution_count": 9,
          "metadata": {},
          "output_type": "execute_result"
        }
      ],
      "source": [
        "# credit 데이터 column 확인\n",
        "credit_df.columns"
      ]
    },
    {
      "cell_type": "markdown",
      "metadata": {
        "id": "PAQmMFrwbzhs"
      },
      "source": [
        ">**Inst.**  \n",
        "- 데이터프레임의 열(컬럼) 이름들을 출력하는 코드입니다.\n",
        "\n",
        ">**결과 해석**  \n",
        "- 데이터프레임의 열 이름들이 리스트 형태로 출력됩니다.\n",
        "- 어떤 열들로 구성되어 있는지 확인할 수 있습니다."
      ]
    },
    {
      "cell_type": "code",
      "execution_count": null,
      "metadata": {
        "colab": {
          "base_uri": "https://localhost:8080/"
        },
        "id": "8NZ5MjZdP7cp",
        "outputId": "4ac8643b-c19e-4954-980d-bdf9810a2e74"
      },
      "outputs": [
        {
          "name": "stdout",
          "output_type": "stream",
          "text": [
            "성별:  ['F' 'M']\n",
            "차량 소유 여부:  ['N' 'Y']\n",
            "부동산 소유 여부:  ['N' 'Y']\n",
            "소득 유형:  ['Commercial associate' 'Working' 'State servant' 'Pensioner' 'Student']\n",
            "교육 수준:  ['Higher education' 'Secondary / secondary special' 'Incomplete higher'\n",
            " 'Lower secondary' 'Academic degree']\n",
            "주거 유형:  ['Municipal apartment' 'House / apartment' 'With parents'\n",
            " 'Co-op apartment' 'Rented apartment' 'Office apartment']\n",
            "가족 유형:  ['Married' 'Civil marriage' 'Separated' 'Single / not married' 'Widow']\n",
            "직업 유형:  [nan 'Laborers' 'Managers' 'Sales staff' 'High skill tech staff'\n",
            " 'Core staff' 'Drivers' 'Medicine staff' 'Accountants' 'Realty agents'\n",
            " 'Security staff' 'Cleaning staff' 'Private service staff' 'Cooking staff'\n",
            " 'Secretaries' 'HR staff' 'IT staff' 'Low-skill Laborers'\n",
            " 'Waiters/barmen staff']\n"
          ]
        }
      ],
      "source": [
        "# categorical 변수의 고유값 확인\n",
        "print('성별: ', credit_df['gender'].unique())\n",
        "print('차량 소유 여부: ', credit_df['car'].unique())\n",
        "print('부동산 소유 여부: ', credit_df['reality'].unique())\n",
        "print('소득 유형: ', credit_df['income_type'].unique())\n",
        "print('교육 수준: ', credit_df['edu_type'].unique())\n",
        "print('주거 유형: ', credit_df['house_type'].unique())\n",
        "print('가족 유형: ', credit_df['family_type'].unique())\n",
        "print('직업 유형: ', credit_df['occyp_type'].unique())"
      ]
    },
    {
      "cell_type": "markdown",
      "metadata": {
        "id": "sZHss8bQb0Ej"
      },
      "source": [
        ">**Inst.**  \n",
        "- 데이터프레임의 각 카테고리 변수(문자열 형태의 변수)에 대해 고유한 값을 확인하고 출력하는 코드입니다.\n",
        "\n",
        ">**결과 해석**  \n",
        "- 여기서 각 변수의 이름 (예: 성별, 차량 소유 여부 등) 다음에 해당 변수에 속하는 고유한 값들이 출력됩니다.\n",
        "- 이를 통해 데이터의 카테고리 변수에 어떤 값들이 존재하는지 확인할 수 있습니다."
      ]
    },
    {
      "cell_type": "markdown",
      "metadata": {
        "id": "G9zc2_Q4vxNC"
      },
      "source": [
        "데이터 타입에 대해 알아보겠습니다. 데이터 분석을 진행할 때 데이터의 속성에 따라 분석 방법이 달라지므로, 데이터 타입의 종류를 이해하는 것이 중요합니다.\n",
        "\n",
        "1. **수치형(Numerical) 데이터**:\n",
        "   수치형 데이터는 숫자로 이루어진 데이터로서, 크게 이산형과 연속형으로 나눌 수 있습니다.\n",
        "   - **이산형(Discrete)**: 변수가 유한한 값의 개수를 가지며 정수로 표현되는 데이터입니다. 예시로는 사람 수나 사고 건수가 있습니다.\n",
        "   - **연속형(Continuous)**: 변수가 소수점을 포함하는 실수 값으로 표현될 수 있는 데이터입니다. 몸무게나 시간, 길이 등이 여기에 해당합니다.\n",
        "\n",
        "2. **범주형(Categorical) 데이터**:\n",
        "   범주형 데이터는 숫자로 측정할 수 없지만 여러 개의 범주로 나눌 수 있는 데이터입니다. 명목형과 순서형으로 나눌 수 있습니다.\n",
        "   - **명목형(Nominal)**: 변수들이 순서를 갖지 않는 범주들로 이루어진 데이터입니다. 예를 들어 종교, 색깔, 성별 등이 여기에 속합니다.\n",
        "   - **순서형(Ordinal)**: 변수들이 어떤 기준에 따라 순서를 가지는 범주형 데이터입니다. 월이나 시간 등이 여기에 해당합니다.\n",
        "\n",
        "판다스에서는 데이터 타입을 다음과 같이 나타냅니다:\n",
        "- `object`: 문자열 또는 문자와 숫자가 혼합된 데이터\n",
        "- `int`: 정수형 수치 데이터\n",
        "- `float`: 실수형 수치 데이터\n",
        "- `bool`: 두 가지 값 중 하나인 참 또는 거짓을 나타내는 데이터\n",
        "- `datetime`: 날짜와 시간을 나타내는 데이터 타입\n",
        "- `category`: 범주형 데이터로서 순서 지정이 가능하며, 연산이 더 빠른 형태\n",
        "\n",
        "이러한 데이터 타입의 이해는 데이터를 올바르게 처리하고 분석하는 데 필수적입니다."
      ]
    },
    {
      "cell_type": "markdown",
      "metadata": {
        "id": "1vSa3VPRdqS-"
      },
      "source": [
        "## 2.3 데이터 전처리\n",
        "이제 데이터 전처리에 대해 자세히 알아보겠습니다.\n",
        "\n",
        "데이터 전처리란 데이터를 분석하기 좋은 형태로 가공하는 모든 작업을 말합니다. 전처리 과정은 분석 결과와 모델의 성능에 직접적인 영향을 미치기 때문에 모든 데이터 분석 프로젝트에서 반드시 수행되어야 하는 중요한 단계입니다. 실제로 데이터 분석가들은 데이터 수집과 전처리 단계에 약 80% 이상의 시간을 투자한다고 말하는 것으로 보아 그 중요성을 알 수 있습니다.\n",
        "\n",
        "이번 단계에서는 데이터 전처리의 한 부분인 '데이터 클렌징'에 대해 알아보겠습니다."
      ]
    },
    {
      "cell_type": "markdown",
      "metadata": {
        "id": "1pAAdB2Nx0pf"
      },
      "source": [
        "**결측치란?**\n",
        "\n",
        "결측치는 미지의 값이나 확정되지 않은 값을 의미하며, 0과는 다르다는 점을 유의해야 합니다. 결측치를 확인하려면 `isnull()` 함수를 사용하여 간단하게 확인할 수 있습니다.\n",
        "\n",
        "결측치 처리는 데이터의 유실을 방지하고 분석 결과의 정확성을 높이기 위해 꼭 필요한 단계입니다.\n",
        "\n",
        "그렇다면 이러한 결측치는 어떻게 처리해야 할까요?\n",
        "\n",
        "대표적인 결측치 처리 방법으로는 크게 제거와 대치가 있습니다. 그럼 자세히 알아볼까요?"
      ]
    },
    {
      "cell_type": "markdown",
      "metadata": {
        "id": "lYck36nidP9K"
      },
      "source": [
        "### 가) 결측치 처리-대치\n",
        "\n",
        "대치(Imputation)\n",
        "\n",
        "데이터 내 결측치를 대체하는 방법 중 하나는 대치(Imputation)입니다. 이는 결측치를 특정 값으로 채우는 과정을 말합니다. 만약 도메인 지식이 있다면 더욱 쉽게 대치할 수 있습니다.\n",
        "\n",
        "여러 가지 대치 값의 예시를 살펴보겠습니다.\n",
        "\n",
        "- 최빈값(mode): 주로 범주형 데이터에서 사용되며, 각 범주의 빈도가 가장 높은 값으로 결측치를 대체합니다.\n",
        "- 중앙값(median): 숫자형 데이터에서 결측치를 제외한 값들을 정렬한 후 가운데 값을 대치값으로 사용합니다.\n",
        "- 평균(mean): 숫자형 데이터에서 결측치를 제외한 값들의 평균을 대치값으로 사용합니다.\n",
        "- 간단한 예측 모델: 결측치가 없는 열들을 활용하여 결측치가 있는 열의 값을 예측하는 간단한 모델을 활용합니다.\n",
        "\n",
        "이러한 대치 작업은 Pandas의 fillna() 함수를 사용하여 수행할 수 있습니다. 데이터프레임 내의 결측값에 특정 값을 채우는 데 사용할 수 있습니다.\n",
        "\n"
      ]
    },
    {
      "cell_type": "code",
      "execution_count": null,
      "metadata": {
        "colab": {
          "base_uri": "https://localhost:8080/"
        },
        "id": "V9PIymvudOEJ",
        "outputId": "b6b37d6a-3a5f-4997-9794-f12367971c6d"
      },
      "outputs": [
        {
          "data": {
            "text/plain": [
              "index               0\n",
              "gender              0\n",
              "car                 0\n",
              "reality             0\n",
              "child_num           0\n",
              "income_total        0\n",
              "income_type         0\n",
              "edu_type            0\n",
              "family_type         0\n",
              "house_type          0\n",
              "DAYS_BIRTH          0\n",
              "DAYS_EMPLOYED       0\n",
              "FLAG_MOBIL          0\n",
              "work_phone          0\n",
              "phone               0\n",
              "email               0\n",
              "occyp_type       8171\n",
              "family_size         0\n",
              "begin_month         0\n",
              "credit              0\n",
              "dtype: int64"
            ]
          },
          "execution_count": 11,
          "metadata": {},
          "output_type": "execute_result"
        }
      ],
      "source": [
        "# 결측데이터를 처리하기 위해 다시 확인해 봅시다.\n",
        "credit_df.isnull().sum()"
      ]
    },
    {
      "cell_type": "code",
      "execution_count": null,
      "metadata": {
        "colab": {
          "base_uri": "https://localhost:8080/"
        },
        "id": "yitMJb0Tq5NG",
        "outputId": "82465db9-9bee-4492-be80-1c63f8546c03"
      },
      "outputs": [
        {
          "data": {
            "text/plain": [
              "Laborers                 4512\n",
              "Core staff               2646\n",
              "Sales staff              2539\n",
              "Managers                 2167\n",
              "Drivers                  1575\n",
              "High skill tech staff    1040\n",
              "Accountants               902\n",
              "Medicine staff            864\n",
              "Cooking staff             457\n",
              "Security staff            424\n",
              "Cleaning staff            403\n",
              "Private service staff     243\n",
              "Low-skill Laborers        127\n",
              "Waiters/barmen staff      124\n",
              "Secretaries                97\n",
              "Realty agents              63\n",
              "HR staff                   62\n",
              "IT staff                   41\n",
              "Name: occyp_type, dtype: int64"
            ]
          },
          "execution_count": 12,
          "metadata": {},
          "output_type": "execute_result"
        }
      ],
      "source": [
        "# 직업 유형별 빈도\n",
        "credit_df.occyp_type.value_counts()"
      ]
    },
    {
      "cell_type": "code",
      "execution_count": null,
      "metadata": {
        "colab": {
          "base_uri": "https://localhost:8080/",
          "height": 425
        },
        "id": "ox4xmiwCDWVD",
        "outputId": "2210e3f3-5d0b-4af5-ab5a-10efd0332f39"
      },
      "outputs": [
        {
          "data": {
            "text/html": [
              "\n",
              "  <div id=\"df-6536b7a1-fae6-4a1a-aabd-c84c9bf8cdde\" class=\"colab-df-container\">\n",
              "    <div>\n",
              "<style scoped>\n",
              "    .dataframe tbody tr th:only-of-type {\n",
              "        vertical-align: middle;\n",
              "    }\n",
              "\n",
              "    .dataframe tbody tr th {\n",
              "        vertical-align: top;\n",
              "    }\n",
              "\n",
              "    .dataframe thead th {\n",
              "        text-align: right;\n",
              "    }\n",
              "</style>\n",
              "<table border=\"1\" class=\"dataframe\">\n",
              "  <thead>\n",
              "    <tr style=\"text-align: right;\">\n",
              "      <th></th>\n",
              "      <th>count</th>\n",
              "      <th>mean</th>\n",
              "      <th>std</th>\n",
              "      <th>min</th>\n",
              "      <th>25%</th>\n",
              "      <th>50%</th>\n",
              "      <th>75%</th>\n",
              "      <th>max</th>\n",
              "    </tr>\n",
              "  </thead>\n",
              "  <tbody>\n",
              "    <tr>\n",
              "      <th>index</th>\n",
              "      <td>8171.0</td>\n",
              "      <td>13229.342431</td>\n",
              "      <td>7642.204184</td>\n",
              "      <td>0.0</td>\n",
              "      <td>6622.0</td>\n",
              "      <td>13202.0</td>\n",
              "      <td>19806.5</td>\n",
              "      <td>26453.0</td>\n",
              "    </tr>\n",
              "    <tr>\n",
              "      <th>child_num</th>\n",
              "      <td>8171.0</td>\n",
              "      <td>0.245502</td>\n",
              "      <td>0.584324</td>\n",
              "      <td>0.0</td>\n",
              "      <td>0.0</td>\n",
              "      <td>0.0</td>\n",
              "      <td>0.0</td>\n",
              "      <td>5.0</td>\n",
              "    </tr>\n",
              "    <tr>\n",
              "      <th>income_total</th>\n",
              "      <td>8171.0</td>\n",
              "      <td>169174.356444</td>\n",
              "      <td>94186.305218</td>\n",
              "      <td>29250.0</td>\n",
              "      <td>112500.0</td>\n",
              "      <td>144000.0</td>\n",
              "      <td>202500.0</td>\n",
              "      <td>900000.0</td>\n",
              "    </tr>\n",
              "    <tr>\n",
              "      <th>DAYS_BIRTH</th>\n",
              "      <td>8171.0</td>\n",
              "      <td>-18602.216130</td>\n",
              "      <td>4453.474769</td>\n",
              "      <td>-25152.0</td>\n",
              "      <td>-22145.0</td>\n",
              "      <td>-20267.0</td>\n",
              "      <td>-14897.0</td>\n",
              "      <td>-8097.0</td>\n",
              "    </tr>\n",
              "    <tr>\n",
              "      <th>DAYS_EMPLOYED</th>\n",
              "      <td>8171.0</td>\n",
              "      <td>197107.934402</td>\n",
              "      <td>183344.362600</td>\n",
              "      <td>-15072.0</td>\n",
              "      <td>-1962.0</td>\n",
              "      <td>365243.0</td>\n",
              "      <td>365243.0</td>\n",
              "      <td>365243.0</td>\n",
              "    </tr>\n",
              "    <tr>\n",
              "      <th>FLAG_MOBIL</th>\n",
              "      <td>8171.0</td>\n",
              "      <td>1.000000</td>\n",
              "      <td>0.000000</td>\n",
              "      <td>1.0</td>\n",
              "      <td>1.0</td>\n",
              "      <td>1.0</td>\n",
              "      <td>1.0</td>\n",
              "      <td>1.0</td>\n",
              "    </tr>\n",
              "    <tr>\n",
              "      <th>work_phone</th>\n",
              "      <td>8171.0</td>\n",
              "      <td>0.118468</td>\n",
              "      <td>0.323181</td>\n",
              "      <td>0.0</td>\n",
              "      <td>0.0</td>\n",
              "      <td>0.0</td>\n",
              "      <td>0.0</td>\n",
              "      <td>1.0</td>\n",
              "    </tr>\n",
              "    <tr>\n",
              "      <th>phone</th>\n",
              "      <td>8171.0</td>\n",
              "      <td>0.299474</td>\n",
              "      <td>0.458056</td>\n",
              "      <td>0.0</td>\n",
              "      <td>0.0</td>\n",
              "      <td>0.0</td>\n",
              "      <td>1.0</td>\n",
              "      <td>1.0</td>\n",
              "    </tr>\n",
              "    <tr>\n",
              "      <th>email</th>\n",
              "      <td>8171.0</td>\n",
              "      <td>0.064619</td>\n",
              "      <td>0.245867</td>\n",
              "      <td>0.0</td>\n",
              "      <td>0.0</td>\n",
              "      <td>0.0</td>\n",
              "      <td>0.0</td>\n",
              "      <td>1.0</td>\n",
              "    </tr>\n",
              "    <tr>\n",
              "      <th>family_size</th>\n",
              "      <td>8171.0</td>\n",
              "      <td>1.982989</td>\n",
              "      <td>0.782820</td>\n",
              "      <td>1.0</td>\n",
              "      <td>2.0</td>\n",
              "      <td>2.0</td>\n",
              "      <td>2.0</td>\n",
              "      <td>6.0</td>\n",
              "    </tr>\n",
              "    <tr>\n",
              "      <th>begin_month</th>\n",
              "      <td>8171.0</td>\n",
              "      <td>-26.328846</td>\n",
              "      <td>16.649418</td>\n",
              "      <td>-60.0</td>\n",
              "      <td>-40.0</td>\n",
              "      <td>-25.0</td>\n",
              "      <td>-12.0</td>\n",
              "      <td>0.0</td>\n",
              "    </tr>\n",
              "    <tr>\n",
              "      <th>credit</th>\n",
              "      <td>8171.0</td>\n",
              "      <td>1.526129</td>\n",
              "      <td>0.697185</td>\n",
              "      <td>0.0</td>\n",
              "      <td>1.0</td>\n",
              "      <td>2.0</td>\n",
              "      <td>2.0</td>\n",
              "      <td>2.0</td>\n",
              "    </tr>\n",
              "  </tbody>\n",
              "</table>\n",
              "</div>\n",
              "    <div class=\"colab-df-buttons\">\n",
              "\n",
              "  <div class=\"colab-df-container\">\n",
              "    <button class=\"colab-df-convert\" onclick=\"convertToInteractive('df-6536b7a1-fae6-4a1a-aabd-c84c9bf8cdde')\"\n",
              "            title=\"Convert this dataframe to an interactive table.\"\n",
              "            style=\"display:none;\">\n",
              "\n",
              "  <svg xmlns=\"http://www.w3.org/2000/svg\" height=\"24px\" viewBox=\"0 -960 960 960\">\n",
              "    <path d=\"M120-120v-720h720v720H120Zm60-500h600v-160H180v160Zm220 220h160v-160H400v160Zm0 220h160v-160H400v160ZM180-400h160v-160H180v160Zm440 0h160v-160H620v160ZM180-180h160v-160H180v160Zm440 0h160v-160H620v160Z\"/>\n",
              "  </svg>\n",
              "    </button>\n",
              "\n",
              "  <style>\n",
              "    .colab-df-container {\n",
              "      display:flex;\n",
              "      gap: 12px;\n",
              "    }\n",
              "\n",
              "    .colab-df-convert {\n",
              "      background-color: #E8F0FE;\n",
              "      border: none;\n",
              "      border-radius: 50%;\n",
              "      cursor: pointer;\n",
              "      display: none;\n",
              "      fill: #1967D2;\n",
              "      height: 32px;\n",
              "      padding: 0 0 0 0;\n",
              "      width: 32px;\n",
              "    }\n",
              "\n",
              "    .colab-df-convert:hover {\n",
              "      background-color: #E2EBFA;\n",
              "      box-shadow: 0px 1px 2px rgba(60, 64, 67, 0.3), 0px 1px 3px 1px rgba(60, 64, 67, 0.15);\n",
              "      fill: #174EA6;\n",
              "    }\n",
              "\n",
              "    .colab-df-buttons div {\n",
              "      margin-bottom: 4px;\n",
              "    }\n",
              "\n",
              "    [theme=dark] .colab-df-convert {\n",
              "      background-color: #3B4455;\n",
              "      fill: #D2E3FC;\n",
              "    }\n",
              "\n",
              "    [theme=dark] .colab-df-convert:hover {\n",
              "      background-color: #434B5C;\n",
              "      box-shadow: 0px 1px 3px 1px rgba(0, 0, 0, 0.15);\n",
              "      filter: drop-shadow(0px 1px 2px rgba(0, 0, 0, 0.3));\n",
              "      fill: #FFFFFF;\n",
              "    }\n",
              "  </style>\n",
              "\n",
              "    <script>\n",
              "      const buttonEl =\n",
              "        document.querySelector('#df-6536b7a1-fae6-4a1a-aabd-c84c9bf8cdde button.colab-df-convert');\n",
              "      buttonEl.style.display =\n",
              "        google.colab.kernel.accessAllowed ? 'block' : 'none';\n",
              "\n",
              "      async function convertToInteractive(key) {\n",
              "        const element = document.querySelector('#df-6536b7a1-fae6-4a1a-aabd-c84c9bf8cdde');\n",
              "        const dataTable =\n",
              "          await google.colab.kernel.invokeFunction('convertToInteractive',\n",
              "                                                    [key], {});\n",
              "        if (!dataTable) return;\n",
              "\n",
              "        const docLinkHtml = 'Like what you see? Visit the ' +\n",
              "          '<a target=\"_blank\" href=https://colab.research.google.com/notebooks/data_table.ipynb>data table notebook</a>'\n",
              "          + ' to learn more about interactive tables.';\n",
              "        element.innerHTML = '';\n",
              "        dataTable['output_type'] = 'display_data';\n",
              "        await google.colab.output.renderOutput(dataTable, element);\n",
              "        const docLink = document.createElement('div');\n",
              "        docLink.innerHTML = docLinkHtml;\n",
              "        element.appendChild(docLink);\n",
              "      }\n",
              "    </script>\n",
              "  </div>\n",
              "\n",
              "\n",
              "<div id=\"df-c4acfb27-ca7f-4532-86ea-bddf07dc12c0\">\n",
              "  <button class=\"colab-df-quickchart\" onclick=\"quickchart('df-c4acfb27-ca7f-4532-86ea-bddf07dc12c0')\"\n",
              "            title=\"Suggest charts.\"\n",
              "            style=\"display:none;\">\n",
              "\n",
              "<svg xmlns=\"http://www.w3.org/2000/svg\" height=\"24px\"viewBox=\"0 0 24 24\"\n",
              "     width=\"24px\">\n",
              "    <g>\n",
              "        <path d=\"M19 3H5c-1.1 0-2 .9-2 2v14c0 1.1.9 2 2 2h14c1.1 0 2-.9 2-2V5c0-1.1-.9-2-2-2zM9 17H7v-7h2v7zm4 0h-2V7h2v10zm4 0h-2v-4h2v4z\"/>\n",
              "    </g>\n",
              "</svg>\n",
              "  </button>\n",
              "\n",
              "<style>\n",
              "  .colab-df-quickchart {\n",
              "      --bg-color: #E8F0FE;\n",
              "      --fill-color: #1967D2;\n",
              "      --hover-bg-color: #E2EBFA;\n",
              "      --hover-fill-color: #174EA6;\n",
              "      --disabled-fill-color: #AAA;\n",
              "      --disabled-bg-color: #DDD;\n",
              "  }\n",
              "\n",
              "  [theme=dark] .colab-df-quickchart {\n",
              "      --bg-color: #3B4455;\n",
              "      --fill-color: #D2E3FC;\n",
              "      --hover-bg-color: #434B5C;\n",
              "      --hover-fill-color: #FFFFFF;\n",
              "      --disabled-bg-color: #3B4455;\n",
              "      --disabled-fill-color: #666;\n",
              "  }\n",
              "\n",
              "  .colab-df-quickchart {\n",
              "    background-color: var(--bg-color);\n",
              "    border: none;\n",
              "    border-radius: 50%;\n",
              "    cursor: pointer;\n",
              "    display: none;\n",
              "    fill: var(--fill-color);\n",
              "    height: 32px;\n",
              "    padding: 0;\n",
              "    width: 32px;\n",
              "  }\n",
              "\n",
              "  .colab-df-quickchart:hover {\n",
              "    background-color: var(--hover-bg-color);\n",
              "    box-shadow: 0 1px 2px rgba(60, 64, 67, 0.3), 0 1px 3px 1px rgba(60, 64, 67, 0.15);\n",
              "    fill: var(--button-hover-fill-color);\n",
              "  }\n",
              "\n",
              "  .colab-df-quickchart-complete:disabled,\n",
              "  .colab-df-quickchart-complete:disabled:hover {\n",
              "    background-color: var(--disabled-bg-color);\n",
              "    fill: var(--disabled-fill-color);\n",
              "    box-shadow: none;\n",
              "  }\n",
              "\n",
              "  .colab-df-spinner {\n",
              "    border: 2px solid var(--fill-color);\n",
              "    border-color: transparent;\n",
              "    border-bottom-color: var(--fill-color);\n",
              "    animation:\n",
              "      spin 1s steps(1) infinite;\n",
              "  }\n",
              "\n",
              "  @keyframes spin {\n",
              "    0% {\n",
              "      border-color: transparent;\n",
              "      border-bottom-color: var(--fill-color);\n",
              "      border-left-color: var(--fill-color);\n",
              "    }\n",
              "    20% {\n",
              "      border-color: transparent;\n",
              "      border-left-color: var(--fill-color);\n",
              "      border-top-color: var(--fill-color);\n",
              "    }\n",
              "    30% {\n",
              "      border-color: transparent;\n",
              "      border-left-color: var(--fill-color);\n",
              "      border-top-color: var(--fill-color);\n",
              "      border-right-color: var(--fill-color);\n",
              "    }\n",
              "    40% {\n",
              "      border-color: transparent;\n",
              "      border-right-color: var(--fill-color);\n",
              "      border-top-color: var(--fill-color);\n",
              "    }\n",
              "    60% {\n",
              "      border-color: transparent;\n",
              "      border-right-color: var(--fill-color);\n",
              "    }\n",
              "    80% {\n",
              "      border-color: transparent;\n",
              "      border-right-color: var(--fill-color);\n",
              "      border-bottom-color: var(--fill-color);\n",
              "    }\n",
              "    90% {\n",
              "      border-color: transparent;\n",
              "      border-bottom-color: var(--fill-color);\n",
              "    }\n",
              "  }\n",
              "</style>\n",
              "\n",
              "  <script>\n",
              "    async function quickchart(key) {\n",
              "      const quickchartButtonEl =\n",
              "        document.querySelector('#' + key + ' button');\n",
              "      quickchartButtonEl.disabled = true;  // To prevent multiple clicks.\n",
              "      quickchartButtonEl.classList.add('colab-df-spinner');\n",
              "      try {\n",
              "        const charts = await google.colab.kernel.invokeFunction(\n",
              "            'suggestCharts', [key], {});\n",
              "      } catch (error) {\n",
              "        console.error('Error during call to suggestCharts:', error);\n",
              "      }\n",
              "      quickchartButtonEl.classList.remove('colab-df-spinner');\n",
              "      quickchartButtonEl.classList.add('colab-df-quickchart-complete');\n",
              "    }\n",
              "    (() => {\n",
              "      let quickchartButtonEl =\n",
              "        document.querySelector('#df-c4acfb27-ca7f-4532-86ea-bddf07dc12c0 button');\n",
              "      quickchartButtonEl.style.display =\n",
              "        google.colab.kernel.accessAllowed ? 'block' : 'none';\n",
              "    })();\n",
              "  </script>\n",
              "</div>\n",
              "    </div>\n",
              "  </div>\n"
            ],
            "text/plain": [
              "                count           mean            std      min       25%  \\\n",
              "index          8171.0   13229.342431    7642.204184      0.0    6622.0   \n",
              "child_num      8171.0       0.245502       0.584324      0.0       0.0   \n",
              "income_total   8171.0  169174.356444   94186.305218  29250.0  112500.0   \n",
              "DAYS_BIRTH     8171.0  -18602.216130    4453.474769 -25152.0  -22145.0   \n",
              "DAYS_EMPLOYED  8171.0  197107.934402  183344.362600 -15072.0   -1962.0   \n",
              "FLAG_MOBIL     8171.0       1.000000       0.000000      1.0       1.0   \n",
              "work_phone     8171.0       0.118468       0.323181      0.0       0.0   \n",
              "phone          8171.0       0.299474       0.458056      0.0       0.0   \n",
              "email          8171.0       0.064619       0.245867      0.0       0.0   \n",
              "family_size    8171.0       1.982989       0.782820      1.0       2.0   \n",
              "begin_month    8171.0     -26.328846      16.649418    -60.0     -40.0   \n",
              "credit         8171.0       1.526129       0.697185      0.0       1.0   \n",
              "\n",
              "                    50%       75%       max  \n",
              "index           13202.0   19806.5   26453.0  \n",
              "child_num           0.0       0.0       5.0  \n",
              "income_total   144000.0  202500.0  900000.0  \n",
              "DAYS_BIRTH     -20267.0  -14897.0   -8097.0  \n",
              "DAYS_EMPLOYED  365243.0  365243.0  365243.0  \n",
              "FLAG_MOBIL          1.0       1.0       1.0  \n",
              "work_phone          0.0       0.0       1.0  \n",
              "phone               0.0       1.0       1.0  \n",
              "email               0.0       0.0       1.0  \n",
              "family_size         2.0       2.0       6.0  \n",
              "begin_month       -25.0     -12.0       0.0  \n",
              "credit              2.0       2.0       2.0  "
            ]
          },
          "execution_count": 13,
          "metadata": {},
          "output_type": "execute_result"
        }
      ],
      "source": [
        "cond = credit_df['occyp_type'].isna()\n",
        "\n",
        "credit_df[cond].describe().T"
      ]
    },
    {
      "cell_type": "code",
      "execution_count": null,
      "metadata": {
        "colab": {
          "base_uri": "https://localhost:8080/"
        },
        "id": "kw5VPWrVnVD7",
        "outputId": "6e32e64f-21a5-4ace-e526-c4fef6f32b61"
      },
      "outputs": [
        {
          "data": {
            "text/plain": [
              "unknown                  8171\n",
              "Laborers                 4512\n",
              "Core staff               2646\n",
              "Sales staff              2539\n",
              "Managers                 2167\n",
              "Drivers                  1575\n",
              "High skill tech staff    1040\n",
              "Accountants               902\n",
              "Medicine staff            864\n",
              "Cooking staff             457\n",
              "Security staff            424\n",
              "Cleaning staff            403\n",
              "Private service staff     243\n",
              "Low-skill Laborers        127\n",
              "Waiters/barmen staff      124\n",
              "Secretaries                97\n",
              "Realty agents              63\n",
              "HR staff                   62\n",
              "IT staff                   41\n",
              "Name: occyp_type, dtype: int64"
            ]
          },
          "execution_count": 14,
          "metadata": {},
          "output_type": "execute_result"
        }
      ],
      "source": [
        "# occyp_type 변수 전처리\n",
        "credit_df['occyp_type'] = credit_df['occyp_type'].fillna('unknown')\n",
        "test['occyp_type'] = test['occyp_type'].fillna('unknown')\n",
        "credit_df.occyp_type.value_counts()"
      ]
    },
    {
      "cell_type": "markdown",
      "metadata": {
        "id": "PT8GKQeRb7Gl"
      },
      "source": [
        ">**Inst.**  \n",
        "- 'occyp_type' 열의 결측치를 fillna() 함수를 사용하여 'unknown'으로 대체했습니다.\n",
        "\n",
        ">**결과 해석**  \n",
        "-   'unknown' 값의 개수가 결측치로 대체되었음을 확인할 수 있고, 각 직업 유형에 대한 빈도도 파악할 수 있습니다.\n"
      ]
    },
    {
      "cell_type": "markdown",
      "metadata": {
        "id": "lzYnkZ5-e5OF"
      },
      "source": [
        "###나) 불필요한 컬럼 - 제거\n",
        "\n",
        "결측치 처리에는 여러 가지 방법이 있습니다. 그 중에서도 가장 간단한 방법은 결측치가 포함된 행을 전체적으로 혹은 일부분 제거하는 것입니다. 이 방법은 데이터의 샘플 수가 충분한 경우에 효과적일 수 있습니다.\n",
        "\n",
        "하지만 이 방법에는 몇 가지 주의할 점이 있습니다. 결측치가 많은 행을 제거하면 분석에 사용할 수 있는 데이터가 줄어들게 되어 분석 결과의 정확성이 떨어질 수 있습니다. 또한 결측치가 무작위로 발생한 것이 아니라면 해당 행을 제거하면 데이터의 편향이 생길 수 있습니다. 따라서 제거하기 전에 데이터의 패턴과 의미를 충분히 분석한 후에 결정하는 것이 중요합니다."
      ]
    },
    {
      "cell_type": "code",
      "execution_count": null,
      "metadata": {
        "id": "doX0UkG6COnu"
      },
      "outputs": [],
      "source": [
        "# 인덱스 제외\n",
        "credit_df = credit_df.drop(['index'], axis=1).copy()\n",
        "test = test.drop([\"index\"], axis=1).copy()"
      ]
    },
    {
      "cell_type": "markdown",
      "metadata": {
        "id": "n6LjpdF0b-aP"
      },
      "source": [
        ">**Inst.**  \n",
        ">'index' 열을 데이터프레임에서 제거하는 작업을 수행하는 코드입니다.\n",
        ">\n",
        ">>- 'credit_df' 데이터프레임에서 제거한 후, 변경된 데이터프레임을 다시 'credit_df' 변수에 저장합니다.\n",
        ">>- .drop()을 사용하여 열을 제거하고, axis=1은 열을 나타내는 것을 의미합니다.\n",
        ">>- .copy()는 새로운 복사본을 만들어 할당하는 것을 의미합니다.\n",
        ">\n",
        ">>- 'test' 데이터프레임에서도 'index' 열을 제거하는 작업을 수행합니다.\n",
        "- 위와 동일한 방식으로 열을 제거하고 변경된 데이터프레임을 다시 'test' 변수에 저장합니다.  \n",
        ">\n",
        ">**결과 해석**  \n",
        "- 'credit_df'와 'test' 데이터프레임에서 'index' 열이 제거됩니다."
      ]
    },
    {
      "cell_type": "code",
      "execution_count": null,
      "metadata": {
        "colab": {
          "base_uri": "https://localhost:8080/"
        },
        "id": "D5xVDJcRCrPV",
        "outputId": "711d120b-6c98-4512-a32a-27b42213c838"
      },
      "outputs": [
        {
          "data": {
            "text/plain": [
              "Index(['gender', 'car', 'reality', 'child_num', 'income_total', 'income_type',\n",
              "       'edu_type', 'family_type', 'house_type', 'DAYS_BIRTH', 'DAYS_EMPLOYED',\n",
              "       'FLAG_MOBIL', 'work_phone', 'phone', 'email', 'occyp_type',\n",
              "       'family_size', 'begin_month', 'credit'],\n",
              "      dtype='object')"
            ]
          },
          "execution_count": 16,
          "metadata": {},
          "output_type": "execute_result"
        }
      ],
      "source": [
        "# credit_df의 열 구성 확인\n",
        "credit_df.columns"
      ]
    },
    {
      "cell_type": "code",
      "execution_count": null,
      "metadata": {
        "colab": {
          "base_uri": "https://localhost:8080/"
        },
        "id": "JR9m9EKWT3do",
        "outputId": "44c860f9-e663-44aa-d9e1-7023ee4e1721"
      },
      "outputs": [
        {
          "data": {
            "text/plain": [
              "Index(['gender', 'car', 'reality', 'child_num', 'income_total', 'income_type',\n",
              "       'edu_type', 'family_type', 'house_type', 'DAYS_BIRTH', 'DAYS_EMPLOYED',\n",
              "       'FLAG_MOBIL', 'work_phone', 'phone', 'email', 'occyp_type',\n",
              "       'family_size', 'begin_month'],\n",
              "      dtype='object')"
            ]
          },
          "execution_count": 17,
          "metadata": {},
          "output_type": "execute_result"
        }
      ],
      "source": [
        "# test의 열 구성 확인\n",
        "test.columns"
      ]
    },
    {
      "cell_type": "markdown",
      "metadata": {
        "id": "r6NJiI29ucbd"
      },
      "source": [
        "➡️ index 열이 제거되었음을 확인할 수 있습니다."
      ]
    },
    {
      "cell_type": "markdown",
      "metadata": {
        "id": "j9_YvQXIuMby"
      },
      "source": [
        "### 다) 연속형 변수 전처리\n",
        "- 음수로 되어있는 변수를 알아보기 쉽게 처리합니다.\n",
        "- 출생일 변수를 사용해 나이 변수와 연령대 변수를 생성합니다.\n"
      ]
    },
    {
      "cell_type": "code",
      "execution_count": null,
      "metadata": {
        "colab": {
          "base_uri": "https://localhost:8080/",
          "height": 423
        },
        "id": "OsraAb79vc4S",
        "outputId": "cdc976d5-0af8-42fb-a694-7e9ea5298a7e"
      },
      "outputs": [
        {
          "data": {
            "text/html": [
              "\n",
              "  <div id=\"df-424e900b-06be-42dc-a149-94fa6cb72477\" class=\"colab-df-container\">\n",
              "    <div>\n",
              "<style scoped>\n",
              "    .dataframe tbody tr th:only-of-type {\n",
              "        vertical-align: middle;\n",
              "    }\n",
              "\n",
              "    .dataframe tbody tr th {\n",
              "        vertical-align: top;\n",
              "    }\n",
              "\n",
              "    .dataframe thead th {\n",
              "        text-align: right;\n",
              "    }\n",
              "</style>\n",
              "<table border=\"1\" class=\"dataframe\">\n",
              "  <thead>\n",
              "    <tr style=\"text-align: right;\">\n",
              "      <th></th>\n",
              "      <th>DAYS_BIRTH</th>\n",
              "      <th>DAYS_EMPLOYED</th>\n",
              "      <th>begin_month</th>\n",
              "    </tr>\n",
              "  </thead>\n",
              "  <tbody>\n",
              "    <tr>\n",
              "      <th>0</th>\n",
              "      <td>-13899</td>\n",
              "      <td>-4709</td>\n",
              "      <td>-6.0</td>\n",
              "    </tr>\n",
              "    <tr>\n",
              "      <th>1</th>\n",
              "      <td>-11380</td>\n",
              "      <td>-1540</td>\n",
              "      <td>-5.0</td>\n",
              "    </tr>\n",
              "    <tr>\n",
              "      <th>2</th>\n",
              "      <td>-19087</td>\n",
              "      <td>-4434</td>\n",
              "      <td>-22.0</td>\n",
              "    </tr>\n",
              "    <tr>\n",
              "      <th>3</th>\n",
              "      <td>-15088</td>\n",
              "      <td>-2092</td>\n",
              "      <td>-37.0</td>\n",
              "    </tr>\n",
              "    <tr>\n",
              "      <th>4</th>\n",
              "      <td>-15037</td>\n",
              "      <td>-2105</td>\n",
              "      <td>-26.0</td>\n",
              "    </tr>\n",
              "    <tr>\n",
              "      <th>...</th>\n",
              "      <td>...</td>\n",
              "      <td>...</td>\n",
              "      <td>...</td>\n",
              "    </tr>\n",
              "    <tr>\n",
              "      <th>26452</th>\n",
              "      <td>-12079</td>\n",
              "      <td>-1984</td>\n",
              "      <td>-2.0</td>\n",
              "    </tr>\n",
              "    <tr>\n",
              "      <th>26453</th>\n",
              "      <td>-15291</td>\n",
              "      <td>-2475</td>\n",
              "      <td>-47.0</td>\n",
              "    </tr>\n",
              "    <tr>\n",
              "      <th>26454</th>\n",
              "      <td>-10082</td>\n",
              "      <td>-2015</td>\n",
              "      <td>-25.0</td>\n",
              "    </tr>\n",
              "    <tr>\n",
              "      <th>26455</th>\n",
              "      <td>-10145</td>\n",
              "      <td>-107</td>\n",
              "      <td>-59.0</td>\n",
              "    </tr>\n",
              "    <tr>\n",
              "      <th>26456</th>\n",
              "      <td>-19569</td>\n",
              "      <td>-1013</td>\n",
              "      <td>-9.0</td>\n",
              "    </tr>\n",
              "  </tbody>\n",
              "</table>\n",
              "<p>26457 rows × 3 columns</p>\n",
              "</div>\n",
              "    <div class=\"colab-df-buttons\">\n",
              "\n",
              "  <div class=\"colab-df-container\">\n",
              "    <button class=\"colab-df-convert\" onclick=\"convertToInteractive('df-424e900b-06be-42dc-a149-94fa6cb72477')\"\n",
              "            title=\"Convert this dataframe to an interactive table.\"\n",
              "            style=\"display:none;\">\n",
              "\n",
              "  <svg xmlns=\"http://www.w3.org/2000/svg\" height=\"24px\" viewBox=\"0 -960 960 960\">\n",
              "    <path d=\"M120-120v-720h720v720H120Zm60-500h600v-160H180v160Zm220 220h160v-160H400v160Zm0 220h160v-160H400v160ZM180-400h160v-160H180v160Zm440 0h160v-160H620v160ZM180-180h160v-160H180v160Zm440 0h160v-160H620v160Z\"/>\n",
              "  </svg>\n",
              "    </button>\n",
              "\n",
              "  <style>\n",
              "    .colab-df-container {\n",
              "      display:flex;\n",
              "      gap: 12px;\n",
              "    }\n",
              "\n",
              "    .colab-df-convert {\n",
              "      background-color: #E8F0FE;\n",
              "      border: none;\n",
              "      border-radius: 50%;\n",
              "      cursor: pointer;\n",
              "      display: none;\n",
              "      fill: #1967D2;\n",
              "      height: 32px;\n",
              "      padding: 0 0 0 0;\n",
              "      width: 32px;\n",
              "    }\n",
              "\n",
              "    .colab-df-convert:hover {\n",
              "      background-color: #E2EBFA;\n",
              "      box-shadow: 0px 1px 2px rgba(60, 64, 67, 0.3), 0px 1px 3px 1px rgba(60, 64, 67, 0.15);\n",
              "      fill: #174EA6;\n",
              "    }\n",
              "\n",
              "    .colab-df-buttons div {\n",
              "      margin-bottom: 4px;\n",
              "    }\n",
              "\n",
              "    [theme=dark] .colab-df-convert {\n",
              "      background-color: #3B4455;\n",
              "      fill: #D2E3FC;\n",
              "    }\n",
              "\n",
              "    [theme=dark] .colab-df-convert:hover {\n",
              "      background-color: #434B5C;\n",
              "      box-shadow: 0px 1px 3px 1px rgba(0, 0, 0, 0.15);\n",
              "      filter: drop-shadow(0px 1px 2px rgba(0, 0, 0, 0.3));\n",
              "      fill: #FFFFFF;\n",
              "    }\n",
              "  </style>\n",
              "\n",
              "    <script>\n",
              "      const buttonEl =\n",
              "        document.querySelector('#df-424e900b-06be-42dc-a149-94fa6cb72477 button.colab-df-convert');\n",
              "      buttonEl.style.display =\n",
              "        google.colab.kernel.accessAllowed ? 'block' : 'none';\n",
              "\n",
              "      async function convertToInteractive(key) {\n",
              "        const element = document.querySelector('#df-424e900b-06be-42dc-a149-94fa6cb72477');\n",
              "        const dataTable =\n",
              "          await google.colab.kernel.invokeFunction('convertToInteractive',\n",
              "                                                    [key], {});\n",
              "        if (!dataTable) return;\n",
              "\n",
              "        const docLinkHtml = 'Like what you see? Visit the ' +\n",
              "          '<a target=\"_blank\" href=https://colab.research.google.com/notebooks/data_table.ipynb>data table notebook</a>'\n",
              "          + ' to learn more about interactive tables.';\n",
              "        element.innerHTML = '';\n",
              "        dataTable['output_type'] = 'display_data';\n",
              "        await google.colab.output.renderOutput(dataTable, element);\n",
              "        const docLink = document.createElement('div');\n",
              "        docLink.innerHTML = docLinkHtml;\n",
              "        element.appendChild(docLink);\n",
              "      }\n",
              "    </script>\n",
              "  </div>\n",
              "\n",
              "\n",
              "<div id=\"df-4290d79c-c1bd-4d9b-b139-aff8d5b821ea\">\n",
              "  <button class=\"colab-df-quickchart\" onclick=\"quickchart('df-4290d79c-c1bd-4d9b-b139-aff8d5b821ea')\"\n",
              "            title=\"Suggest charts.\"\n",
              "            style=\"display:none;\">\n",
              "\n",
              "<svg xmlns=\"http://www.w3.org/2000/svg\" height=\"24px\"viewBox=\"0 0 24 24\"\n",
              "     width=\"24px\">\n",
              "    <g>\n",
              "        <path d=\"M19 3H5c-1.1 0-2 .9-2 2v14c0 1.1.9 2 2 2h14c1.1 0 2-.9 2-2V5c0-1.1-.9-2-2-2zM9 17H7v-7h2v7zm4 0h-2V7h2v10zm4 0h-2v-4h2v4z\"/>\n",
              "    </g>\n",
              "</svg>\n",
              "  </button>\n",
              "\n",
              "<style>\n",
              "  .colab-df-quickchart {\n",
              "      --bg-color: #E8F0FE;\n",
              "      --fill-color: #1967D2;\n",
              "      --hover-bg-color: #E2EBFA;\n",
              "      --hover-fill-color: #174EA6;\n",
              "      --disabled-fill-color: #AAA;\n",
              "      --disabled-bg-color: #DDD;\n",
              "  }\n",
              "\n",
              "  [theme=dark] .colab-df-quickchart {\n",
              "      --bg-color: #3B4455;\n",
              "      --fill-color: #D2E3FC;\n",
              "      --hover-bg-color: #434B5C;\n",
              "      --hover-fill-color: #FFFFFF;\n",
              "      --disabled-bg-color: #3B4455;\n",
              "      --disabled-fill-color: #666;\n",
              "  }\n",
              "\n",
              "  .colab-df-quickchart {\n",
              "    background-color: var(--bg-color);\n",
              "    border: none;\n",
              "    border-radius: 50%;\n",
              "    cursor: pointer;\n",
              "    display: none;\n",
              "    fill: var(--fill-color);\n",
              "    height: 32px;\n",
              "    padding: 0;\n",
              "    width: 32px;\n",
              "  }\n",
              "\n",
              "  .colab-df-quickchart:hover {\n",
              "    background-color: var(--hover-bg-color);\n",
              "    box-shadow: 0 1px 2px rgba(60, 64, 67, 0.3), 0 1px 3px 1px rgba(60, 64, 67, 0.15);\n",
              "    fill: var(--button-hover-fill-color);\n",
              "  }\n",
              "\n",
              "  .colab-df-quickchart-complete:disabled,\n",
              "  .colab-df-quickchart-complete:disabled:hover {\n",
              "    background-color: var(--disabled-bg-color);\n",
              "    fill: var(--disabled-fill-color);\n",
              "    box-shadow: none;\n",
              "  }\n",
              "\n",
              "  .colab-df-spinner {\n",
              "    border: 2px solid var(--fill-color);\n",
              "    border-color: transparent;\n",
              "    border-bottom-color: var(--fill-color);\n",
              "    animation:\n",
              "      spin 1s steps(1) infinite;\n",
              "  }\n",
              "\n",
              "  @keyframes spin {\n",
              "    0% {\n",
              "      border-color: transparent;\n",
              "      border-bottom-color: var(--fill-color);\n",
              "      border-left-color: var(--fill-color);\n",
              "    }\n",
              "    20% {\n",
              "      border-color: transparent;\n",
              "      border-left-color: var(--fill-color);\n",
              "      border-top-color: var(--fill-color);\n",
              "    }\n",
              "    30% {\n",
              "      border-color: transparent;\n",
              "      border-left-color: var(--fill-color);\n",
              "      border-top-color: var(--fill-color);\n",
              "      border-right-color: var(--fill-color);\n",
              "    }\n",
              "    40% {\n",
              "      border-color: transparent;\n",
              "      border-right-color: var(--fill-color);\n",
              "      border-top-color: var(--fill-color);\n",
              "    }\n",
              "    60% {\n",
              "      border-color: transparent;\n",
              "      border-right-color: var(--fill-color);\n",
              "    }\n",
              "    80% {\n",
              "      border-color: transparent;\n",
              "      border-right-color: var(--fill-color);\n",
              "      border-bottom-color: var(--fill-color);\n",
              "    }\n",
              "    90% {\n",
              "      border-color: transparent;\n",
              "      border-bottom-color: var(--fill-color);\n",
              "    }\n",
              "  }\n",
              "</style>\n",
              "\n",
              "  <script>\n",
              "    async function quickchart(key) {\n",
              "      const quickchartButtonEl =\n",
              "        document.querySelector('#' + key + ' button');\n",
              "      quickchartButtonEl.disabled = true;  // To prevent multiple clicks.\n",
              "      quickchartButtonEl.classList.add('colab-df-spinner');\n",
              "      try {\n",
              "        const charts = await google.colab.kernel.invokeFunction(\n",
              "            'suggestCharts', [key], {});\n",
              "      } catch (error) {\n",
              "        console.error('Error during call to suggestCharts:', error);\n",
              "      }\n",
              "      quickchartButtonEl.classList.remove('colab-df-spinner');\n",
              "      quickchartButtonEl.classList.add('colab-df-quickchart-complete');\n",
              "    }\n",
              "    (() => {\n",
              "      let quickchartButtonEl =\n",
              "        document.querySelector('#df-4290d79c-c1bd-4d9b-b139-aff8d5b821ea button');\n",
              "      quickchartButtonEl.style.display =\n",
              "        google.colab.kernel.accessAllowed ? 'block' : 'none';\n",
              "    })();\n",
              "  </script>\n",
              "</div>\n",
              "    </div>\n",
              "  </div>\n"
            ],
            "text/plain": [
              "       DAYS_BIRTH  DAYS_EMPLOYED  begin_month\n",
              "0          -13899          -4709         -6.0\n",
              "1          -11380          -1540         -5.0\n",
              "2          -19087          -4434        -22.0\n",
              "3          -15088          -2092        -37.0\n",
              "4          -15037          -2105        -26.0\n",
              "...           ...            ...          ...\n",
              "26452      -12079          -1984         -2.0\n",
              "26453      -15291          -2475        -47.0\n",
              "26454      -10082          -2015        -25.0\n",
              "26455      -10145           -107        -59.0\n",
              "26456      -19569          -1013         -9.0\n",
              "\n",
              "[26457 rows x 3 columns]"
            ]
          },
          "execution_count": 18,
          "metadata": {},
          "output_type": "execute_result"
        }
      ],
      "source": [
        "# credit_df에서 음수만 살펴보기\n",
        "credit_df[['DAYS_BIRTH', 'DAYS_EMPLOYED', 'begin_month']]"
      ]
    },
    {
      "cell_type": "markdown",
      "metadata": {
        "id": "Prl1rkkDwmD5"
      },
      "source": [
        ">**Inst.**  \n",
        "- 앞서 우리는 .head()에서 음수인 데이터가 'DAYS_BIRTH', 'DAYS_EMPLOYED', 'begin_month'임을 확인했습니다.\n",
        "- 음수로 되어있으면 직관적인 해석이 어렵기 때문에 변환이 필요합니다.\n",
        "- 우선 음수로 되어있던 'DAYS_BIRTH', 'DAYS_EMPLOYED', 'begin_month'만 데이터프레임 형식으로 불러와 봅시다.\n",
        "\n",
        ">**결과 해석**  \n",
        "- credit_df에서 'DAYS_BIRTH', 'DAYS_EMPLOYED', 'begin_month' 만 출력됩니다.\n",
        "- 한 열을 불러올 때는 ['DAYS_BIRTH']처럼 대괄호를 한 번만 써도 괜찮지만, 여러 열을 불러올 때는 [['DAYS_BIRTH', 'DAYS_EMPLOYED', 'begin_month']]처럼 대괄호를 두 번 작성해야 합니다."
      ]
    },
    {
      "cell_type": "markdown",
      "metadata": {
        "id": "xhYtLub4iJyE"
      },
      "source": [
        "- DAYS_EMPLOYED (근속년수)\n",
        "- DAYS_BIRTH (출생일)\n",
        "- begin_month (신용카드 발급 월)"
      ]
    },
    {
      "cell_type": "code",
      "execution_count": null,
      "metadata": {
        "colab": {
          "base_uri": "https://localhost:8080/"
        },
        "id": "pjEqgHrDX7Q5",
        "outputId": "0ba5042d-1da7-4e8c-ecf1-e82c3ee94049"
      },
      "outputs": [
        {
          "data": {
            "text/plain": [
              "count    26457.000000\n",
              "mean     -2198.529538\n",
              "std       2370.140530\n",
              "min     -15713.000000\n",
              "25%      -3153.000000\n",
              "50%      -1539.000000\n",
              "75%       -407.000000\n",
              "max          0.000000\n",
              "Name: DAYS_EMPLOYED, dtype: float64"
            ]
          },
          "execution_count": 19,
          "metadata": {},
          "output_type": "execute_result"
        }
      ],
      "source": [
        "# DAYS_EMPLOYED 양수 값은 고용되지 않은 상태를 의미함\n",
        "credit_df.loc[credit_df['DAYS_EMPLOYED']>0, 'DAYS_EMPLOYED']=0\n",
        "credit_df['DAYS_EMPLOYED'].describe()"
      ]
    },
    {
      "cell_type": "code",
      "execution_count": null,
      "metadata": {
        "id": "TYULOA5ovD9s"
      },
      "outputs": [],
      "source": [
        "# 근속일수\n",
        "credit_df['days_employed'] = credit_df['DAYS_EMPLOYED'].abs() #절댓값\n",
        "test['days_employed'] = test['DAYS_EMPLOYED'].abs()"
      ]
    },
    {
      "cell_type": "code",
      "execution_count": null,
      "metadata": {
        "id": "aXx5YEoP6mKl"
      },
      "outputs": [],
      "source": [
        "# 근속월\n",
        "credit_df['month_employed'] = credit_df['DAYS_EMPLOYED'].abs()//12 #일수를 12로 나눈 값으로 저장\n",
        "test['month_employed'] = test['DAYS_EMPLOYED'].abs()//12 # '//'은 정수의 몫을 뜻함"
      ]
    },
    {
      "cell_type": "code",
      "execution_count": null,
      "metadata": {
        "id": "u98Vijmp6tIs"
      },
      "outputs": [],
      "source": [
        "# 근속연도\n",
        "credit_df['years_employed'] = credit_df['DAYS_EMPLOYED'].abs()//365\n",
        "test['years_employed'] = test['DAYS_EMPLOYED'].abs()//365"
      ]
    },
    {
      "cell_type": "code",
      "execution_count": null,
      "metadata": {
        "colab": {
          "base_uri": "https://localhost:8080/",
          "height": 206
        },
        "id": "v5GrIZCWE3BO",
        "outputId": "eddde896-7da0-4bc6-9a22-06fbf14b193e"
      },
      "outputs": [
        {
          "data": {
            "text/html": [
              "\n",
              "  <div id=\"df-13efe04b-5379-4422-8927-f078847c5e46\" class=\"colab-df-container\">\n",
              "    <div>\n",
              "<style scoped>\n",
              "    .dataframe tbody tr th:only-of-type {\n",
              "        vertical-align: middle;\n",
              "    }\n",
              "\n",
              "    .dataframe tbody tr th {\n",
              "        vertical-align: top;\n",
              "    }\n",
              "\n",
              "    .dataframe thead th {\n",
              "        text-align: right;\n",
              "    }\n",
              "</style>\n",
              "<table border=\"1\" class=\"dataframe\">\n",
              "  <thead>\n",
              "    <tr style=\"text-align: right;\">\n",
              "      <th></th>\n",
              "      <th>DAYS_EMPLOYED</th>\n",
              "      <th>days_employed</th>\n",
              "      <th>month_employed</th>\n",
              "      <th>years_employed</th>\n",
              "    </tr>\n",
              "  </thead>\n",
              "  <tbody>\n",
              "    <tr>\n",
              "      <th>3212</th>\n",
              "      <td>-6298</td>\n",
              "      <td>6298</td>\n",
              "      <td>524</td>\n",
              "      <td>17</td>\n",
              "    </tr>\n",
              "    <tr>\n",
              "      <th>22186</th>\n",
              "      <td>-6195</td>\n",
              "      <td>6195</td>\n",
              "      <td>516</td>\n",
              "      <td>16</td>\n",
              "    </tr>\n",
              "    <tr>\n",
              "      <th>19632</th>\n",
              "      <td>-2238</td>\n",
              "      <td>2238</td>\n",
              "      <td>186</td>\n",
              "      <td>6</td>\n",
              "    </tr>\n",
              "    <tr>\n",
              "      <th>22201</th>\n",
              "      <td>-1094</td>\n",
              "      <td>1094</td>\n",
              "      <td>91</td>\n",
              "      <td>2</td>\n",
              "    </tr>\n",
              "    <tr>\n",
              "      <th>15230</th>\n",
              "      <td>-474</td>\n",
              "      <td>474</td>\n",
              "      <td>39</td>\n",
              "      <td>1</td>\n",
              "    </tr>\n",
              "  </tbody>\n",
              "</table>\n",
              "</div>\n",
              "    <div class=\"colab-df-buttons\">\n",
              "\n",
              "  <div class=\"colab-df-container\">\n",
              "    <button class=\"colab-df-convert\" onclick=\"convertToInteractive('df-13efe04b-5379-4422-8927-f078847c5e46')\"\n",
              "            title=\"Convert this dataframe to an interactive table.\"\n",
              "            style=\"display:none;\">\n",
              "\n",
              "  <svg xmlns=\"http://www.w3.org/2000/svg\" height=\"24px\" viewBox=\"0 -960 960 960\">\n",
              "    <path d=\"M120-120v-720h720v720H120Zm60-500h600v-160H180v160Zm220 220h160v-160H400v160Zm0 220h160v-160H400v160ZM180-400h160v-160H180v160Zm440 0h160v-160H620v160ZM180-180h160v-160H180v160Zm440 0h160v-160H620v160Z\"/>\n",
              "  </svg>\n",
              "    </button>\n",
              "\n",
              "  <style>\n",
              "    .colab-df-container {\n",
              "      display:flex;\n",
              "      gap: 12px;\n",
              "    }\n",
              "\n",
              "    .colab-df-convert {\n",
              "      background-color: #E8F0FE;\n",
              "      border: none;\n",
              "      border-radius: 50%;\n",
              "      cursor: pointer;\n",
              "      display: none;\n",
              "      fill: #1967D2;\n",
              "      height: 32px;\n",
              "      padding: 0 0 0 0;\n",
              "      width: 32px;\n",
              "    }\n",
              "\n",
              "    .colab-df-convert:hover {\n",
              "      background-color: #E2EBFA;\n",
              "      box-shadow: 0px 1px 2px rgba(60, 64, 67, 0.3), 0px 1px 3px 1px rgba(60, 64, 67, 0.15);\n",
              "      fill: #174EA6;\n",
              "    }\n",
              "\n",
              "    .colab-df-buttons div {\n",
              "      margin-bottom: 4px;\n",
              "    }\n",
              "\n",
              "    [theme=dark] .colab-df-convert {\n",
              "      background-color: #3B4455;\n",
              "      fill: #D2E3FC;\n",
              "    }\n",
              "\n",
              "    [theme=dark] .colab-df-convert:hover {\n",
              "      background-color: #434B5C;\n",
              "      box-shadow: 0px 1px 3px 1px rgba(0, 0, 0, 0.15);\n",
              "      filter: drop-shadow(0px 1px 2px rgba(0, 0, 0, 0.3));\n",
              "      fill: #FFFFFF;\n",
              "    }\n",
              "  </style>\n",
              "\n",
              "    <script>\n",
              "      const buttonEl =\n",
              "        document.querySelector('#df-13efe04b-5379-4422-8927-f078847c5e46 button.colab-df-convert');\n",
              "      buttonEl.style.display =\n",
              "        google.colab.kernel.accessAllowed ? 'block' : 'none';\n",
              "\n",
              "      async function convertToInteractive(key) {\n",
              "        const element = document.querySelector('#df-13efe04b-5379-4422-8927-f078847c5e46');\n",
              "        const dataTable =\n",
              "          await google.colab.kernel.invokeFunction('convertToInteractive',\n",
              "                                                    [key], {});\n",
              "        if (!dataTable) return;\n",
              "\n",
              "        const docLinkHtml = 'Like what you see? Visit the ' +\n",
              "          '<a target=\"_blank\" href=https://colab.research.google.com/notebooks/data_table.ipynb>data table notebook</a>'\n",
              "          + ' to learn more about interactive tables.';\n",
              "        element.innerHTML = '';\n",
              "        dataTable['output_type'] = 'display_data';\n",
              "        await google.colab.output.renderOutput(dataTable, element);\n",
              "        const docLink = document.createElement('div');\n",
              "        docLink.innerHTML = docLinkHtml;\n",
              "        element.appendChild(docLink);\n",
              "      }\n",
              "    </script>\n",
              "  </div>\n",
              "\n",
              "\n",
              "<div id=\"df-9ccbdc5a-a612-4de2-8a5d-9901364f6067\">\n",
              "  <button class=\"colab-df-quickchart\" onclick=\"quickchart('df-9ccbdc5a-a612-4de2-8a5d-9901364f6067')\"\n",
              "            title=\"Suggest charts.\"\n",
              "            style=\"display:none;\">\n",
              "\n",
              "<svg xmlns=\"http://www.w3.org/2000/svg\" height=\"24px\"viewBox=\"0 0 24 24\"\n",
              "     width=\"24px\">\n",
              "    <g>\n",
              "        <path d=\"M19 3H5c-1.1 0-2 .9-2 2v14c0 1.1.9 2 2 2h14c1.1 0 2-.9 2-2V5c0-1.1-.9-2-2-2zM9 17H7v-7h2v7zm4 0h-2V7h2v10zm4 0h-2v-4h2v4z\"/>\n",
              "    </g>\n",
              "</svg>\n",
              "  </button>\n",
              "\n",
              "<style>\n",
              "  .colab-df-quickchart {\n",
              "      --bg-color: #E8F0FE;\n",
              "      --fill-color: #1967D2;\n",
              "      --hover-bg-color: #E2EBFA;\n",
              "      --hover-fill-color: #174EA6;\n",
              "      --disabled-fill-color: #AAA;\n",
              "      --disabled-bg-color: #DDD;\n",
              "  }\n",
              "\n",
              "  [theme=dark] .colab-df-quickchart {\n",
              "      --bg-color: #3B4455;\n",
              "      --fill-color: #D2E3FC;\n",
              "      --hover-bg-color: #434B5C;\n",
              "      --hover-fill-color: #FFFFFF;\n",
              "      --disabled-bg-color: #3B4455;\n",
              "      --disabled-fill-color: #666;\n",
              "  }\n",
              "\n",
              "  .colab-df-quickchart {\n",
              "    background-color: var(--bg-color);\n",
              "    border: none;\n",
              "    border-radius: 50%;\n",
              "    cursor: pointer;\n",
              "    display: none;\n",
              "    fill: var(--fill-color);\n",
              "    height: 32px;\n",
              "    padding: 0;\n",
              "    width: 32px;\n",
              "  }\n",
              "\n",
              "  .colab-df-quickchart:hover {\n",
              "    background-color: var(--hover-bg-color);\n",
              "    box-shadow: 0 1px 2px rgba(60, 64, 67, 0.3), 0 1px 3px 1px rgba(60, 64, 67, 0.15);\n",
              "    fill: var(--button-hover-fill-color);\n",
              "  }\n",
              "\n",
              "  .colab-df-quickchart-complete:disabled,\n",
              "  .colab-df-quickchart-complete:disabled:hover {\n",
              "    background-color: var(--disabled-bg-color);\n",
              "    fill: var(--disabled-fill-color);\n",
              "    box-shadow: none;\n",
              "  }\n",
              "\n",
              "  .colab-df-spinner {\n",
              "    border: 2px solid var(--fill-color);\n",
              "    border-color: transparent;\n",
              "    border-bottom-color: var(--fill-color);\n",
              "    animation:\n",
              "      spin 1s steps(1) infinite;\n",
              "  }\n",
              "\n",
              "  @keyframes spin {\n",
              "    0% {\n",
              "      border-color: transparent;\n",
              "      border-bottom-color: var(--fill-color);\n",
              "      border-left-color: var(--fill-color);\n",
              "    }\n",
              "    20% {\n",
              "      border-color: transparent;\n",
              "      border-left-color: var(--fill-color);\n",
              "      border-top-color: var(--fill-color);\n",
              "    }\n",
              "    30% {\n",
              "      border-color: transparent;\n",
              "      border-left-color: var(--fill-color);\n",
              "      border-top-color: var(--fill-color);\n",
              "      border-right-color: var(--fill-color);\n",
              "    }\n",
              "    40% {\n",
              "      border-color: transparent;\n",
              "      border-right-color: var(--fill-color);\n",
              "      border-top-color: var(--fill-color);\n",
              "    }\n",
              "    60% {\n",
              "      border-color: transparent;\n",
              "      border-right-color: var(--fill-color);\n",
              "    }\n",
              "    80% {\n",
              "      border-color: transparent;\n",
              "      border-right-color: var(--fill-color);\n",
              "      border-bottom-color: var(--fill-color);\n",
              "    }\n",
              "    90% {\n",
              "      border-color: transparent;\n",
              "      border-bottom-color: var(--fill-color);\n",
              "    }\n",
              "  }\n",
              "</style>\n",
              "\n",
              "  <script>\n",
              "    async function quickchart(key) {\n",
              "      const quickchartButtonEl =\n",
              "        document.querySelector('#' + key + ' button');\n",
              "      quickchartButtonEl.disabled = true;  // To prevent multiple clicks.\n",
              "      quickchartButtonEl.classList.add('colab-df-spinner');\n",
              "      try {\n",
              "        const charts = await google.colab.kernel.invokeFunction(\n",
              "            'suggestCharts', [key], {});\n",
              "      } catch (error) {\n",
              "        console.error('Error during call to suggestCharts:', error);\n",
              "      }\n",
              "      quickchartButtonEl.classList.remove('colab-df-spinner');\n",
              "      quickchartButtonEl.classList.add('colab-df-quickchart-complete');\n",
              "    }\n",
              "    (() => {\n",
              "      let quickchartButtonEl =\n",
              "        document.querySelector('#df-9ccbdc5a-a612-4de2-8a5d-9901364f6067 button');\n",
              "      quickchartButtonEl.style.display =\n",
              "        google.colab.kernel.accessAllowed ? 'block' : 'none';\n",
              "    })();\n",
              "  </script>\n",
              "</div>\n",
              "    </div>\n",
              "  </div>\n"
            ],
            "text/plain": [
              "       DAYS_EMPLOYED  days_employed  month_employed  years_employed\n",
              "3212           -6298           6298             524              17\n",
              "22186          -6195           6195             516              16\n",
              "19632          -2238           2238             186               6\n",
              "22201          -1094           1094              91               2\n",
              "15230           -474            474              39               1"
            ]
          },
          "execution_count": 23,
          "metadata": {},
          "output_type": "execute_result"
        }
      ],
      "source": [
        "credit_df[['DAYS_EMPLOYED','days_employed','month_employed','years_employed']].sample(5)"
      ]
    },
    {
      "cell_type": "markdown",
      "metadata": {
        "id": "WjgkZa8IcCQo"
      },
      "source": [
        ">**Inst.**  \n",
        "- 주어진 데이터프레임 credit_df와 test에 대해 근속일수를 계산하고 추가합니다.\n",
        "- 근속일수는 음수로 표현되어 있으며, 절댓값을 취하여 양수로 변환합니다.\n",
        "- credit_df' 데이터프레임에 'days_employed'라는 새로운 열을 추가하고, 이 열에 'DAYS_EMPLOYED' 열의 값의 절댓값을 할당하는 작업입니다.\n",
        "- 따라서 이제 'days_employed' 열에는 양수로 변환된 근속일수 값이 들어가게 됩니다.\n",
        "- 'test' 데이터프레임에도 동일한 작업을 수행합니다.\n",
        "- 이 과정을 일별, 월별, 연도별로 수행해 보겠습니다.\n",
        "\n",
        ">**결과 해석**  \n",
        "- credit_df에 변환한 변수들(파생변수)을 저장하고 결과를 확인합니다.\n",
        "- .sample(5)는 데이터프레임 값 중 랜덤으로 5행을 뽑아 출력합니다."
      ]
    },
    {
      "cell_type": "code",
      "execution_count": null,
      "metadata": {
        "id": "XKbEW1Om6ZqE"
      },
      "outputs": [],
      "source": [
        "# 출생\n",
        "credit_df['days_birth'] = credit_df['DAYS_BIRTH'].abs()\n",
        "test['days_birth'] = test['DAYS_BIRTH'].abs()\n"
      ]
    },
    {
      "cell_type": "code",
      "execution_count": null,
      "metadata": {
        "id": "Qzu1SoFRdxZh"
      },
      "outputs": [],
      "source": [
        "# 나이\n",
        "credit_df['age'] = credit_df['DAYS_BIRTH'].abs() // 365\n",
        "test['age'] = test['DAYS_BIRTH'].abs() // 365\n"
      ]
    },
    {
      "cell_type": "markdown",
      "metadata": {
        "id": "hNr0lzpvcCst"
      },
      "source": [
        ">**Inst.**  \n",
        "- 'DAYS_BIRTH'도 변환해 봅시다.\n",
        "- 보통 나이는 생년월일을 기준으로 계산되며, 음수로 표현되는 경우가 일반적입니다. 따라서 절댓값을 취하여 양수로 변환한 값을 사용하여 나이를 계산할 것입니다.\n",
        "- 보통 나이는 생년월일을 기준으로 계산되며, 음수로 표현되는 경우가 일반적입니다. 따라서 절댓값을 취하여 양수로 변환한 값을 사용하여 나이를 계산할 것입니다.\n",
        "- 'test' 데이터프레임에도 동일한 작업을 수행합니다.\n",
        "- 이 과정을 일별, 나이별(연도)로 수행해 보겠습니다.\n",
        "\n",
        ">**결과 해석**  \n",
        "- credit_df에 변환한 변수들(파생변수)을 저장하고 결과를 확인합니다.\n",
        "- .sample(5)는 데이터프레임 값 중 랜덤으로 5행을 뽑아 출력합니다.\n"
      ]
    },
    {
      "cell_type": "code",
      "execution_count": null,
      "metadata": {
        "id": "8lt0n9Fp2Zzh"
      },
      "outputs": [],
      "source": [
        "# 연령대\n",
        "def ages(x):\n",
        "    y = x//10\n",
        "    return y * 10\n",
        "\n",
        "credit_df['ages'] = credit_df['age'].map(ages)\n",
        "test['ages'] = credit_df['age'].map(ages)"
      ]
    },
    {
      "cell_type": "markdown",
      "metadata": {
        "id": "7oSNuHj7L3r7"
      },
      "source": []
    },
    {
      "cell_type": "code",
      "execution_count": null,
      "metadata": {
        "colab": {
          "base_uri": "https://localhost:8080/"
        },
        "id": "lS1wvhZIDiXi",
        "outputId": "1697b22f-a373-4ac1-a704-82ec48c470dc"
      },
      "outputs": [
        {
          "data": {
            "text/plain": [
              "30    7585\n",
              "40    6769\n",
              "50    5739\n",
              "20    3608\n",
              "60    2756\n",
              "Name: ages, dtype: int64"
            ]
          },
          "execution_count": 27,
          "metadata": {},
          "output_type": "execute_result"
        }
      ],
      "source": [
        "credit_df['ages'].value_counts()"
      ]
    },
    {
      "cell_type": "markdown",
      "metadata": {
        "id": "Pot2OZ4TcDLs"
      },
      "source": [
        ">**Inst.**  \n",
        "- 이번엔 함수를 사용해서 변수를 만들어 볼까요?\n",
        "- def ages(x): 코드는 'ages'라는 이름의 함수를 정의하는 부분입니다. 이 함수는 하나의 인자 x를 받아들이고 나이 범주를 계산하여 반환할 것입니다.\n",
        "- y = x//10 코드는 입력된 나이 x를 10으로 나누어 몫을 구하는 작업입니다.\n",
        "- return y * 10 코드는 계산된 몫 y를 다시 10을 곱하여 10의 배수로 나이를 근사화한 값을 반환합니다.\n",
        "- credit_df['ages'] = credit_df['age'].map(ages) 코드는 'credit_df' 데이터프레임의 'age' 열의 각 값을 'ages' 함수에 적용하여 나이를 근사화한 값으로 변환하고, 그 결과를 'ages' 열에 저장하는 작업입니다.\n",
        "\n",
        "\n",
        ">**결과 해석**  \n",
        "- 'credit_df' 데이터프레임에 'ages' 열이 추가되며, 이 열에는 각 고객의 나이가 10의 배수로 근사화된 값으로 채워집니다."
      ]
    },
    {
      "cell_type": "code",
      "execution_count": null,
      "metadata": {
        "colab": {
          "base_uri": "https://localhost:8080/"
        },
        "id": "PQPF-cvJfaRK",
        "outputId": "71d0c2e8-7072-4566-8a4a-9521557bec46"
      },
      "outputs": [
        {
          "data": {
            "text/plain": [
              "count    26457.000000\n",
              "mean        26.123294\n",
              "std         16.559550\n",
              "min          0.000000\n",
              "25%         12.000000\n",
              "50%         24.000000\n",
              "75%         39.000000\n",
              "max         60.000000\n",
              "Name: begin_month, dtype: float64"
            ]
          },
          "execution_count": 28,
          "metadata": {},
          "output_type": "execute_result"
        }
      ],
      "source": [
        "# begin_month = 신용카드 사용한지 몇 달?\n",
        "credit_df['begin_month'] = credit_df['begin_month'].astype(int).abs()\n",
        "test['begin_month'] = test['begin_month'].astype(int).abs()\n",
        "\n",
        "credit_df['begin_month'].describe()"
      ]
    },
    {
      "cell_type": "markdown",
      "metadata": {
        "id": "9IOj_Fc6cDfu"
      },
      "source": [
        ">**Inst.**  \n",
        "- .astype(int): 'begin_month' 열의 값을 소수점 아래의 값들을 버리고 정수로 변환하는 작업입니다.\n",
        "- .abs(): 앞서 변환한 정수 값들을 절댓값으로 변경합니다. 음수 값을 양수로 바꾸는 역할을 합니다.\n",
        "최종적으로 변환된 값들을 'begin_month' 열에 할당합니다.\n",
        "- 'test' 데이터프레임에도 동일한 변환 작업을 수행합니다.\n",
        "\n",
        "\n",
        ">**결과 해석**  \n",
        "- 'credit_df'와 'test' 데이터프레임의 'begin_month' 열의 값들이 정수로 변환되고, 절댓값으로 변경됩니다."
      ]
    },
    {
      "cell_type": "code",
      "execution_count": null,
      "metadata": {
        "id": "UZztbpMvKr5u"
      },
      "outputs": [],
      "source": [
        "# 연간총소득 변수 추가\n",
        "\n",
        "# 소득 범위 구간을 정의\n",
        "income_bins = [0, 50000, 100000, 150000, 200000, 250000, 300000, float('inf')]\n",
        "income_labels = ['0-50000', '50000-100000', '100000-150000', '150000-200000', '200000-250000', '250000-300000','300000+']\n",
        "\n",
        "# 'income_total' 변수를 구간으로 변환하여 새로운 칼럼 'income_range'를 추가합니다.\n",
        "credit_df['income_range'] = pd.cut(credit_df['income_total'], bins=income_bins, labels=income_labels)\n",
        "test['income_range'] = pd.cut(test['income_total'], bins=income_bins, labels=income_labels)"
      ]
    },
    {
      "cell_type": "markdown",
      "metadata": {
        "id": "AxbVbbF9IM2U"
      },
      "source": [
        ">**Inst.**  \n",
        "- income_bins 리스트는 연간 총소득을 구간으로 나누기 위한 기준값들을 담고 있습니다. 각 구간의 시작과 끝 값을 나타냅니다.\n",
        "- income_labels 리스트는 각 소득 구간에 대한 레이블을 정의합니다.\n",
        "- pd.cut() 함수는 연간 총소득을 income_bins 리스트에 정의된 구간에 따라 나누고, 각 구간에 해당하는 레이블을 income_labels 리스트에서 가져와서 새로운 'income_range' 열에 할당합니다.\n",
        "\n",
        "\n",
        ">**결과 해석**  \n",
        "- 'credit_df'와 'test' 데이터프레임에 각각 'income_range' 열이 추가되며, 각 고객의 연간 총소득이 해당하는 구간 레이블로 표시됩니다."
      ]
    },
    {
      "cell_type": "markdown",
      "metadata": {
        "id": "V4xiNQ4ny6Fs"
      },
      "source": [
        "#3.데이터 시각화와 탐색적 데이터 분석(EDA)"
      ]
    },
    {
      "cell_type": "markdown",
      "metadata": {
        "id": "QY5myngEb7zY"
      },
      "source": [
        "**명목형 (Nominal)**: 이 변수들은 카테고리를 표현하며, 순서나 크기의 의미가 없는 변수입니다.\n",
        "\n",
        "- gender (성별)\n",
        "- car (차량 소유 여부)\n",
        "- reality (부동산 소유 여부)\n",
        "- income_type (소득 유형)\n",
        "- edu_type (교육 수준)\n",
        "- family_type (가족 유형)\n",
        "- house_type (주거 유형)\n",
        "- occyp_type (직업 유형)\n",
        "\n",
        "**순서형 (Ordinal)**: 이 변수들은 카테고리가 순서를 가지며, 크기의 상대적 의미가 있는 변수입니다.\n",
        "\n",
        "- child_num (자녀 수)\n",
        "\n",
        "**이산형 (Discrete)**: 이 변수들은 정수값을 가지며, 연속적이지 않은 값을 나타내는 변수입니다.\n",
        "\n",
        "- work_phone (근무용 전화 소유 여부)\n",
        "- phone (전화 소유 여부)\n",
        "- email (이메일 소유 여부)\n",
        "- family_size (가족 구성원 수)\n",
        "- begin_month (신용카드 발급 월)\n",
        "- credit (신용도 등급)\n",
        "- years_employed (근속한 연수)\n",
        "\n",
        "**연속형 (Continuous)**: 이 변수들은 실수값을 가지며, 연속적인 값을 나타내는 변수입니다.\n",
        "\n",
        "- income_total (총 소득)\n",
        "- DAYS_BIRTH (출생일로부터 경과한 일 수)\n",
        "- DAYS_EMPLOYED (고용일로부터 경과한 일 수)\n",
        "- age (나이)\n",
        "- ages (나이, 다른 변수에서 파생된 값)\n",
        "- income_range (소득 범위)"
      ]
    },
    {
      "cell_type": "markdown",
      "metadata": {
        "id": "ptp6Dr4TA88-"
      },
      "source": [
        "파이썬으로 변수들을 시각화하려면 변수의 유형에 따라 다른 시각화 기법을 사용하는 것이 좋습니다. 각 유형에 따른 시각화 방법을 살펴보겠습니다.\n",
        "\n",
        "**명목형 (Nominal) 및 순서형 (Ordinal) 변수**:\n",
        "\n",
        "1. **막대 그래프 (Bar Plot)**: 각 카테고리의 빈도를 시각화하여 변수의 분포를 확인할 수 있습니다.\n",
        "\n",
        "**이산형 (Discrete) 변수**:\n",
        "\n",
        "1. **카운트 플롯 (Count Plot)**: 각 값의 빈도를 막대 그래프로 시각화하여 변수의 분포를 확인합니다.\n",
        "\n",
        "**연속형 (Continuous) 변수**:\n",
        "\n",
        "1. **히스토그램 (Histogram)**: 변수의 값 분포를 구간으로 나누어 시각화합니다.\n",
        "2. **박스 플롯 (Box Plot)**: 변수의 중앙값, 이상치, 분포의 형태 등을 한 눈에 파악할 수 있습니다.\n",
        "3. **커널 밀도 추정 (Kernel Density Estimation)**: 변수의 확률 밀도 함수를 추정하여 연속적인 분포를 시각화합니다.\n",
        "\n",
        "위의 기법들은 변수의 유형에 따라 적절한 시각화 방법을 제시한 것입니다. 주어진 변수들을 이해하고, 분석하려는 목적에 따라 선택하여 사용하면 됩니다. 파이썬에서는 주로 Matplotlib, Seaborn, Plotly와 같은 라이브러리를 활용하여 시각화 작업을 수행할 수 있습니다."
      ]
    },
    {
      "cell_type": "markdown",
      "metadata": {
        "id": "i7gx4YpBKGEp"
      },
      "source": [
        "- [matplotlib 공식문서](https://matplotlib.org/)\n",
        "- [seaborn 공식문서에서 palette 확인해 보기](https://seaborn.pydata.org/tutorial/color_palettes.html#general-principles-for-using-color-in-plots)"
      ]
    },
    {
      "cell_type": "code",
      "execution_count": null,
      "metadata": {
        "id": "G68NvkUc5VKZ"
      },
      "outputs": [],
      "source": [
        "# 시각화에 필요한 라이브러리\n",
        "import matplotlib as mpl\n",
        "import matplotlib.pyplot as plt\n",
        "import seaborn as sns\n",
        "\n",
        "rc = {\n",
        "    \"axes.facecolor\": \"#F6F6F6\",\n",
        "    \"figure.facecolor\": \"#F6F6F6\",\n",
        "    \"axes.edgecolor\": \"#000000\",\n",
        "    \"grid.color\": \"#EBEBE7\",\n",
        "    \"font.family\": 'sans-serif',\n",
        "    \"axes.labelcolor\": \"#000000\",\n",
        "    \"xtick.color\": \"#000000\",\n",
        "    \"ytick.color\": \"#000000\",\n",
        "    \"grid.alpha\": 1\n",
        "}\n",
        "\n",
        "plt.rc('axes', unicode_minus=False)\n",
        "plt.style.use('ggplot')\n",
        "sns.set(rc=rc)\n",
        "sns.set_palette('pastel')"
      ]
    },
    {
      "cell_type": "markdown",
      "metadata": {
        "id": "ku_RFHAdILz5"
      },
      "source": [
        ">**Inst.**  \n",
        ">>- Matplotlib 라이브러리와 그 중 pyplot 모듈을 가져옵니다. 이를 통해 데이터 시각화 작업을 수행합니다.\n",
        ">>- Seaborn은 Matplotlib을 기반으로 한 시각화 라이브러리로, 데이터 시각화를 보다 쉽게 하기 위해 사용됩니다.\n",
        ">\n",
        ">>- 데이터 시각화를 위해 필요한 라이브러리 및 시각화 스타일을 설정하는 작업을 수행합니다.\n",
        "- rc: 시각화 스타일을 설정하는 딕셔너리입니다. 여기서 다양한 시각화 요소의 색상, 글꼴 등을 지정합니다.\n",
        "- plt.rc('axes', unicode_minus=False): Matplotlib의 축 레이블에서 유니코드 마이너스 기호를 사용하지 않도록 설정합니다.\n",
        "- plt.style.use('ggplot'): Matplotlib의 스타일을 'ggplot' 스타일로 설정합니다.\n",
        "- sns.set(rc=rc): Seaborn의 설정을 위에서 정의한 rc 딕셔너리에 따라 변경합니다.\n",
        "- sns.set_palette('pastel'): Seaborn 팔레트를 'pastel' 스타일로 설정합니다. 'pastel' 팔레트는 파스텔톤의 색상을 사용합니다.\n",
        "\n",
        ">**결과 해석**\n",
        "- Matplotlib과 Seaborn을 활용하여 데이터 시각화 작업을 보다 쉽고 일관성 있게 수행할 수 있습니다.\n"
      ]
    },
    {
      "cell_type": "markdown",
      "metadata": {
        "id": "YzYVJZvC1ZUe"
      },
      "source": [
        "## 3.1 타깃 변수 분포 확인\n",
        "\n",
        "우리가 예측할 \"신용등급(credit)\" 변수의 분포를 시각화하여 확인하겠습니다."
      ]
    },
    {
      "cell_type": "code",
      "execution_count": null,
      "metadata": {
        "colab": {
          "base_uri": "https://localhost:8080/",
          "height": 75
        },
        "id": "7yi9IpcDRs2R",
        "outputId": "56e36175-c526-4519-cc3f-a5c42f78b548"
      },
      "outputs": [
        {
          "data": {
            "text/html": [
              "<svg  width=\"550\" height=\"55\"><rect x=\"0\" y=\"0\" width=\"55\" height=\"55\" style=\"fill:#a1c9f4;stroke-width:2;stroke:rgb(255,255,255)\"/><rect x=\"55\" y=\"0\" width=\"55\" height=\"55\" style=\"fill:#ffb482;stroke-width:2;stroke:rgb(255,255,255)\"/><rect x=\"110\" y=\"0\" width=\"55\" height=\"55\" style=\"fill:#8de5a1;stroke-width:2;stroke:rgb(255,255,255)\"/><rect x=\"165\" y=\"0\" width=\"55\" height=\"55\" style=\"fill:#ff9f9b;stroke-width:2;stroke:rgb(255,255,255)\"/><rect x=\"220\" y=\"0\" width=\"55\" height=\"55\" style=\"fill:#d0bbff;stroke-width:2;stroke:rgb(255,255,255)\"/><rect x=\"275\" y=\"0\" width=\"55\" height=\"55\" style=\"fill:#debb9b;stroke-width:2;stroke:rgb(255,255,255)\"/><rect x=\"330\" y=\"0\" width=\"55\" height=\"55\" style=\"fill:#fab0e4;stroke-width:2;stroke:rgb(255,255,255)\"/><rect x=\"385\" y=\"0\" width=\"55\" height=\"55\" style=\"fill:#cfcfcf;stroke-width:2;stroke:rgb(255,255,255)\"/><rect x=\"440\" y=\"0\" width=\"55\" height=\"55\" style=\"fill:#fffea3;stroke-width:2;stroke:rgb(255,255,255)\"/><rect x=\"495\" y=\"0\" width=\"55\" height=\"55\" style=\"fill:#b9f2f0;stroke-width:2;stroke:rgb(255,255,255)\"/></svg>"
            ],
            "text/plain": [
              "[(0.6313725490196078, 0.788235294117647, 0.9568627450980393),\n",
              " (1.0, 0.7058823529411765, 0.5098039215686274),\n",
              " (0.5529411764705883, 0.8980392156862745, 0.6313725490196078),\n",
              " (1.0, 0.6235294117647059, 0.6078431372549019),\n",
              " (0.8156862745098039, 0.7333333333333333, 1.0),\n",
              " (0.8705882352941177, 0.7333333333333333, 0.6078431372549019),\n",
              " (0.9803921568627451, 0.6901960784313725, 0.8941176470588236),\n",
              " (0.8117647058823529, 0.8117647058823529, 0.8117647058823529),\n",
              " (1.0, 0.996078431372549, 0.6392156862745098),\n",
              " (0.7254901960784313, 0.9490196078431372, 0.9411764705882353)]"
            ]
          },
          "execution_count": 31,
          "metadata": {},
          "output_type": "execute_result"
        }
      ],
      "source": [
        " # Seaborn 라이브러리의 'pastel' 색상 팔레트를 반환\n",
        "sns.color_palette('pastel')"
      ]
    },
    {
      "cell_type": "code",
      "execution_count": null,
      "metadata": {
        "colab": {
          "base_uri": "https://localhost:8080/"
        },
        "id": "8a4ZMpdJbNQi",
        "outputId": "d4693ff9-3ca9-428d-c52f-e421719e6e65"
      },
      "outputs": [
        {
          "data": {
            "image/png": "[encoded data removed]",
            "text/plain": [
              "<Figure size 1000x500 with 1 Axes>"
            ]
          },
          "metadata": {},
          "output_type": "display_data"
        }
      ],
      "source": [
        "# seaborn의 countplot으로 타겟 변수 시각화\n",
        "\n",
        "# fig: 전체그림, ax: 그래프 축을 의미\n",
        "# figsize: 생성된 서브플롯의 크기 설정\n",
        "fig, ax = plt.subplots(figsize = (10,5))\n",
        "\n",
        "# countplot으로 'credit'분포 시각화\n",
        "sns.countplot(data = credit_df, x = 'credit')\n",
        "ax.set_title('Label Countplot');"
      ]
    },
    {
      "cell_type": "markdown",
      "metadata": {
        "id": "g3vW-AURcLuw"
      },
      "source": [
        ">**Inst.**  \n",
        "- Seaborn 라이브러리의 countplot 함수를 사용하여 데이터프레임 credit_df의 타겟 변수 'credit'의 값을 시각화하는 작업을 수행합니다.\n",
        "\n",
        ">**결과 해석**  \n",
        "- 'credit_df' 데이터프레임의 'credit' 열에 대한 빈도수를 막대 그래프로 시각화한 결과를 얻을 수 있습니다.\n",
        "- 각 카테고리 값의 분포를 쉽게 확인할 수 있습니다.\n",
        "- 본 데이터에서는 credit의 분포가 점점 커지는 것을 볼 수 있습니다.\n",
        "- 참고로 낮을 수록 높은 신용도를 의미하기 때문에 데이터에서는 높은 신용도를 가진 데이터가 제일 적음을 확인할 수 있습니다."
      ]
    },
    {
      "cell_type": "markdown",
      "metadata": {
        "id": "Bfgp41oaSwkw"
      },
      "source": [
        "## 3.2 범주형 변수"
      ]
    },
    {
      "cell_type": "code",
      "execution_count": null,
      "metadata": {
        "colab": {
          "base_uri": "https://localhost:8080/",
          "height": 367
        },
        "id": "1Vkg9JvH6IYE",
        "outputId": "38ad033c-dd9a-40b5-d19b-8d2c70f5ac6c"
      },
      "outputs": [
        {
          "data": {
            "image/png": "[encoded data removed]",
            "text/plain": [
              "<Figure size 1500x500 with 3 Axes>"
            ]
          },
          "metadata": {},
          "output_type": "display_data"
        }
      ],
      "source": [
        "# 범주형 변수 중 phone 변수들만 시각화\n",
        "\n",
        "# 시각화할 범주형 변수\n",
        "variables = ['FLAG_MOBIL', 'phone', 'work_phone']\n",
        "\n",
        "# 서브플롯 설정\n",
        "fig, axes = plt.subplots(1, len(variables), figsize=(15, 5))\n",
        "\n",
        "# 생성된 서브플롯에 하나씩 순회하면서 그래프 그리기\n",
        "for i, var in enumerate(variables):\n",
        "    counts = credit_df[var].value_counts()\n",
        "    sns.barplot(x=counts.index, y=counts.values, ax=axes[i])\n",
        "    axes[i].set_title(f'{var} Counts')"
      ]
    },
    {
      "cell_type": "markdown",
      "metadata": {
        "id": "6M4aIcllILKu"
      },
      "source": [
        ">**Inst.**  \n",
        "- 서브플롯(fig, axes)을 생성하고, 각 변수에 해당하는 그래프를 나란히 배치하기 위해 서브플롯의 개수와 크기를 설정합니다. 이 코드는 각 변수마다 하나의 그래프를 생성하기 위해 1행 len(variables)열의 서브플롯을 생성합니다.\n",
        "- for i, var in enumerate(variables):  \n",
        "정의한 변수들을 하나씩 순회하면서 그래프를 그리는 작업을 수행합니다.\n",
        "- counts = credit_df[var].value_counts():  \n",
        "각 변수의 값들의 빈도수를 계산하여 'counts' 변수에 저장합니다.\n",
        "- sns.barplot(x=counts.index, y=counts.values, ax=axes[i]):  \n",
        "Seaborn의 barplot 함수를 사용하여 막대 그래프를 그립니다. x축에는 각 변수의 값, y축에는 해당 값의 빈도수가 표시됩니다. 그래프는 현재 순회 중인 서브플롯 'axes[i]'에 그려집니다.\n",
        "- axes[i].set_title(f'{var} Counts'):  \n",
        "각 서브플롯에 제목을 설정합니다. 제목은 변수 이름과 \"Counts\"를 함께 표시하게 됩니다.\n",
        "\n",
        "\n",
        ">**결과 해석**  \n",
        "- 'credit_df' 데이터프레임의 'phone', 'FLAG_MOBIL', 'work_phone' 변수들의 값에 대한 빈도수를 막대 그래프로 시각화한 결과를 얻을 수 있습니다.\n",
        "- subplots을 활용하면 각 변수에 대한 그래프가 나란히 배치되어 비교가 용이하게 됩니다\n",
        "- FLAG_MOBIL 변수는 값이 하나만 존재하기 때문에 큰 의미가 없어 보입니다."
      ]
    },
    {
      "cell_type": "code",
      "execution_count": null,
      "metadata": {
        "colab": {
          "base_uri": "https://localhost:8080/"
        },
        "id": "FfzahN6ZQHni",
        "outputId": "acd36f03-5ea1-4290-bde1-59717a031e67"
      },
      "outputs": [
        {
          "data": {
            "text/plain": [
              "Index(['gender', 'car', 'reality', 'child_num', 'income_total', 'income_type',\n",
              "       'edu_type', 'family_type', 'house_type', 'DAYS_BIRTH', 'DAYS_EMPLOYED',\n",
              "       'FLAG_MOBIL', 'work_phone', 'phone', 'email', 'occyp_type',\n",
              "       'family_size', 'begin_month', 'credit', 'days_employed',\n",
              "       'month_employed', 'years_employed', 'days_birth', 'age', 'ages',\n",
              "       'income_range'],\n",
              "      dtype='object')"
            ]
          },
          "execution_count": 34,
          "metadata": {},
          "output_type": "execute_result"
        }
      ],
      "source": [
        "credit_df.columns"
      ]
    },
    {
      "cell_type": "code",
      "execution_count": null,
      "metadata": {
        "colab": {
          "base_uri": "https://localhost:8080/"
        },
        "id": "F43K_Z0GSwMT",
        "outputId": "ab61be5a-b36a-4aaf-d73e-e8d5235869c9"
      },
      "outputs": [
        {
          "data": {
            "text/plain": [
              "14"
            ]
          },
          "execution_count": 35,
          "metadata": {},
          "output_type": "execute_result"
        }
      ],
      "source": [
        "# credit_df 중 데이터가 범주형인 열 이름만 features_obj 변수에 리스트 형태로 저장\n",
        "features_obj = ['gender','car','reality','email','phone','income_type','edu_type','family_type',\n",
        "                'house_type','child_num','occyp_type','family_size','ages','income_range']\n",
        "len(features_obj)"
      ]
    },
    {
      "cell_type": "markdown",
      "metadata": {
        "id": "tQtq2Y7HIKoo"
      },
      "source": [
        ">**Inst.**  \n",
        "- 범주형 데이터를 시각화해서 보기 위해 features_obj에 범주형 변수만 리스트 형태로 저장합니다.\n",
        "\n",
        ">**결과 해석**  \n",
        "-  features_obj에 범주형 변수만 저장됩니다.\n",
        "- len()을 통해 범주형 열 개수가 몇개인지 출력합니다."
      ]
    },
    {
      "cell_type": "code",
      "execution_count": null,
      "metadata": {
        "id": "V_gPmtCRD3qR"
      },
      "outputs": [],
      "source": [
        "# 반복문과 subplots를 활용해 범주형 Count 시각화\n",
        "\n",
        "# 서브플롯 생성 후 크기 설정\n",
        "fig, ax = plt.subplots(ncols = 2, nrows = 7, figsize = (15,30))\n",
        "\n",
        "# 2차원 배열로 생성된 서브플롯을 1차원 배열로 펼침\n",
        "ax = ax.flatten()\n",
        "\n",
        "# 서브플롯 간격과 여백 조절\n",
        "fig.subplots_adjust(wspace = 0.4, hspace = 0.3, top = 0.94)\n",
        "\n",
        "# 범주형 변수들의 값을 countplot으로 시각화\n",
        "for idx, col in enumerate(features_obj):\n",
        "    order = credit_df[col].value_counts().index\n",
        "    sns.countplot(data = credit_df, y=col, order=order, ax=ax[idx])\n",
        "\n",
        "    #서브플롯에 변수 이름을 제목으로 설정하고, y축과 x축의 레이블을 제거합니다.\n",
        "    ax[idx].set_title(col, fontsize=15)\n",
        "    ax[idx].set_ylabel('')\n",
        "    ax[idx].set_xlabel('')\n",
        "\n",
        "# 그래프 전체 제목 설정, 폰트 사이즈 조정\n",
        "fig.suptitle('Object Features Count', fontsize = 20)\n",
        "\n",
        "# y축 폰트 사이즈 조정\n",
        "plt.yticks(fontsize = 10);"
      ]
    },
    {
      "cell_type": "markdown",
      "metadata": {
        "id": "ZGyBfpT5IKGf"
      },
      "source": [
        ">**Inst.**  \n",
        "- 반복문(for idx, col in enumerate(features_obj)):   \n",
        "features_obj 리스트에 있는 범주형 변수들을 순회하면서 그래프를 그립니다.\n",
        "- order = credit_df[col].value_counts().index:  \n",
        "각 변수의 값들을 빈도순으로 정렬한 후 해당 순서를 order에 저장합니다.\n",
        "- sns.countplot(data=credit_df, y=col, order=order, ax=ax[idx]):  \n",
        "Seaborn의 countplot 함수를 사용하여 변수의 값에 대한 빈도수를 막대 그래프로 그립니다. 변수 값을 y축에 표시합니다.\n",
        "- ax[idx].set_title(col, fontsize=15), ax[idx].set_ylabel(''), ax[idx].set_xlabel(''):  \n",
        "서브플롯에 변수 이름을 제목으로 설정하고, y축과 x축의 레이블을 제거합니다.\n",
        "\n",
        ">**결과 해석**  \n",
        "여러 범주형 변수들에 대한 빈도수를 막대 그래프로 시각화한 결과를 얻을 수 있습니다."
      ]
    },
    {
      "cell_type": "markdown",
      "metadata": {
        "id": "gkA2vbkjEGo-"
      },
      "source": [
        "### 범주형 변수의 타겟 변수 분포"
      ]
    },
    {
      "cell_type": "code",
      "execution_count": null,
      "metadata": {
        "id": "d3v1l8SsEFbv"
      },
      "outputs": [],
      "source": [
        "# 서브플롯 생성 후 크기 설정\n",
        "fig, ax = plt.subplots(ncols = 3, nrows = 14, figsize = (35,70))\n",
        "\n",
        "# 서브플롯 간격과 여백 조절\n",
        "fig.subplots_adjust(hspace = 0.3, wspace = 0.5, top = 0.94)\n",
        "\n",
        "# 2차원 배열로 생성된 서브플롯을 1차원 배열로 펼침\n",
        "ax = ax.flatten()\n",
        "credits = [0,1,2]\n",
        "\n",
        "\n",
        "for i, col in enumerate(features_obj):\n",
        "\n",
        "    # 타겟 변수 값들을 순회하면서 해당 값을 기준으로 조건을 생성합니다.\n",
        "    for num, label in enumerate(credits):\n",
        "\n",
        "        # 해당 타겟 변수 값에 해당하는 조건을 생성\n",
        "        cond = credit_df['credit'] == label\n",
        "\n",
        "        # 조건에 해당하는 데이터에서 변수의 값들을 빈도순으로 정렬\n",
        "        order = credit_df[cond][col].value_counts().index\n",
        "\n",
        "        # countplot 함수를 사용하여 빈도수를 막대 그래프로 시각화\n",
        "        sns.countplot(data = credit_df[cond], y = col, order = order, ax = ax[3*i + num])\n",
        "\n",
        "        # 서브 그래프의 제목 설정\n",
        "        ax[num].set_title(f'Credit = {label}', fontsize=25)\n",
        "\n",
        "        # 세로 방향으로 한 열에 3개씩 배치하기 위한 조건문\n",
        "        if num % 3 == 0:\n",
        "            ax[3*i+num].set_ylabel(col, fontsize=25) # 첫 열 서브플롯 변수 이름을 y축 레이블로 설정\n",
        "        else:\n",
        "            ax[3*i+num].set_ylabel('') # 첫 열을 제외한 서브플롯의 y축 제거\n",
        "\n",
        "        ax[3*i+num].set_xlabel('') # 모든 x축 레이블을 제거 (모두 count)\n",
        "        plt.sca(ax[3 * i + num])  # 현재 Axes 설정\n",
        "        plt.yticks(fontsize=15) # font size 설정\n",
        "\n",
        "# 그래프 전체 제목, 제목 간격, 폰트 사이즈 조정\n",
        "fig.suptitle('Countplot of Objective Features according to Label', y=0.96, fontsize=40);\n"
      ]
    },
    {
      "cell_type": "markdown",
      "metadata": {
        "id": "xI3v_uvUIJg_"
      },
      "source": [
        ">**Inst.**\n",
        "-  타겟 변수에 따라 여러 범주형 변수들의 값을 서브플롯을 활용하여 시각화해 봅시다.\n",
        "- Seaborn의 countplot 함수를 사용하여 조건에 해당하는 데이터에서 변수의 값에 대한 빈도수를 막대 그래프로 그립니다.\n",
        "- 서브플롯의 인덱스를 ax[3*i+num]로 설정합니다.\n",
        "- 서브플롯에 변수 이름을 y축 레이블로 설정합니다.\n",
        "\n",
        ">**결과 해석**  \n",
        "- 타겟 변수에 따라 여러 범주형 변수들의 빈도수가 어떻게 되는지 확인할 수 있습니다.\n",
        "- occyp_type과 family_size 변수에서 분포에 변화가 조금씩 있다는 것을 발견할 수 있습니다."
      ]
    },
    {
      "cell_type": "markdown",
      "metadata": {
        "id": "gSh0y7wZEON8"
      },
      "source": [
        "## 3.3 수치형 변수"
      ]
    },
    {
      "cell_type": "code",
      "execution_count": null,
      "metadata": {
        "id": "exuRWVnX-3-w"
      },
      "outputs": [],
      "source": [
        "# credit_df의 열 중에 수치형 변수만 골라봅시다.\n",
        "credit_df.columns"
      ]
    },
    {
      "cell_type": "code",
      "execution_count": null,
      "metadata": {
        "id": "S2o-2QcPERtS"
      },
      "outputs": [],
      "source": [
        "# features_num에 수치형 열 이름 저장\n",
        "features_num = ['income_total','years_employed','month_employed','days_employed',\n",
        "        'days_birth','age','begin_month', 'family_size']"
      ]
    },
    {
      "cell_type": "code",
      "execution_count": null,
      "metadata": {
        "id": "4ApDkgcYEUSp"
      },
      "outputs": [],
      "source": [
        "sns.color_palette('pastel',1)"
      ]
    },
    {
      "cell_type": "markdown",
      "metadata": {
        "id": "iB4qiLz1IIbp"
      },
      "source": [
        ">**Inst.**  \n",
        "- Seaborn 라이브러리의 color_palette 함수를 사용하여 'pastel' 색상 팔레트에서 하나의 색상을 반환하는 작업을 수행합니다.\n",
        "\n",
        ">**결과 해석**  \n",
        "- 출력할 색상을 미리 볼 수 있습니다."
      ]
    },
    {
      "cell_type": "code",
      "execution_count": null,
      "metadata": {
        "id": "4pxB1cB3EXOB"
      },
      "outputs": [],
      "source": [
        "# 2열 4행의 서브플롯을 생성하고 크기를 설정\n",
        "fig, ax = plt.subplots(ncols = 2, nrows = 4, figsize = (20,10))\n",
        "\n",
        "#  2차원 배열로 생성된 서브플롯을 1차원 배열로 펼침\n",
        "ax = ax.flatten()\n",
        "\n",
        "# 서브플롯 사이의 세로 간격을 조절\n",
        "fig.subplots_adjust(hspace=0.6)\n",
        "\n",
        "# 수치형 변수들을 순회하면서 히스토그램을 그리는 반복문을 실행\n",
        "for idx, col in enumerate(features_num):\n",
        "    sns.histplot(data = credit_df, x = col, kde = True, ax = ax[idx])\n",
        "\n",
        "    # 각 그래프에 변수 이름을 제목으로 설정\n",
        "    ax[idx].set_title(col, fontsize=15)\n",
        "\n",
        "    # 그래프의 x축과 y축 레이블을 제거\n",
        "    ax[idx].set_xlabel('')\n",
        "    ax[idx].set_ylabel('')\n",
        "\n",
        "## 만약 짝수로 떨어지지 않는다면 그래프 틀을 지울 수 있음\n",
        "# ax[7].axis('off')\n",
        "\n",
        "# 그림 전체의 제목\n",
        "fig.suptitle('Numeric Features Count', fontsize=20);\n"
      ]
    },
    {
      "cell_type": "markdown",
      "metadata": {
        "id": "Kyl_tvfmIGTP"
      },
      "source": [
        ">**Inst.**  \n",
        "- Seaborn의 histplot 함수를 사용하여 변수의 분포를 히스토그램으로 그립니다.\n",
        "- 밀도 추정 그래프(Kernel Density Estimate, KDE)도 함께 표시합니다.\n",
        "\n",
        ">**결과 해석**  \n",
        "- credit_df의 수치형 변수들을 히스토그램으로 시각화한 결과를 얻을 수 있습니다.\n",
        "- 각 변수별 분포와 KDE를 확인할 수 있습니다."
      ]
    },
    {
      "cell_type": "markdown",
      "metadata": {
        "id": "nesW5tR8EZpc"
      },
      "source": [
        "### 수치형 변수의 타겟 변수 분포"
      ]
    },
    {
      "cell_type": "code",
      "execution_count": null,
      "metadata": {
        "id": "77osBF9PEdSg"
      },
      "outputs": [],
      "source": [
        "# 2열 4행의 서브플롯을 생성하고 크기를 설정\n",
        "fig, ax = plt.subplots(ncols = 2, nrows = 4, figsize = (15, 20))\n",
        "\n",
        "ax = ax.flatten() # index로 접근할 수 있게 함\n",
        "\n",
        "# 서브플롯 사이의 가로 간격, 세로 간격, 그리고 그림의 상단 여백을 조절\n",
        "fig.subplots_adjust(wspace = 0.3, hspace = 0.3, top=0.94)\n",
        "\n",
        "# 수치형 변수들을 순회하면서 상자그림을 그리는 반복문을 실행\n",
        "for idx, col in enumerate(features_num):\n",
        "    sns.boxplot(data = credit_df, x = 'credit', y = col, ax = ax[idx])\n",
        "\n",
        "    # 각 그래프에 변수 이름을 제목으로 설정\n",
        "    ax[idx].set_title(col, fontsize=15)\n",
        "\n",
        "    # 그래프의 x축과 y축 레이블을 제거\n",
        "    ax[idx].set_xlabel('')\n",
        "    ax[idx].set_ylabel('')\n",
        "\n",
        "## 만약 짝수로 떨어지지 않는다면 그래프 틀을 지울 수 있음\n",
        "# ax[7].axis('off')\n",
        "\n",
        "# 그림 전체의 제목을 설정\n",
        "fig.suptitle('Boxplot of Numeric Features according to Label', fontsize=20);\n"
      ]
    },
    {
      "cell_type": "markdown",
      "metadata": {
        "id": "4La-4MbpIFRi"
      },
      "source": [
        ">**Inst.**  \n",
        "- 상자그림(Box Plot)은 데이터의 분포를 시각화하는 유용한 도구입니다.\n",
        "- 상자그림은 데이터의 중앙값, 사분위수, 이상치 등을 나타내어 데이터의 분포와 특성을 파악하는 데 도움을 줍니다.\n",
        "- 상자 (Box): 데이터의 25%부터 75%까지의 범위를 나타냅니다. 이 범위를 사분위 범위(IQR, Interquartile Range)라고 부릅니다. 상자 내부에 중앙값(median)이 표시됩니다.\n",
        "- 수염 (Whiskers): 상자 바깥에 있는 선으로, 데이터의 전체 범위를 나타내지만 일부 이상치는 제외될 수 있습니다.\n",
        "- 이상치 (Outliers): 수염 바깥에 위치한 개별적인 값들을 나타냅니다. 이상치는 일반적인 데이터 분포에서 벗어난 값들을 의미합니다.\n",
        "\n",
        "\n",
        "\n",
        ">**결과 해석**  \n",
        "**상자그림을 해석하는 방법**:\n",
        "- 상자의 상단과 하단은 데이터의 25%와 75% 사분위수를 나타냅니다.\n",
        "- 즉, 상자의 높이는 IQR입니다.\n",
        "- 상자 내부의 가로선은 중앙값(median)을 나타냅니다.\n",
        "- 수염은 데이터의 범위를 나타냅니다.\n",
        "- 일반적으로 수염은 IQR의 1.5배를 넘는 범위에 있는 값들 중에서 가장 가까운 값까지 표시됩니다.\n",
        "- 수염 바깥에 있는 개별 값들은 이상치(outliers)로 간주될 수 있습니다.\n",
        "- 상자그림을 통해 데이터의 분포, 중앙값, 사분위 범위, 이상치를 시각적으로 파악할 수 있습니다."
      ]
    },
    {
      "cell_type": "markdown",
      "metadata": {
        "id": "CqupGQRGEnH7"
      },
      "source": [
        "### 변수들과 타겟 변수 간 상관관계 분석\n",
        "**⭐ 상관관계 분석시 주의 사항**\n",
        "- A와 B의 상관관계가 높으면 함께 움직이는 '경향'이 있다는 것\n",
        "- 'A를 증가하게 만들면 B가 증가할 것이다'라는\n",
        "인과관계는 잘못된 해석"
      ]
    },
    {
      "cell_type": "code",
      "execution_count": null,
      "metadata": {
        "id": "Z0mcwPRj-asl"
      },
      "outputs": [],
      "source": [
        "credit_df.columns"
      ]
    },
    {
      "cell_type": "code",
      "execution_count": null,
      "metadata": {
        "id": "HxHjcxqNE1WZ"
      },
      "outputs": [],
      "source": [
        "# 파생변수, 원변수 중 하나만 (파생변수와 원변수의 상관관계를 제하고 보기 위해)\n",
        "cor = credit_df.drop(['age','ages','DAYS_BIRTH','DAYS_EMPLOYED','month_employed','years_employed','income_range','FLAG_MOBIL'], axis=1).corr()"
      ]
    },
    {
      "cell_type": "markdown",
      "metadata": {
        "id": "VvpOuUvpIEg_"
      },
      "source": [
        ">**Inst.**  \n",
        "- .corr() 를 사용해 상관관계를 구합니다.\n",
        "- 상관계수는 두 변수 간의 선형적 관계를 나타내며, -1부터 1까지의 값을 가집니다.\n",
        "- 파생변수는 기존의 변수들을 가공하거나 변형하여 새로운 변수를 만든 것을 의미합니다. - 이 때, 파생변수와 원변수 사이에는 상관관계가 있을 수 있습니다.\n",
        "- 예를 들어, '나이'라는 원변수와 '출생일'을 기반으로 계산한 '경과 년수'라는 파생변수는 높은 상관관계를 가질 수 있습니다.\n",
        "- 만약 파생변수와 원변수의 상관관계를 제외하고, 두 변수 중 하나만 선택하여 분석하거나 시각화하고자 한다면, 두 변수 중 하나를 선택하여 사용하는 것이 일반적입니다.\n",
        "- 이렇게 하면 상관관계로 인한 중복 정보를 피하고, 각 변수의 개별적인 특성을 더 잘 파악할 수 있습니다.\n",
        "\n",
        ">**결과 해석**  \n",
        "- 결과적으로, cor는 변수들 간의 상관계수 행렬을 나타내는 데이터프레임입니다.\n",
        "- 이 행렬은 각 변수 쌍 간의 상관계수 값을 보여줍니다.\n",
        "- 상관계수가 양수일 경우 두 변수가 양의 선형 관계를 가지며, 음수일 경우 음의 선형 관계를 가집니다.\n",
        "- 0에 가까울수록 두 변수 간의 선형 관계가 약하거나 없음을 의미합니다."
      ]
    },
    {
      "cell_type": "code",
      "execution_count": null,
      "metadata": {
        "id": "nri34n54E4w9"
      },
      "outputs": [],
      "source": [
        "# 상관관계 확인\n",
        "\n",
        "mask = np.triu(np.ones_like(cor))\n",
        "\n",
        "# 히트맵을 그릴 새로운 그림을 생성하고, 그림 크기를 설정\n",
        "fig, ax = plt.subplots(figsize = (12, 10))\n",
        "\n",
        "# Seaborn의 heatmap 함수를 사용하여 상관계수 히트맵을 시각화\n",
        "sns.heatmap(data = cor, mask = mask, annot=True, fmt = '.2f', ax = ax,\n",
        "            cmap = 'winter_r', linewidths = 5, vmin = -1, vmax = 1)\n",
        "\n",
        "# 히트맵의 제목을 설정\n",
        "ax.set_title('Correlationship', fontsize = 20, y=1.05)\n",
        "\n",
        "# x축 눈금 레이블을 45도 각도로 회전하여 표시\n",
        "plt.xticks(rotation=45);"
      ]
    },
    {
      "cell_type": "markdown",
      "metadata": {
        "id": "jjAAI88nIDnu"
      },
      "source": [
        "**히트맵**\n",
        "\n",
        "- 히트맵(Heatmap)은 데이터를 시각화하는 방법 중 하나로, 데이터의 상대적인 값을 색상으로 표현하여 패턴과 관계를 시각적으로 파악하기 쉽게 해주는 도구입니다.\n",
        "- 주로 행과 열을 가진 표 형태의 데이터를 시각화할 때 사용되며, 데이터의 밀도와 패턴을 파악하는 데 유용합니다.\n",
        "- 특히 상관관계, 분포, 패턴을 시각화하고 이해하는 데 많이 활용됩니다."
      ]
    },
    {
      "cell_type": "markdown",
      "metadata": {
        "id": "v1BDT-gt0PJR"
      },
      "source": [
        ">**Inst.**  \n",
        "- mask:  \n",
        "주어진 상관계수 행렬 cor와 동일한 크기의 상삼각 행렬을 만듭니다. 이 행렬은 하삼각 부분을 모두 0으로 채우고, 상삼각 부분은 1로 채웁니다. 이렇게 하면 히트맵에서 하삼각 부분은 표시되지 않습니다.\n",
        "- data=cor:  \n",
        "상관계수 행렬인 cor를 입력 데이터로 사용합니다.\n",
        "- annot=True:  \n",
        "각 셀에 상관계수 값을 주석으로 표시합니다.\n",
        "- fmt='.2f':  \n",
        "주석 값의 출력 형식을 소수점 둘째자리까지 설정합니다.\n",
        "- cmap='winter_r':  \n",
        "색상 맵을 'winter_r'로 설정합니다.\n",
        "- linewidths=5:  \n",
        "각 셀 사이의 선의 너비를 조정합니다.\n",
        "- vmin=-1, vmax=1:  \n",
        "컬러맵의 최소값과 최대값을 설정하여 상관계수의 범위를 조정합니다.\n",
        "\n",
        ">**결과 해석**  \n",
        "- 변수들 간의 상관계수를 시각적으로 표현한 상관관계 히트맵이 생성됩니다.\n",
        "- 각 셀에는 상관계수 값이 표시되며, 색상을 통해 상관계수의 크기와 방향을 파악할 수 있습니다."
      ]
    },
    {
      "cell_type": "code",
      "execution_count": null,
      "metadata": {
        "id": "H4hrdwHLE9a0"
      },
      "outputs": [],
      "source": [
        "# 높은 상관관계를 보이는 변수만 산점도로 확인하는 방법\n",
        "\n",
        "# 산점도를 그릴 새로운 그림을 생성하고, 그림의 크기를 설정\n",
        "fig, ax = plt.subplots(figsize = (10,5))\n",
        "\n",
        "# Seaborn 라이브러리의 scatterplot 함수를 사용하여 산점도 시각화\n",
        "sns.scatterplot(data = credit_df, x = 'family_size', y = 'child_num', ax = ax)\n",
        "\n",
        "# 그래프의 제목 설정\n",
        "ax.set_title('Scatterplot of highly correlated variables');\n",
        "ax.set_xticks(list(range(0, 22, 2)));"
      ]
    },
    {
      "cell_type": "markdown",
      "metadata": {
        "id": "13d1B3YeIDIb"
      },
      "source": [
        ">**Inst.**  \n",
        "- 산점도를 통해 두 변수 간의 분포와 관계를 직접 확인할 수 있습니다. 만약 다른 높은 상관관계를 보이는 변수 쌍을 시각화하려면, 위의 코드를 그 변수들에 맞게 수정하여 사용할 수 있습니다.\n",
        "\n",
        ">**결과 해석**  \n",
        "- 'family_size'와 'child_num' 변수 간의 관계를 시각화한 산점도가 생성됩니다."
      ]
    },
    {
      "cell_type": "markdown",
      "metadata": {
        "id": "r2RuaWSl3Dms"
      },
      "source": [
        "# 4 특징공학"
      ]
    },
    {
      "cell_type": "markdown",
      "metadata": {
        "id": "zi8CAQwBocLs"
      },
      "source": [
        "### 4.1 이상치 처리\n",
        "\n",
        "**이상치 처리**\n",
        "\n",
        "이상치(Outliers)란 값의 범위가 일반적인 범위를 벗어나 특이한 값을 갖는 것을 말합니다. 데이터에 이상치가 포함되어 있다면 해당 이상치가 왜 발생했는지를 파악하는 것이 중요합니다.\n",
        "\n",
        "이상치를 관찰하려면 다음 방법들을 활용할 수 있습니다:\n",
        "\n",
        "1. **개별 데이터 관찰**: 데이터 값을 시각적으로 확인하여 전반적인 추세와 특이한 값들을 관찰합니다.\n",
        "2. **요약 통계 지표 사용**: 평균, 중앙값, 분산, 범위 등의 통계 지표를 계산하여 이상치를 확인합니다.\n",
        "3. **시각화 활용**: 히스토그램, 확률밀도 함수 등의 그래프를 그려 데이터 분포를 시각적으로 확인합니다.\n",
        "\n",
        "데이터를 이해하고 있다면 이상치의 원인을 파악하고 처리 방법을 결정할 수 있습니다.\n",
        "\n",
        "표준화(Standardization)는 이상치 처리를 위한 하나의 방법입니다. 이 방법은 데이터를 평균이 0, 표준편차가 1인 분포로 변환하여, +3 이상이거나 -3 이하인 값들을 이상치로 처리하는 방법입니다.\n",
        "\n",
        "데이터의 특성에 따라 이상치를 어떻게 처리할지를 결정해야 합니다. 이상치 처리 방법으로는 제거, 대치, 유지 등이 있으며, 도메인 지식이 있다면 더욱 정확한 처리가 가능합니다."
      ]
    },
    {
      "cell_type": "markdown",
      "metadata": {
        "id": "VvNCQRpMG_2h"
      },
      "source": [
        "이상치 처리를 위한 코드는 다음과 같이 작동합니다.\n",
        "\n",
        "먼저, from scipy import stats 를 통해 SciPy 라이브러리의 stats 모듈을 가져옵니다. 이 모듈은 통계적 분석을 위한 다양한 함수와 도구를 제공합니다.\n",
        "\n",
        "위에 시각화를 통해 날짜 데이터를 제외하고 income_columns, family_size의 이상치를 제거가 필요하다는 것을 알수 있었다."
      ]
    },
    {
      "cell_type": "code",
      "execution_count": null,
      "metadata": {
        "id": "F-QbjLhUFNL5"
      },
      "outputs": [],
      "source": [
        "from scipy import stats\n",
        "\n",
        "# 이상치를 제거할 대상 변수 선택\n",
        "target_columns = ['income_total', 'family_size']\n",
        "\n",
        "# Z-스코어 계산 및 임계값 설정\n",
        "z_scores = np.abs(stats.zscore(credit_df[target_columns]))\n",
        "\n",
        "# 임계값 설정\n",
        "threshold = 5\n",
        "\n",
        "# Z-스코어가 임계값보다 작은 데이터 포인트만 남기기\n",
        "credit_df = credit_df[(z_scores < threshold).all(axis=1)]\n"
      ]
    },
    {
      "cell_type": "markdown",
      "metadata": {
        "id": "J8Fq3cvcG4w5"
      },
      "source": [
        "우리는 income_total과 family_size 두 열에서 이상치를 탐지하고 처리할 것이므로, 이 열들을 target_columns 리스트에 담습니다.\n",
        "\n",
        "다음으로, stats.zscore 함수를 사용하여 선택한 대상 열들에 대한 Z-스코어를 계산합니다. Z-스코어는 데이터의 평균과 표준 편차를 고려하여 각 데이터 포인트가 얼마나 표준 편차에 떨어져 있는지를 나타내는 값입니다. 그리고 절대값을 취하여 모든 Z-스코어를 양수로 만듭니다.\n",
        "\n",
        "그리고 임계값(threshold)을 설정합니다. 이 임계값은 Z-스코어의 크기를 나타내며, 이 값보다 큰 Z-스코어를 갖는 데이터 포인트를 이상치로 간주합니다. 임계값을 더 크게 설정하면 더 \"극단적인\" 이상치만을 탐지하게 되고, 반대로 작게 설정하면 더 많은 데이터를 이상치로 처리하게 됩니다.\n",
        "\n",
        "마지막으로, 이상치로 판단된 데이터 포인트들을 삭제합니다. 이상치로 판단되려면 모든 대상 열에서 해당 데이터 포인트의 Z-스코어가 임계값보다 작아야 합니다. 따라서 .all(axis=1)을 사용하여 모든 열에 대해 True인 데이터 포인트만을 선택하여 새로운 데이터프레임 credit_df에 저장합니다.\n",
        "\n",
        "이로써 income_total과 family_size 열에서 이상치를 탐지하고 이를 제거하는 작업이 수행됩니다. 이상치를 제거함으로써 데이터의 정확성과 품질을 향상시킬 수 있습니다.\n"
      ]
    },
    {
      "cell_type": "markdown",
      "metadata": {
        "id": "4xp2-ZOkCw9t"
      },
      "source": [
        "#5.학습/예측\n",
        "\n",
        "이번 프로젝트는 Scikit-Learn을 활용하여 모델의 학습과 예측을 진행할 것입니다. Scikit-Learn은 다양한 머신러닝 알고리"
      ]
    },
    {
      "cell_type": "markdown",
      "metadata": {
        "id": "4qjLufsBzLJu"
      },
      "source": [
        "**sklearn 라이브러리**\n",
        "\n",
        "Scikit-Learn은 파이썬 기반의 라이브러리로, 데이터 분석 및 머신러닝 적용을 위한 강력한 도구입니다. 다양한 알고리즘, 프레임워크, API를 제공하며 오랜 기간에 걸쳐 안정성이 검증되었습니다. 이 라이브러리는 데이터 분석과 모델 학습에 필수적인 기능을 제공하는 핵심적인 라이브러리입니다.\n",
        "\n",
        "Scikit-Learn에서 주요한 메서드 중에서 fit, transform, 그리고 fit_transform에 대한 개념을 알아보겠습니다.\n",
        "\n",
        "- **fit**: 데이터를 학습시키는 메서드로, 주로 훈련 데이터에 적용하여 분포를 학습합니다.\n",
        "- **transform**: 실제로 학습시킨 내용을 적용하는 메서드로, fit을 기반으로 데이터를 변형합니다.\n",
        "- **fit_transform**: fit과 transform이 결합된 단축 메서드로, 훈련 데이터에 대해 fit하고 변형을 한 번에 수행합니다.\n",
        "\n",
        "이때 주의해야 할 점은 훈련 데이터에는 fit_transform 메서드를 적용하는 반면, 테스트 데이터에는 transform 메서드만을 사용해야 합니다. 테스트 데이터에도 fit을 적용하면 기존 훈련 데이터에 적용한 분포를 무시하고 새로운 분포를 생성하게 됩니다.\n",
        "\n",
        "테스트 데이터는 모델의 성능을 평가하기 위해 단 한 번만 사용되어야 하는 데이터입니다. 따라서 훈련 데이터와 테스트 데이터의 변환을 할 때에는 주의깊게 다뤄야 합니다."
      ]
    },
    {
      "cell_type": "code",
      "execution_count": null,
      "metadata": {
        "id": "mzUz82trDTF7"
      },
      "outputs": [],
      "source": [
        "from sklearn.model_selection import train_test_split\n",
        "from sklearn.preprocessing import LabelEncoder\n",
        "from sklearn.tree import DecisionTreeClassifier\n",
        "from sklearn.metrics import accuracy_score, precision_score, recall_score, f1_score, roc_auc_score, roc_curve"
      ]
    },
    {
      "cell_type": "markdown",
      "metadata": {
        "id": "9xHTD4qddwoL"
      },
      "source": [
        ">**Inst.**  \n",
        "- 모델 학습과 예측을 위해 필요한 scikit-learn 라이브러리를 모두 불러옵니다."
      ]
    },
    {
      "cell_type": "markdown",
      "metadata": {
        "id": "4TgbuZFSC0ZR"
      },
      "source": [
        "## 5.1 학습 전 데이터 변환"
      ]
    },
    {
      "cell_type": "markdown",
      "metadata": {
        "id": "r6fbIJ_FEyeQ"
      },
      "source": [
        "### 가) 레이블 인코딩- 카테고리 변수"
      ]
    },
    {
      "cell_type": "code",
      "execution_count": null,
      "metadata": {
        "id": "zLDQNNQY1Km8"
      },
      "outputs": [],
      "source": [
        "# categorical 변수 인코딩\n",
        "from sklearn.preprocessing import LabelEncoder\n",
        "\n",
        "categorical_cols = ['gender', 'car', 'reality', 'income_type', 'edu_type', 'family_type', 'house_type', 'occyp_type', 'FLAG_MOBIL', 'work_phone', 'phone', 'email', 'income_range']\n",
        "label_encoder = LabelEncoder()\n",
        "for col in categorical_cols:\n",
        "    credit_df[col] = label_encoder.fit_transform(credit_df[col])  # fit_transform으로 label 인코딩 수행\n",
        "    test[col] = label_encoder.transform(test[col])\n",
        "    # test에도 fit_transform을 하면 leakage로 취급될 수 있음\n",
        "display(credit_df.head())\n",
        "test"
      ]
    },
    {
      "cell_type": "markdown",
      "metadata": {
        "id": "cXEEu1D5dzXY"
      },
      "source": [
        ">**Inst.**  \n",
        "- scikit-learn 라이브러리의 LabelEncoder를 불러옵니다. 이는 범주형 변수를 숫자형 변수로 변환하는데 사용됩니다.\n",
        "- categorical_cols 리스트에 변환하려는 범주형 변수의 컬럼 이름들을 정의합니다.\n",
        "- label_encoder = LabelEncoder(): LabelEncoder클래스의 인스턴스를 생성한 후 이 인스턴스를 사용하여 범주형 변수를 변환합니다.\n",
        "- 범주형 컬럼에 대해 fit_transform 메서드를 사용하여 범주형 변수를 숫자로 인코딩합니다.(훈련데이터셋과 테스트데이터셋 모두 동일한 변환을 적용하려면 test에도 transform이 필요함)\n",
        "- 훈련데이터와 테스트데이터셋의 첫 다섯행을 출력하여 변환된 데이터를 확인합니다.\n",
        "\n",
        ">**결과 해석**  \n",
        "- 훈련데이터와 테스트데이터의 모든 범주형 변수들이 숫자형변수로 변환되었음을 확인하였습니다."
      ]
    },
    {
      "cell_type": "code",
      "execution_count": null,
      "metadata": {
        "id": "qru7tDmWaGIF"
      },
      "outputs": [],
      "source": [
        "credit_df.columns"
      ]
    },
    {
      "cell_type": "markdown",
      "metadata": {
        "id": "4T_tLD5pE7mI"
      },
      "source": [
        "### 나) Train-Test 데이터 셋 분리"
      ]
    },
    {
      "cell_type": "markdown",
      "metadata": {
        "id": "DLuIZpH-6_NM"
      },
      "source": [
        "Train 데이터와 Test 데이터를 분리하는 이유는 모델의 일반화 능력을 평가하고 검증하기 위함입니다. 이를 위해 데이터를 두개의 서로 다른 부분으로 나누어 사용합니다. 모델이 학습한 데이터에 대해서는 잘 동작할 수 있지만, 새로운 데이터에 대해서는 어떻게 예측할지를 평가해야합니다. Train 데이터로 모델을 학습시키고, Test 데이터로 학습에 사용되지 않은 데이터에 대한 성능을 평가합니다."
      ]
    },
    {
      "cell_type": "code",
      "execution_count": null,
      "metadata": {
        "id": "Z79EP39C3IDA"
      },
      "outputs": [],
      "source": [
        "# Train-test 데이터 셋 분리\n",
        "X = credit_df.drop('credit',axis=1)\n",
        "y = credit_df['credit']\n",
        "X_train, X_test, y_train, y_test = train_test_split(X, y, test_size=0.1, random_state=42, stratify=y)"
      ]
    },
    {
      "cell_type": "markdown",
      "metadata": {
        "id": "FpOhvM9cd0cx"
      },
      "source": [
        ">**Inst.**  \n",
        "- train데이터(credit_df)를 훈련데이터셋과 테스트데이터셋으로 분리합니다.\n",
        "- train데이터(credt_df)에서 credit 컬럼을 제외한 특성 데이터 X를 생성합니다.\n",
        "- train데이터(credit_df)에서 타겟변수 y로 credit 컬럼만을 선택하여 생성합니다.\n",
        "- train_test_split(X, y, test_size=0.1, random_state=42): 데이터를 훈련셋과 테스트셋으로 분리하는 함수입니다. 여기서 X는 특성 데이터이고, y는 타겟 데이터입니다.\n",
        "  - test_size=0.1: 테스트셋의 비율을 나타냅니다. 여기서는 전체 데이터 중 10%를 테스트셋으로 사용하도록 설정하였습니다.\n",
        "  - random_state=42: 난수 발생 시드(seed) 값을 설정하여, 데이터를 무작위로 섞을 때 동일한 결과를 얻을 수 있도록 합니다. 여기서는 42라는 임의의 값으로 설정하였습니다.\n",
        "\n",
        ">**결과 해석**  \n",
        "- X_train, X_test, y_train, y_test: train_test_split 함수의 반환 값입니다. 각각은 다음과 같은 역할을 가집니다:\n",
        "  - X_train: 훈련셋의 특성 데이터\n",
        "  - X_test: 테스트셋의 특성 데이터\n",
        "  - y_train: 훈련셋의 타겟 데이터\n",
        "  - y_test: 테스트셋의 타겟 데이터\n",
        "- 이렇게 데이터를 훈련셋과 테스트셋으로 나누면, 모델을 훈련시키고 해당 모델의 성능을 테스트 데이터로 평가할 수 있습니다."
      ]
    },
    {
      "cell_type": "markdown",
      "metadata": {
        "id": "vq_24dPtE_JM"
      },
      "source": [
        "### 다) 데이터 정규화"
      ]
    },
    {
      "cell_type": "code",
      "execution_count": null,
      "metadata": {
        "id": "aNLx8WGb0p8h"
      },
      "outputs": [],
      "source": [
        "from sklearn.preprocessing import MinMaxScaler\n",
        "\n",
        "# MinMaxScaler 객체 생성\n",
        "scaler = MinMaxScaler()\n",
        "\n",
        "# MinMaxScaler로 데이터 셋 변환\n",
        "X_train_scaled = scaler.fit_transform(X_train)\n",
        "X_test_scaled = scaler.transform(X_test)"
      ]
    },
    {
      "cell_type": "markdown",
      "metadata": {
        "id": "mamLkTWFd02_"
      },
      "source": [
        ">**Inst.**  \n",
        "- sklearn.preprocessing 모듈에서 MinMaxScaler 클래스를 가져옵니다.\n",
        "- MinMaxScaler 클래스의 객체를 생성합니다. 이 객체는 데이터를 변환할 때 사용되며, 데이터의 값을 최소값과 최대값 사이의 범위로 조정합니다.\n",
        "-fit_transform 메서드를 사용하여 학습 데이터인 X_train을 MinMax 스케일링합니다. 이 메서드는 데이터를 스케일링하면서 동시에 스케일링을 위한 파라미터를 계산합니다.\n",
        "- transform 메서드를 사용하여 테스트 데이터인 X_test를 이미 계산된 스케일링 파라미터를 이용하여 스케일링합니다. 학습 데이터에 계산한 파라미터를 사용하여 테스트 데이터도 동일한 스케일로 조정합니다.\n",
        "\n",
        ">**결과 해석**  \n",
        "- Min-Max 스케일링 과정이 적용되어 X_train_scaled와 X_test_scaled가 생성됩니다.\n",
        "- 이 과정을 통해 각 특성의 값들이 최소값과 최대값 사이의 범위로 조정되며, 이는 데이터 간의 상대적인 크기 차이를 줄여줍니다."
      ]
    },
    {
      "cell_type": "markdown",
      "metadata": {
        "id": "Sklh86BgSAeU"
      },
      "source": [
        "## 5.2 Decision Tree 모델 학습/예측 수행"
      ]
    },
    {
      "cell_type": "markdown",
      "metadata": {
        "id": "WQGr_5LPSghQ"
      },
      "source": [
        "**Decision Tree 모델**\n",
        "\n",
        "Decision Tree 모델은 데이터를 기반으로 여러 개의 결정 규칙을 통해 분류나 회귀 작업을 수행하는 모델입니다. 트리 구조를 사용하여 데이터를 분할하고, 각 분할마다 특정 특성을 기준으로 결정 규칙을 생성합니다. 이러한 결정 규칙들을 따라가면서 입력 데이터가 해당되는 리프노드(마지막 단계의 노드)에 도달하면 해당 리프 노드의 예측 값을 반환합니다.  \n",
        "\n",
        "**Decision Tree 모델의 특징**\n",
        "\n",
        "*   직관적인 분류 방법: Decision Tree는 데이터의 특성을 기반으로 직관적인 결정 규칙을 생성하기 때문에 해석이 쉽습니다.\n",
        "*  데이터 전처리의 필요성이 상대적으로 낮음: 스케일링이나 정규화와 같은 전처리 과정이 크게 필요하지 않습니다.\n",
        "*  Overfitting 관리: 트리의 깊이나 가지치기 등의 매개변수를 통해 과적합을 제어할 수 있습니다.\n",
        "*  다중 클래스 문제에서도 사용 가능: Decision Tree를 사용하여 다중 클래스 분류 문제를 해결할 수 있습니다.\n",
        "\n",
        "scikit-learn은 파이썬의 머신러닝 라이브러리 중 하나로, 다양한 머신러닝 알고리즘과 도구를 제공합니다. 이 중에서도 Decision Tree 모델은 데이터를 분류하는 문제를 해결하는데 사용되는 강력하고 직관적인 알고리즘입니다. 따라서 이번 신용카드 등급 분류 예측 문제에 Decision Tree 모델을 이용하여 모델 학습과 예측을 수행하였습니다.\n",
        "\n"
      ]
    },
    {
      "cell_type": "code",
      "execution_count": null,
      "metadata": {
        "id": "mP02QBHQ1lt6"
      },
      "outputs": [],
      "source": [
        "# Decision Tree 모델 생성 및 학습\n",
        "dt_model = DecisionTreeClassifier()\n",
        "dt_model.fit(X_train_scaled, y_train)\n",
        "dt_predictions = dt_model.predict(X_test_scaled) # 학습 데이터 셋으로 예측 수행"
      ]
    },
    {
      "cell_type": "markdown",
      "metadata": {
        "id": "lQFUx100d1nE"
      },
      "source": [
        ">**Inst.**  \n",
        "- dt_model = DecisionTreeClassifier(): DecisionTreeClassifier 클래스의 인스턴스인 dt_model을 생성합니다. 이 클래스는 결정 트리 기반의 분류 모델을 생성하는 데 사용됩니다.\n",
        "- dt_model.fit(X_train_scaled, y_train): 표준화된 훈련 데이터인 X_train_scaled와 해당 데이터의 레이블인 y_train을 사용하여 결정 트리 모델을 학습시킵니다. 결정 트리는 훈련 데이터의 특성과 레이블 사이의 의사결정 규칙을 학습합니다.\n",
        "- dt_predictions = dt_model.predict(X_test_scaled): 표준화된 테스트 데이터인 X_test_scaled를 사용하여 학습된 결정 트리 모델로 예측을 수행합니다. 이 예측 결과를 dt_predictions에 저장합니다.\n",
        "- 결정 트리는 의사결정 트리 형태로 데이터를 분할하며 각 분할된 영역마다 특정 클래스로 분류될 확률을 가장 높이는 기준을 찾는 모델입니다. 학습된 결정 트리 모델을 사용하면 새로운 데이터에 대한 예측을 수행할 수 있습니다.\n",
        "\n",
        ">**결과 해석**  \n",
        "- Decision Tree 모델을 생성하고 X_test_scaled를 사용하여 학습된 결정 트리모델로 예측을 수행합니다."
      ]
    },
    {
      "cell_type": "markdown",
      "metadata": {
        "id": "zdmAfxePSKB-"
      },
      "source": [
        "## 5.3 성능 검증"
      ]
    },
    {
      "cell_type": "markdown",
      "metadata": {
        "id": "noCFawaOFYuK"
      },
      "source": [
        "### 가) 교차 검증"
      ]
    },
    {
      "cell_type": "markdown",
      "metadata": {
        "id": "o2eQ7S1kuGEO"
      },
      "source": [
        "**K-fold 교차 검증은 모델의 일반화 성능을 추정하기 위해 데이터를 훈련 세트와 검증 세트로 나누는 과정을 여러 번 반복하여 모델의 성능을 평균적으로 평가하는 방법입니다.**\n",
        "\n",
        "- K-fold 교차검증 과정\n",
        "\n",
        "1. 데이터를 K개의 폴드(Fold)로 나눕니다. 각 폴드는 데이터의 일정 부분으로 구성됩니다.\n",
        "2. 모델을 K번 훈련하고 검증합니다. 각각의 반복에서 한 폴드는 검증 세트로 사용되고 나머지 K-1개 폴드는 훈련 세트로 사용됩니다.\n",
        "3. 각 반복에서 모델의 성능 지표(예: 정확도, F1-score 등)을 기록합니다.\n",
        "4. K번의 반복을 모두 마치면, 성능 지표의 평균을 계산하여 최종 성능을 얻습니다."
      ]
    },
    {
      "cell_type": "code",
      "execution_count": null,
      "metadata": {
        "colab": {
          "background_save": true
        },
        "id": "AJp6RjG106oZ",
        "outputId": "6db77e40-ee8d-4d8e-b303-f231911a60b6"
      },
      "outputs": [
        {
          "name": "stdout",
          "output_type": "stream",
          "text": [
            "Decision Tree Cross Validation Accuracy: 0.62 (+/- 0.01)\n"
          ]
        }
      ],
      "source": [
        "from sklearn.model_selection import cross_val_score\n",
        "\n",
        "# 두가지 모델의 K-fold 교차검증 수행\n",
        "k = 10  # K-fold의 수\n",
        "scores_dt = cross_val_score(dt_model, X_train_scaled, y_train, cv=k, scoring='accuracy')\n",
        "\n",
        "# 교차검증 결과 출력\n",
        "print(\"Decision Tree Cross Validation Accuracy: {:.2f} (+/- {:.2f})\".format(scores_dt.mean(), scores_dt.std() * 2))"
      ]
    },
    {
      "cell_type": "markdown",
      "metadata": {
        "id": "pyJJDsOed2BK"
      },
      "source": [
        ">**Inst.**  \n",
        "- scikit-learn의 cross_val_score 함수를 import합니다. 이 함수는 교차검증을 수행하여 모델의 성능을 평가하는데 사용됩니다.\n",
        "- K-fold 교차 검증의 K 값, 즉 데이터를 몇 개의 폴드(fold)로 나눌지를 결정합니다. 여기서는 10-fold를 사용하겠다고 지정했습니다.\n",
        "- 결정 트리 모델인 dt_model에 대해 동일한 방식으로 K-fold 교차 검증을 수행합니다. 교차 검증 결과는 scores_dt에 저장됩니다.\n",
        "-  K-fold 교차 검증 결과인 평균 정확도와 표준 편차를 출력합니다. {:.2f}와 같이 형식 지정자를 사용하여 소수점 두 자리까지 출력 형식을 지정합니다.\n",
        "\n",
        ">**결과 해석**  \n",
        "- Decision Tree의 교차검증 정확도가 0.62로 출력되었습니다."
      ]
    },
    {
      "cell_type": "markdown",
      "metadata": {
        "id": "X5UWGOXCS6eh"
      },
      "source": [
        "### 나) Confusion Matrix"
      ]
    },
    {
      "cell_type": "code",
      "execution_count": null,
      "metadata": {
        "colab": {
          "background_save": true
        },
        "id": "p-Ae12jS-Z_j",
        "outputId": "3fffb3c9-e22a-41f5-bb37-091f7ff57c97"
      },
      "outputs": [
        {
          "name": "stdout",
          "output_type": "stream",
          "text": [
            "Decision Tree Confusion Matrix:\n"
          ]
        },
        {
          "data": {
            "text/html": [
              "\n",
              "  <div id=\"df-118fef23-f722-42ec-8a0b-4f6bd8d8325c\" class=\"colab-df-container\">\n",
              "    <div>\n",
              "<style scoped>\n",
              "    .dataframe tbody tr th:only-of-type {\n",
              "        vertical-align: middle;\n",
              "    }\n",
              "\n",
              "    .dataframe tbody tr th {\n",
              "        vertical-align: top;\n",
              "    }\n",
              "\n",
              "    .dataframe thead th {\n",
              "        text-align: right;\n",
              "    }\n",
              "</style>\n",
              "<table border=\"1\" class=\"dataframe\">\n",
              "  <thead>\n",
              "    <tr style=\"text-align: right;\">\n",
              "      <th></th>\n",
              "      <th>real 1</th>\n",
              "      <th>real 2</th>\n",
              "      <th>real 3</th>\n",
              "    </tr>\n",
              "  </thead>\n",
              "  <tbody>\n",
              "    <tr>\n",
              "      <th>pred 1</th>\n",
              "      <td>106</td>\n",
              "      <td>75</td>\n",
              "      <td>140</td>\n",
              "    </tr>\n",
              "    <tr>\n",
              "      <th>pred 2</th>\n",
              "      <td>71</td>\n",
              "      <td>301</td>\n",
              "      <td>253</td>\n",
              "    </tr>\n",
              "    <tr>\n",
              "      <th>pred 3</th>\n",
              "      <td>162</td>\n",
              "      <td>293</td>\n",
              "      <td>1235</td>\n",
              "    </tr>\n",
              "  </tbody>\n",
              "</table>\n",
              "</div>\n",
              "    <div class=\"colab-df-buttons\">\n",
              "\n",
              "  <div class=\"colab-df-container\">\n",
              "    <button class=\"colab-df-convert\" onclick=\"convertToInteractive('df-118fef23-f722-42ec-8a0b-4f6bd8d8325c')\"\n",
              "            title=\"Convert this dataframe to an interactive table.\"\n",
              "            style=\"display:none;\">\n",
              "\n",
              "  <svg xmlns=\"http://www.w3.org/2000/svg\" height=\"24px\" viewBox=\"0 -960 960 960\">\n",
              "    <path d=\"M120-120v-720h720v720H120Zm60-500h600v-160H180v160Zm220 220h160v-160H400v160Zm0 220h160v-160H400v160ZM180-400h160v-160H180v160Zm440 0h160v-160H620v160ZM180-180h160v-160H180v160Zm440 0h160v-160H620v160Z\"/>\n",
              "  </svg>\n",
              "    </button>\n",
              "\n",
              "  <style>\n",
              "    .colab-df-container {\n",
              "      display:flex;\n",
              "      gap: 12px;\n",
              "    }\n",
              "\n",
              "    .colab-df-convert {\n",
              "      background-color: #E8F0FE;\n",
              "      border: none;\n",
              "      border-radius: 50%;\n",
              "      cursor: pointer;\n",
              "      display: none;\n",
              "      fill: #1967D2;\n",
              "      height: 32px;\n",
              "      padding: 0 0 0 0;\n",
              "      width: 32px;\n",
              "    }\n",
              "\n",
              "    .colab-df-convert:hover {\n",
              "      background-color: #E2EBFA;\n",
              "      box-shadow: 0px 1px 2px rgba(60, 64, 67, 0.3), 0px 1px 3px 1px rgba(60, 64, 67, 0.15);\n",
              "      fill: #174EA6;\n",
              "    }\n",
              "\n",
              "    .colab-df-buttons div {\n",
              "      margin-bottom: 4px;\n",
              "    }\n",
              "\n",
              "    [theme=dark] .colab-df-convert {\n",
              "      background-color: #3B4455;\n",
              "      fill: #D2E3FC;\n",
              "    }\n",
              "\n",
              "    [theme=dark] .colab-df-convert:hover {\n",
              "      background-color: #434B5C;\n",
              "      box-shadow: 0px 1px 3px 1px rgba(0, 0, 0, 0.15);\n",
              "      filter: drop-shadow(0px 1px 2px rgba(0, 0, 0, 0.3));\n",
              "      fill: #FFFFFF;\n",
              "    }\n",
              "  </style>\n",
              "\n",
              "    <script>\n",
              "      const buttonEl =\n",
              "        document.querySelector('#df-118fef23-f722-42ec-8a0b-4f6bd8d8325c button.colab-df-convert');\n",
              "      buttonEl.style.display =\n",
              "        google.colab.kernel.accessAllowed ? 'block' : 'none';\n",
              "\n",
              "      async function convertToInteractive(key) {\n",
              "        const element = document.querySelector('#df-118fef23-f722-42ec-8a0b-4f6bd8d8325c');\n",
              "        const dataTable =\n",
              "          await google.colab.kernel.invokeFunction('convertToInteractive',\n",
              "                                                    [key], {});\n",
              "        if (!dataTable) return;\n",
              "\n",
              "        const docLinkHtml = 'Like what you see? Visit the ' +\n",
              "          '<a target=\"_blank\" href=https://colab.research.google.com/notebooks/data_table.ipynb>data table notebook</a>'\n",
              "          + ' to learn more about interactive tables.';\n",
              "        element.innerHTML = '';\n",
              "        dataTable['output_type'] = 'display_data';\n",
              "        await google.colab.output.renderOutput(dataTable, element);\n",
              "        const docLink = document.createElement('div');\n",
              "        docLink.innerHTML = docLinkHtml;\n",
              "        element.appendChild(docLink);\n",
              "      }\n",
              "    </script>\n",
              "  </div>\n",
              "\n",
              "\n",
              "<div id=\"df-68ace75a-cd9d-4ddd-84f5-8ae2fe3f9a8b\">\n",
              "  <button class=\"colab-df-quickchart\" onclick=\"quickchart('df-68ace75a-cd9d-4ddd-84f5-8ae2fe3f9a8b')\"\n",
              "            title=\"Suggest charts.\"\n",
              "            style=\"display:none;\">\n",
              "\n",
              "<svg xmlns=\"http://www.w3.org/2000/svg\" height=\"24px\"viewBox=\"0 0 24 24\"\n",
              "     width=\"24px\">\n",
              "    <g>\n",
              "        <path d=\"M19 3H5c-1.1 0-2 .9-2 2v14c0 1.1.9 2 2 2h14c1.1 0 2-.9 2-2V5c0-1.1-.9-2-2-2zM9 17H7v-7h2v7zm4 0h-2V7h2v10zm4 0h-2v-4h2v4z\"/>\n",
              "    </g>\n",
              "</svg>\n",
              "  </button>\n",
              "\n",
              "<style>\n",
              "  .colab-df-quickchart {\n",
              "      --bg-color: #E8F0FE;\n",
              "      --fill-color: #1967D2;\n",
              "      --hover-bg-color: #E2EBFA;\n",
              "      --hover-fill-color: #174EA6;\n",
              "      --disabled-fill-color: #AAA;\n",
              "      --disabled-bg-color: #DDD;\n",
              "  }\n",
              "\n",
              "  [theme=dark] .colab-df-quickchart {\n",
              "      --bg-color: #3B4455;\n",
              "      --fill-color: #D2E3FC;\n",
              "      --hover-bg-color: #434B5C;\n",
              "      --hover-fill-color: #FFFFFF;\n",
              "      --disabled-bg-color: #3B4455;\n",
              "      --disabled-fill-color: #666;\n",
              "  }\n",
              "\n",
              "  .colab-df-quickchart {\n",
              "    background-color: var(--bg-color);\n",
              "    border: none;\n",
              "    border-radius: 50%;\n",
              "    cursor: pointer;\n",
              "    display: none;\n",
              "    fill: var(--fill-color);\n",
              "    height: 32px;\n",
              "    padding: 0;\n",
              "    width: 32px;\n",
              "  }\n",
              "\n",
              "  .colab-df-quickchart:hover {\n",
              "    background-color: var(--hover-bg-color);\n",
              "    box-shadow: 0 1px 2px rgba(60, 64, 67, 0.3), 0 1px 3px 1px rgba(60, 64, 67, 0.15);\n",
              "    fill: var(--button-hover-fill-color);\n",
              "  }\n",
              "\n",
              "  .colab-df-quickchart-complete:disabled,\n",
              "  .colab-df-quickchart-complete:disabled:hover {\n",
              "    background-color: var(--disabled-bg-color);\n",
              "    fill: var(--disabled-fill-color);\n",
              "    box-shadow: none;\n",
              "  }\n",
              "\n",
              "  .colab-df-spinner {\n",
              "    border: 2px solid var(--fill-color);\n",
              "    border-color: transparent;\n",
              "    border-bottom-color: var(--fill-color);\n",
              "    animation:\n",
              "      spin 1s steps(1) infinite;\n",
              "  }\n",
              "\n",
              "  @keyframes spin {\n",
              "    0% {\n",
              "      border-color: transparent;\n",
              "      border-bottom-color: var(--fill-color);\n",
              "      border-left-color: var(--fill-color);\n",
              "    }\n",
              "    20% {\n",
              "      border-color: transparent;\n",
              "      border-left-color: var(--fill-color);\n",
              "      border-top-color: var(--fill-color);\n",
              "    }\n",
              "    30% {\n",
              "      border-color: transparent;\n",
              "      border-left-color: var(--fill-color);\n",
              "      border-top-color: var(--fill-color);\n",
              "      border-right-color: var(--fill-color);\n",
              "    }\n",
              "    40% {\n",
              "      border-color: transparent;\n",
              "      border-right-color: var(--fill-color);\n",
              "      border-top-color: var(--fill-color);\n",
              "    }\n",
              "    60% {\n",
              "      border-color: transparent;\n",
              "      border-right-color: var(--fill-color);\n",
              "    }\n",
              "    80% {\n",
              "      border-color: transparent;\n",
              "      border-right-color: var(--fill-color);\n",
              "      border-bottom-color: var(--fill-color);\n",
              "    }\n",
              "    90% {\n",
              "      border-color: transparent;\n",
              "      border-bottom-color: var(--fill-color);\n",
              "    }\n",
              "  }\n",
              "</style>\n",
              "\n",
              "  <script>\n",
              "    async function quickchart(key) {\n",
              "      const quickchartButtonEl =\n",
              "        document.querySelector('#' + key + ' button');\n",
              "      quickchartButtonEl.disabled = true;  // To prevent multiple clicks.\n",
              "      quickchartButtonEl.classList.add('colab-df-spinner');\n",
              "      try {\n",
              "        const charts = await google.colab.kernel.invokeFunction(\n",
              "            'suggestCharts', [key], {});\n",
              "      } catch (error) {\n",
              "        console.error('Error during call to suggestCharts:', error);\n",
              "      }\n",
              "      quickchartButtonEl.classList.remove('colab-df-spinner');\n",
              "      quickchartButtonEl.classList.add('colab-df-quickchart-complete');\n",
              "    }\n",
              "    (() => {\n",
              "      let quickchartButtonEl =\n",
              "        document.querySelector('#df-68ace75a-cd9d-4ddd-84f5-8ae2fe3f9a8b button');\n",
              "      quickchartButtonEl.style.display =\n",
              "        google.colab.kernel.accessAllowed ? 'block' : 'none';\n",
              "    })();\n",
              "  </script>\n",
              "</div>\n",
              "    </div>\n",
              "  </div>\n"
            ],
            "text/plain": [
              "        real 1  real 2  real 3\n",
              "pred 1     106      75     140\n",
              "pred 2      71     301     253\n",
              "pred 3     162     293    1235"
            ]
          },
          "execution_count": 55,
          "metadata": {},
          "output_type": "execute_result"
        }
      ],
      "source": [
        "# Confusion matrix\n",
        "from sklearn.metrics import confusion_matrix\n",
        "\n",
        "confusion_matrix_df = pd.DataFrame(confusion_matrix(y_test, dt_predictions),\n",
        "                                   index = ['pred 1','pred 2','pred 3'],\n",
        "                                   columns = ['real 1','real 2', 'real 3'])\n",
        "\n",
        "print(\"Decision Tree Confusion Matrix:\")\n",
        "confusion_matrix_df"
      ]
    },
    {
      "cell_type": "code",
      "execution_count": null,
      "metadata": {
        "colab": {
          "background_save": true
        },
        "id": "9fE-Z6EuJFEm",
        "outputId": "1bd7138d-d59b-436f-ed0f-79684d5166c1"
      },
      "outputs": [
        {
          "data": {
            "text/plain": [
              "Text(0.5, 1.0, 'Confusion matrix')"
            ]
          },
          "execution_count": 56,
          "metadata": {},
          "output_type": "execute_result"
        },
        {
          "data": {
            "image/png": "[encoded data removed]",
            "text/plain": [
              "<Figure size 700x700 with 1 Axes>"
            ]
          },
          "metadata": {},
          "output_type": "display_data"
        }
      ],
      "source": [
        "# 혼동행렬 히트맵으로 시각화\n",
        "plt.figure(figsize=(7, 7))\n",
        "\n",
        "sns.heatmap(confusion_matrix_df, fmt = 'd', annot = True,  cmap = 'Blues',\n",
        "            linewidths = 10, cbar = False)\n",
        "ax = plt.gca()\n",
        "ax.tick_params(axis = 'x', labeltop = True, labelbottom = False)\n",
        "\n",
        "ax.set_title('Confusion matrix', fontsize=20)"
      ]
    },
    {
      "cell_type": "markdown",
      "metadata": {
        "id": "jTN9TupHd2bw"
      },
      "source": [
        ">**Inst.**  \n",
        "- Confusion Matrix는 모델의 성능을 평가하는데 유용한 지표 중 하나로, 클래스 별로 예측 오류의 종류를 파악할 수 있습니다. 이를 통해 모델이 어떤 클래스를 더 잘 예측하고 어떤 클래스에서 예측이 부정확한지를 확인할 수 있습니다.\n",
        "- Scikit-learn의 confusion_matrix 함수를 불러옵니다. 이 함수는 모델의 예측 결과와 실제 레이블 간의 오차 행렬을 생성하는데 사용됩니다.\n",
        "- Decision Tree 모델의 Confusion Matrix를 계산합니다. 실제 레이블인 y_test와 Decision Tree 모델의 예측 결과인 dt_predictions를 입력으로 사용하여 오차 행렬을 계산하고 dt_cm에 저장하고 출력합니다.\n",
        "\n",
        ">**결과 해석**  \n",
        "- 각 행은 실제 클래스를 나타내며, 각 열은 모델의 예측 클래스를 나타냅니다. 따라서 Confusion Matrix의 값은 다음과 같은 의미를 갖습니다:\n",
        "  - 클래스 0에 대한 예측:\n",
        "    - 실제 클래스 0인 경우: 100건을 정확히 예측 (True Negative, TN)\n",
        "    - 실제 클래스 1로 잘못 예측: 81건 (False Positive, FP)\n",
        "    - 실제 클래스 2로 잘못 예측: 140건 (False Positive, FP)\n",
        "  - 클래스 1에 대한 예측:\n",
        "    - 실제 클래스 0으로 잘못 예측: 78건 (False Negative, FN)\n",
        "    - 실제 클래스 1인 경우: 287건을 정확히 예측 (True Positive, TP)\n",
        "    - 실제 클래스 2로 잘못 예측: 260건 (False Positive, FP)\n",
        "  - 클래스 2에 대한 예측:\n",
        "    - 실제 클래스 0으로 잘못 예측: 161건 (False Negative, FN)\n",
        "    - 실제 클래스 1로 잘못 예측: 305건 (False Negative, FN)\n",
        "    - 실제 클래스 2인 경우: 1224건을 정확히 예측 (True Positive, TP)"
      ]
    },
    {
      "cell_type": "markdown",
      "metadata": {
        "id": "tDzWW5tNTBRK"
      },
      "source": [
        "### 다) 다양한 성능 검증(Accuracy, precision, Recall, F1 score 등)"
      ]
    },
    {
      "cell_type": "code",
      "execution_count": null,
      "metadata": {
        "colab": {
          "background_save": true
        },
        "id": "P6bh5zfd_fgA",
        "outputId": "8a89d5c8-ced3-4c04-a1a4-f5878495d6df"
      },
      "outputs": [
        {
          "name": "stdout",
          "output_type": "stream",
          "text": [
            "Decision Tree Model Performance:\n",
            "Accuracy: 0.6229135053110774\n",
            "Precision: 0.631110826797945\n",
            "Recall: 0.6229135053110774\n",
            "F1 Score: 0.6266886628882649\n",
            "\n"
          ]
        }
      ],
      "source": [
        "# 성능 검증\n",
        "dt_accuracy = accuracy_score(y_test, dt_predictions)\n",
        "dt_precision = precision_score(y_test, dt_predictions, average='weighted')\n",
        "dt_recall = recall_score(y_test, dt_predictions, average='weighted')\n",
        "dt_f1 = f1_score(y_test, dt_predictions, average='weighted')\n",
        "\n",
        "# Decision Tree 모델의 성능 출력\n",
        "print(\"Decision Tree Model Performance:\")\n",
        "print(\"Accuracy:\", dt_accuracy)\n",
        "print(\"Precision:\", dt_precision)\n",
        "print(\"Recall:\", dt_recall)\n",
        "print(\"F1 Score:\", dt_f1)\n",
        "print()"
      ]
    },
    {
      "cell_type": "markdown",
      "metadata": {
        "id": "PmpHrci3d3GP"
      },
      "source": [
        ">**Inst.**  \n",
        "- accuracy_score: 예측된 결과인 dt_predictions와 실제 레이블 y_test간의 정확도를 계산합니다. 정확도는 예측 결과 중 올바르게 예측된 샘플의 비율을 나타냅니다.\n",
        "- precision_score: 예측된 결과인 dt_predictions와 실제 레이블인 y_test 간의 정밀도를 계산합니다. 정밀도는 양성으로 예측한 샘플 중에서 실제로 양성인 샘플의 비율을 나타냅니다. average='weighted'는 다중 클래스(multiclass) 문제에서 클래스 간 불균형을 고려하여 가중 평균을 계산하라는 의미입니다.\n",
        "- recall_score: 예측된 결과인 dt_predictions와 실제 레이블인 y_test간의 재현율을 계산합니다. 재현율은 실제 양성인 샘플 중에서 양성으로 올바르게 예측한 샘플의 비율을 나타냅니다. 마찬가지로 average='weighted'는 가중 평균을 사용합니다.\n",
        "- f1_score함수는 예측된 결과인 dt_predictions와 실제 레이블인 y_test간의 F1스코어를 계산합니다. F1스코어는 정밀도와 재현율의 조화 평균으로, 모델의 예측 성능을 종합적으로 평가하는 지표입니다. 마찬가지로 average='weighted'는 가중평균을 사용합니다.\n",
        "\n",
        ">**결과 해석**  \n",
        "- 정확도는 약 0.6111로 나타났습니다. 이는 모델이 전체 테스트 데이터에서 약 61.11%의 샘플을 올바르게 예측했다는 것을 나타냅니다.\n",
        "- 정밀도는 약 0.6202로 나타났습니다. 이는 모델이 양성으로 예측한 샘플 중에서 실제로 양성인 샘플의 비율을 나타내며, 약 62.02%의 정밀도를 가진다는 것을 의미합니다.\n",
        "- 재현율은 약 0.6111로 나타났습니다. 이는 모델이 실제 양성인 샘플 중에서 약 58.99%를 양성으로 정확하게 예측했다는 것을 나타냅니다. 즉, 모든 실제 양성 샘플을 찾는 데 약 61.11%의 성공률을 가지고 있다는 것을 의미합니다.\n",
        "- F1 스코어는 약 0.6153로 나타났습니다. F1 스코어는 정밀도와 재현율의 조화 평균으로 계산되며, 이 값은 모델의 예측 능력을 종합적으로 나타냅니다. 약 61.53%의 F1 스코어를 가진다는 것을 의미합니다.\n",
        "- 종합적으로, 결정 트리 모델의 성능은 중간 정도 수준으로 판단됩니다."
      ]
    },
    {
      "cell_type": "markdown",
      "metadata": {
        "id": "Utwi9FItDEDA"
      },
      "source": [
        "## 5.4 하이퍼파라미터 튜닝\n",
        "\n",
        "하이퍼파라미터는 머신러닝 모델의 동작을 제어하고 조절하는 매개변수로, 모델의 성능과 일반화 능력에 큰 영향을 미칩니다. 적절한 하이퍼파라미터를 선택하면 모델의 성능을 향상시킬 수 있습니다. 이를 위해 RandomizedSearchCV를 사용하여 최적의 하이퍼파라미터를 찾는 과정을 수행했습니다."
      ]
    },
    {
      "cell_type": "markdown",
      "metadata": {
        "id": "WotWGD02Ghgw"
      },
      "source": [
        "### 가) 하이퍼파라미터 튜닝\n",
        "하이퍼파라미터는 모델의 성능 및 일반화 능력에 큰 영향을 미치는 중요한 조절 변수입니다. RandomizedSearchCV를 활용하여 최적의 하이퍼파라미터를 찾습니다."
      ]
    },
    {
      "cell_type": "markdown",
      "metadata": {
        "id": "ibkcnGQ8Sd3U"
      },
      "source": [
        "1. 데이터 준비\n",
        "\n",
        "우선, 데이터를 준비하고 오버샘플링을 수행합니다. 오버샘플링은 클래스 불균형 문제를 해결하기 위해 적은 클래스의 샘플을 증가시키는 작업입니다. SMOTE(Synthetic Minority Over-sampling Technique)를 사용하여 적은 클래스의 샘플을 증가시켰습니다."
      ]
    },
    {
      "cell_type": "markdown",
      "metadata": {
        "id": "gvIryfXITovs"
      },
      "source": [
        "데이터를 불러온 후, 클래스 불균형 문제를 해결하기 위해 오버샘플링 기법 중 하나인 SMOTE(Synthetic Minority Over-sampling Technique)을 사용합니다.\n",
        "SMOTE는 적은 클래스(여기서는 'Positive' 클래스)의 샘플을 생성하여 데이터의 클래스 균형을 조정합니다.\n",
        "오버샘플링을 통해 생성된 샘플들은 실제 데이터를 기반으로 생성되므로 데이터 불균형 문제를 완화할 수 있습니다."
      ]
    },
    {
      "cell_type": "code",
      "execution_count": null,
      "metadata": {
        "colab": {
          "background_save": true
        },
        "id": "SmwKAORHnG6f"
      },
      "outputs": [],
      "source": [
        "from imblearn.over_sampling import SMOTE\n",
        "\n",
        "# 오버샘플링을 적용한 훈련 데이터 준비\n",
        "smote = SMOTE(random_state = 42)\n",
        "X_train_resampled, y_train_resampled = smote.fit_resample(X_train_scaled, y_train)"
      ]
    },
    {
      "cell_type": "markdown",
      "metadata": {
        "id": "dSg1E7JdShZ8"
      },
      "source": [
        "2. 하이퍼파라미터 탐색 공간 정의\n",
        "\n",
        "하이퍼파라미터 튜닝을 위해 먼저 탐색할 하이퍼파라미터의 후보들을 정의합니다. 이러한 후보 값들은 모델의 성능을 평가하고 선택할 때 사용됩니다. 아래와 같은 하이퍼파라미터 탐색 공간을 정의했습니다.\n",
        "\n",
        "하이퍼파라미터 튜닝을 위해 먼저 탐색할 하이퍼파라미터의 후보들을 정의합니다.\n",
        "여기서는 의사결정 트리 모델의 max_depth, min_samples_split, min_samples_leaf, max_features와 같은 하이퍼파라미터들을 탐색합니다."
      ]
    },
    {
      "cell_type": "code",
      "execution_count": null,
      "metadata": {
        "colab": {
          "background_save": true
        },
        "id": "sw2dXNImSg_0"
      },
      "outputs": [],
      "source": [
        "from sklearn.tree import DecisionTreeClassifier\n",
        "from sklearn.model_selection import RandomizedSearchCV, cross_val_score\n",
        "from sklearn.metrics import make_scorer, accuracy_score, precision_score, recall_score, f1_score, confusion_matrix\n",
        "import seaborn as sns\n",
        "import matplotlib.pyplot as plt\n",
        "\n",
        "# 하이퍼파라미터 정의\n",
        "dt_params = {\n",
        "    \"max_depth\": [10, 20, 30, 40, 50, None],\n",
        "    \"min_samples_split\": [2, 5, 10, 15, 20, 30],\n",
        "    \"min_samples_leaf\": [1, 2, 3, 4, 5, 6, 7, 8, 9, 10],\n",
        "    \"max_features\": [\"sqrt\", \"log2\", None, 0.1, 0.2, 0.3, 0.4, 0.5],\n",
        "}"
      ]
    },
    {
      "cell_type": "markdown",
      "metadata": {
        "id": "UyvsUQelSkss"
      },
      "source": [
        "이렇게 정의된 하이퍼파라미터 후보들은 튜닝 과정에서 탐색됩니다.\n",
        "\n",
        "3. 랜덤 서치를 통한 하이퍼파라미터 탐색\n",
        "\n",
        "랜덤 서치(RandomizedSearchCV)는 주어진 하이퍼파라미터 탐색 공간에서 무작위로 조합을 선택하고, 각 조합에 대해 교차 검증을 수행하여 최적의 조합을 찾는 방법입니다. 아래 코드에서는 Decision Tree 모델에 대해 랜덤 서치를 수행합니다.\n",
        "\n",
        "RandomizedSearchCV 객체를 생성하고, 이를 사용하여 최적의 하이퍼파라미터를 찾습니다.\n",
        "이 과정에서 교차 검증을 수행하여 모델의 일반화 성능을 평가합니다."
      ]
    },
    {
      "cell_type": "code",
      "execution_count": null,
      "metadata": {
        "colab": {
          "background_save": true
        },
        "id": "bePiDGYTSqZ1",
        "outputId": "c7186d43-1940-4b9e-ee13-67f60c264dbf"
      },
      "outputs": [
        {
          "data": {
            "text/plain": [
              "{'min_samples_split': 2,\n",
              " 'min_samples_leaf': 1,\n",
              " 'max_features': 0.4,\n",
              " 'max_depth': 40}"
            ]
          },
          "execution_count": 60,
          "metadata": {},
          "output_type": "execute_result"
        }
      ],
      "source": [
        "from sklearn.tree import DecisionTreeClassifier\n",
        "from sklearn.model_selection import RandomizedSearchCV\n",
        "\n",
        "# Decision Tree 모델 생성\n",
        "dt_classifier = DecisionTreeClassifier(random_state=42)\n",
        "\n",
        "# 랜덤 서치를 통한 하이퍼파라미터 탐색\n",
        "dt_random_search = RandomizedSearchCV(dt_classifier, dt_params, n_iter=min(36, len(dt_params['max_depth']) * len(dt_params['min_samples_split']) * len(dt_params['min_samples_leaf']) * len(dt_params['max_features'])), cv=5, scoring='accuracy', random_state=42)\n",
        "\n",
        "# 랜덤 서치를 데이터에 적용\n",
        "dt_random_search.fit(X_train_resampled, y_train_resampled)\n",
        "\n",
        "# 최적의 하이퍼파라미터 조합 확인\n",
        "best_dt_params = dt_random_search.best_params_\n",
        "best_dt_params\n"
      ]
    },
    {
      "cell_type": "markdown",
      "metadata": {
        "id": "ydz1jtnfStMM"
      },
      "source": [
        "4. 최적 모델 학습\n",
        "\n",
        "랜덤 서치를 통해 찾은 최적의 하이퍼파라미터 조합으로 새로운 Decision Tree 모델을 생성하고 학습합니다.\n",
        "\n",
        "이 모델은 최적의 조합으로 튜닝된 모델이며, 오버샘플링된 훈련 데이터에 대해 학습됩니다."
      ]
    },
    {
      "cell_type": "code",
      "execution_count": null,
      "metadata": {
        "colab": {
          "background_save": true
        },
        "id": "IwFoggg0SsUk",
        "outputId": "358d7b53-34be-4bcf-a69e-ba6651c476dc"
      },
      "outputs": [
        {
          "name": "stdout",
          "output_type": "stream",
          "text": [
            "min_samples_split: 2\n",
            "min_samples_leaf: 1\n",
            "max_features: 0.4\n"
          ]
        }
      ],
      "source": [
        "# 최적의 하이퍼파라미터로 Decision Tree 모델 생성\n",
        "best_dt_model = DecisionTreeClassifier(max_depth=best_dt_params[\"max_depth\"],\n",
        "                                       min_samples_split=best_dt_params[\"min_samples_split\"],\n",
        "                                       min_samples_leaf=best_dt_params[\"min_samples_leaf\"],\n",
        "                                       max_features=best_dt_params[\"max_features\"],\n",
        "                                       random_state=42)\n",
        "\n",
        "# 최적 모델 학습\n",
        "best_dt_model.fit(X_train_resampled, y_train_resampled)\n",
        "print(\"min_samples_split:\", best_dt_params[\"min_samples_split\"])\n",
        "print(\"min_samples_leaf:\", best_dt_params[\"min_samples_leaf\"])\n",
        "print(\"max_features:\", best_dt_params[\"max_features\"])"
      ]
    },
    {
      "cell_type": "markdown",
      "metadata": {
        "id": "OszXRkVLSwW4"
      },
      "source": [
        "5. 모델 성능 평가\n",
        "\n",
        "최적 모델을 사용하여 테스트 데이터에 대한 예측을 수행하고 모델의 성능을 평가합니다. 여기서는 정확도(accuracy), 정밀도(precision), 재현율(recall), F1 점수(f1-score) 및 혼동 행렬(confusion matrix)을 사용하여 모델의 성능을 평가하였습니다."
      ]
    },
    {
      "cell_type": "code",
      "execution_count": null,
      "metadata": {
        "colab": {
          "background_save": true
        },
        "id": "G_8EJ4z5lcyL"
      },
      "outputs": [],
      "source": [
        "from sklearn.metrics import accuracy_score, precision_score, recall_score, f1_score, confusion_matrix\n",
        "\n",
        "# 예측 수행\n",
        "dt_predictions = best_dt_model.predict(X_test_scaled)\n",
        "\n",
        "# 성능 평가\n",
        "dt_test_accuracy = accuracy_score(y_test, dt_predictions)\n",
        "dt_precision = precision_score(y_test, dt_predictions, average='weighted')\n",
        "dt_recall = recall_score(y_test, dt_predictions, average='weighted')\n",
        "dt_f1 = f1_score(y_test, dt_predictions, average='weighted')\n",
        "dt_cm = confusion_matrix(y_test, dt_predictions)"
      ]
    },
    {
      "cell_type": "markdown",
      "metadata": {
        "id": "GLY0JDzod30T"
      },
      "source": [
        ">**Inst.**  \n",
        "- RandomizedSearchCV를 활용하여 의사결정 트리 모델의 하이퍼파라미터 튜닝을 수행했습니다. 랜덤 서치를 통해 다양한 조합을 탐색하였고, 최적의 조합을 찾았습니다.\n",
        "최적의 하이퍼파라미터 조합으로 생성된 의사결정 트리 모델은 다음과 같습니다:\n",
        "\n",
        "    - max_depth: 40\n",
        "\n",
        "    - max_features:0.4\n",
        "\n",
        "    - min_samples_leaf: 1\n",
        "\n",
        "    - min_samples_split: 2\n",
        "\n",
        ">**결과 해석**  \n",
        "- 최적의 하이퍼파라미터 조합으로 튜닝된 의사결정 트리 모델을 사용하여 테스트 데이터에 대한 예측을 수행한 결과를 분석합니다. 이를 통해 모델의 성능 및 하이퍼파라미터 조합에 대한 이해를 얻을 수 있습니다.\n",
        "\n",
        "위 코드를 통해 하이퍼파라미터 튜닝과 모델의 성능 평가를 자세하게 수행하였습니다. 최적의 하이퍼파라미터를 찾아 모델을 개선하는 과정을 자세히 설명하였으며, 모델의 최종 성능을 확인하는 방법도 제시하였습니다."
      ]
    },
    {
      "cell_type": "markdown",
      "metadata": {
        "id": "s1ScNAl1GyJE"
      },
      "source": [
        "## 나) 모델 학습/예측/성능검증 재수행\n",
        "\n",
        "튜닝된 하이퍼파라미터를 사용하여 모델을 다시 학습시키고 예측, 성능 검증을 수행합니다."
      ]
    },
    {
      "cell_type": "markdown",
      "metadata": {
        "id": "7AbfMqZGS_gO"
      },
      "source": [
        "1. 성능 평가\n",
        "\n",
        "튜닝된 하이퍼파라미터로 학습된 Decision Tree 모델을 사용하여 테스트 데이터에 대한 예측을 수행합니다. 그 후, 모델의 성능을 여러 가지 지표를 사용하여 평가합니다. 이를 위해 다음과 같은 성능 평가 지표를 계산하였습니다:\n",
        "\n",
        "Accuracy (정확도): 전체 예측 중 올바르게 분류된 비율\n",
        "Precision (정밀도): Positive 클래스로 예측한 것 중 실제 Positive인 비율\n",
        "Recall (재현율): 실제 Positive 중 Positive로 예측한 비율\n",
        "F1 Score: Precision과 Recall의 조화 평균\n",
        "Confusion Matrix: 실제 클래스와 예측 클래스를 비교한 결과를 행렬로 나타낸 것"
      ]
    },
    {
      "cell_type": "code",
      "execution_count": null,
      "metadata": {
        "colab": {
          "background_save": true
        },
        "id": "h5eCHyx3TERD",
        "outputId": "996e3372-915c-4844-f4d7-c5e55f3087b7"
      },
      "outputs": [
        {
          "name": "stdout",
          "output_type": "stream",
          "text": [
            "Decision Tree Model Performance:\n",
            "Accuracy: 0.6206373292867982\n",
            "Precision: 0.636054126674149\n",
            "Recall: 0.6206373292867982\n",
            "F1 Score: 0.6274935845314816\n"
          ]
        }
      ],
      "source": [
        "# 성능 평가\n",
        "dt_test_accuracy = accuracy_score(y_test, dt_predictions)\n",
        "dt_precision = precision_score(y_test, dt_predictions, average='weighted')\n",
        "dt_recall = recall_score(y_test, dt_predictions, average='weighted')\n",
        "dt_f1 = f1_score(y_test, dt_predictions, average='weighted')\n",
        "dt_cm = confusion_matrix(y_test, dt_predictions)\n",
        "\n",
        "print(\"Decision Tree Model Performance:\")\n",
        "print(\"Accuracy:\", dt_test_accuracy)\n",
        "print(\"Precision:\", dt_precision)\n",
        "print(\"Recall:\", dt_recall)\n",
        "print(\"F1 Score:\", dt_f1)"
      ]
    },
    {
      "cell_type": "markdown",
      "metadata": {
        "id": "PY-eN6VAUOcU"
      },
      "source": [
        "dt_test_accuracy: 모델의 정확도(accuracy)입니다. 정확도는 전체 예측 중 올바르게 분류된 비율을 나타내며, 모델이 얼마나 정확하게 예측하는지를 평가하는 지표입니다. 이 값은 0.6085로 나타나며, 모델이 테스트 데이터에서 약 60.85%의 정확도를 가지고 있다는 의미입니다.\n",
        "\n",
        "dt_precision: 가중 평균 정밀도(precision)입니다. 정밀도는 모델이 양성 클래스(Positive)로 예측한 것 중에서 실제로 양성인 비율을 나타내며, 모델의 예측이 얼마나 정확한지를 평가하는 지표입니다. 가중 평균은 클래스 불균형을 고려하여 각 클래스의 정밀도를 가중 평균한 값입니다. 이 값은 0.6260로 나타나며, 모델이 테스트 데이터에서 약 62.60%의 정확도를 가지고 있다는 의미입니다.\n",
        "\n",
        "dt_recall: 가중 평균 재현율(recall)입니다. 재현율은 실제 양성 클래스 중에서 모델이 양성으로 예측한 비율을 나타내며, 모델이 실제 양성 사례를 얼마나 잘 감지하는지를 평가하는 지표입니다. 가중 평균은 클래스 불균형을 고려하여 각 클래스의 재현율을 가중 평균한 값입니다. 이 값은 0.6085로 나타나며, 모델이 테스트 데이터에서 약 60.85%의 정확도를 가지고 있다는 의미입니다.\n",
        "\n",
        "dt_f1: 가중 평균 F1 점수입니다. F1 점수는 정밀도와 재현율의 조화 평균으로, 모델의 정밀도와 재현율을 모두 고려하여 평가하는 지표입니다. 가중 평균은 클래스 불균형을 고려하여 각 클래스의 F1 점수를 가중 평균한 값입니다. 이 값은 0.6160로 나타나며, 모델이 테스트 데이터에서 약 61.60%의 정확도를 가지고 있다는 의미입니다.\n",
        "\n",
        "종합적으로, 이 코드는 모델의 성능을 정확도, 정밀도, 재현율, F1 점수 등 다양한 지표를 사용하여 평가하고, 이러한 평가 지표를 통해 모델의 예측 능력을 분석합니다. 결과를 출력함으로써 모델의 성능에 대한 정보를 확인할 수 있습니다."
      ]
    },
    {
      "cell_type": "markdown",
      "metadata": {
        "id": "AS3WwoKoTEi7"
      },
      "source": [
        "2. 교차검증 수행\n",
        "\n",
        "모델의 성능을 더 신뢰할 수 있는 방법으로 교차검증(Cross Validation)을 수행합니다. K-fold 교차검증을 사용하여 데이터를 K개의 부분 집합으로 나누고, 각각의 부분 집합을 테스트 데이터로 사용하고 나머지를 훈련 데이터로 사용하여 모델을 여러 번 학습하고 평가합니다. 이를 통해 모델의 일반화 성능을 더 정확하게 평가할 수 있습니다."
      ]
    },
    {
      "cell_type": "code",
      "execution_count": null,
      "metadata": {
        "colab": {
          "background_save": true
        },
        "id": "5ApRkkhiL4xM",
        "outputId": "c5a150e5-a428-4f18-bfad-c0ec4f984b85"
      },
      "outputs": [
        {
          "name": "stdout",
          "output_type": "stream",
          "text": [
            "Decision Tree Cross Validation Accuracy: 0.70 (+/- 0.08)\n"
          ]
        }
      ],
      "source": [
        "# 교차검증 수행\n",
        "k = 5\n",
        "scores_dt = cross_val_score(best_dt_model, X_train_resampled, y_train_resampled, cv=k, scoring='accuracy')\n",
        "print(\"Decision Tree Cross Validation Accuracy: {:.2f} (+/- {:.2f})\".format(scores_dt.mean(), scores_dt.std() * 2))"
      ]
    },
    {
      "cell_type": "markdown",
      "metadata": {
        "id": "hBbk_SURUIk7"
      },
      "source": [
        "k = 5: 5-폴드 교차 검증을 수행하라는 의미입니다. 데이터를 5개의 부분집합으로 나누고, 각각의 부분집합을 테스트 데이터로 사용하고 나머지 부분집합을 훈련 데이터로 사용하여 모델을 5번 학습하고 평가합니다.\n",
        "\n",
        "scores_dt: 각 폴드에서 얻은 정확도(accuracy) 점수를 저장한 배열입니다. 총 5개의 정확도 값이 저장됩니다.\n",
        "\n",
        "Decision Tree Cross Validation Accuracy: {:.2f} (+/- {:.2f}): 이 부분은 교차 검증을 통해 얻은 정확도에 대한 정보를 출력한 부분입니다.\n",
        "\n",
        "Decision Tree Cross Validation Accuracy: 교차 검증을 통해 얻은 정확도의 평균값입니다. 여기서는 0.68로 나타나며, 모델의 전반적인 성능을 나타냅니다.\n",
        "\n",
        "(+/-. {:.2f}): 교차 검증을 통해 얻은 정확도의 표준 편차입니다. 이 값은 정확도의 변동성을 나타내며, 모델의 일관성을 평가합니다. 표준 편차가 작을수록 모델의 예측 성능이 안정적입니다. 여기서는 +/- 0.08로 나타나며, 모델의 예측 성능이 상대적으로 안정적임을 나타냅니다.\n",
        "\n",
        "결과적으로, 교차 검증을 통해 얻은 평균 정확도와 표준 편차를 통해 모델의 성능과 안정성을 평가할 수 있습니다. 이를 통해 모델이 얼마나 일반화될 수 있는지를 더 신뢰할 수 있게 됩니다."
      ]
    },
    {
      "cell_type": "markdown",
      "metadata": {
        "id": "Y_0csIQ-TJXV"
      },
      "source": [
        "3. Confusion Matrix 시각화\n",
        "\n",
        "Confusion Matrix는 모델의 예측 결과와 실제 결과를 비교하여 각 클래스별로 어떤 오류가 발생하는지 시각화한 것입니다. 이를 시각적으로 확인할 수 있도록 히트맵(heatmap)으로 표현하였습니다."
      ]
    },
    {
      "cell_type": "code",
      "execution_count": null,
      "metadata": {
        "colab": {
          "background_save": true
        },
        "id": "Is-cRpEDcdwg",
        "outputId": "1e3f5ad8-f410-47fe-fa7c-7a7ec77a58fd"
      },
      "outputs": [
        {
          "data": {
            "image/png": "[encoded data removed]",
            "text/plain": [
              "<Figure size 800x600 with 1 Axes>"
            ]
          },
          "metadata": {},
          "output_type": "display_data"
        }
      ],
      "source": [
        "# Confusion Matrix 시각화\n",
        "confusion = confusion_matrix(y_test, dt_predictions)\n",
        "plt.figure(figsize=(8, 6))\n",
        "\n",
        "sns.heatmap(confusion, annot=True, fmt='d', cmap='Blues', cbar=False, linewidths=.012)\n",
        "ax = plt.gca()\n",
        "ax.tick_params(axis='x', labeltop=True, labelbottom=False)"
      ]
    },
    {
      "cell_type": "markdown",
      "metadata": {
        "id": "xnPDsR4Ld9f2"
      },
      "source": [
        "위 코드에서는 모델 학습, 예측, 성능 평가 및 교차검증을 통해 모델의 성능을 다양한 방면에서 평가하고 시각화한 결과를 보여주고 있습니다. 이를 통해 모델의 성능과 예측 결과를 자세하게 이해할 수 있습니다.\n",
        "\n",
        ">**결과 해석**  \n",
        "- 위 코드에서는 튜닝된 하이퍼파라미터로 새로운 Decision Tree 모델을 생성하고 학습시키고, 해당 모델로 예측 및 성능 검증을 수행합니다. 또한 K-fold 교차검증을 통해 모델의 일반화 성능을 검증합니다.\n",
        "\n",
        "이렇게 하이퍼파라미터 튜닝과 모델의 성능 평가를 통해 개선된 모델을 얻을 수 있습니다. 해당 모델은 훈련 데이터로 학습되었지만, 테스트 데이터에 대한 예측 성능이 일반화될 것으로 기대됩니다."
      ]
    },
    {
      "cell_type": "markdown",
      "metadata": {
        "id": "DqYiNe5iObxA"
      },
      "source": [
        "# **6. 최종 예측 및 Submission 제출**"
      ]
    },
    {
      "cell_type": "markdown",
      "metadata": {
        "id": "Av99jBFosUhi"
      },
      "source": [
        "- 6.1 Decision Tree 모델로 최종 예측 수행:\n",
        "여기서는 Decision Tree 모델을 사용하여 최종적인 예측을 수행하고 있습니다. predict_proba() 메소드를 사용하여 각 클래스에 대한 확률값을 얻어옵니다. 이 예측 결과는 해당 인스턴스가 각 클래스에 속할 확률을 나타내는데, 보통 분류 문제에서는 확률이 가장 높은 클래스를 선택하여 예측합니다.\n",
        "\n",
        "- 6.2 결과를 CSV 파일로 저장:\n",
        "결과를 적절한 형식으로 만들어 CSV 파일로 저장하여 제출할 수 있도록 준비합니다. 여기서는 submission 데이터프레임을 이용하여 최종 예측 결과를 sample_submission.csv 파일로 저장하고 있습니다."
      ]
    },
    {
      "cell_type": "code",
      "execution_count": null,
      "metadata": {
        "colab": {
          "background_save": true
        },
        "id": "EBhIlZBpM5Iu",
        "outputId": "0d27f35c-a8ba-40d7-e09e-64a91f824c4d"
      },
      "outputs": [
        {
          "data": {
            "text/html": [
              "\n",
              "  <div id=\"df-14de7d7a-f37c-4303-a647-bf69a70e48b5\" class=\"colab-df-container\">\n",
              "    <div>\n",
              "<style scoped>\n",
              "    .dataframe tbody tr th:only-of-type {\n",
              "        vertical-align: middle;\n",
              "    }\n",
              "\n",
              "    .dataframe tbody tr th {\n",
              "        vertical-align: top;\n",
              "    }\n",
              "\n",
              "    .dataframe thead th {\n",
              "        text-align: right;\n",
              "    }\n",
              "</style>\n",
              "<table border=\"1\" class=\"dataframe\">\n",
              "  <thead>\n",
              "    <tr style=\"text-align: right;\">\n",
              "      <th></th>\n",
              "      <th>gender</th>\n",
              "      <th>car</th>\n",
              "      <th>reality</th>\n",
              "      <th>child_num</th>\n",
              "      <th>income_total</th>\n",
              "      <th>income_type</th>\n",
              "      <th>edu_type</th>\n",
              "      <th>family_type</th>\n",
              "      <th>house_type</th>\n",
              "      <th>DAYS_BIRTH</th>\n",
              "      <th>...</th>\n",
              "      <th>family_size</th>\n",
              "      <th>begin_month</th>\n",
              "      <th>credit</th>\n",
              "      <th>days_employed</th>\n",
              "      <th>month_employed</th>\n",
              "      <th>years_employed</th>\n",
              "      <th>days_birth</th>\n",
              "      <th>age</th>\n",
              "      <th>ages</th>\n",
              "      <th>income_range</th>\n",
              "    </tr>\n",
              "  </thead>\n",
              "  <tbody>\n",
              "    <tr>\n",
              "      <th>0</th>\n",
              "      <td>0</td>\n",
              "      <td>0</td>\n",
              "      <td>0</td>\n",
              "      <td>0</td>\n",
              "      <td>202500.0</td>\n",
              "      <td>0</td>\n",
              "      <td>1</td>\n",
              "      <td>1</td>\n",
              "      <td>2</td>\n",
              "      <td>-13899</td>\n",
              "      <td>...</td>\n",
              "      <td>2.0</td>\n",
              "      <td>6</td>\n",
              "      <td>1.0</td>\n",
              "      <td>4709</td>\n",
              "      <td>392</td>\n",
              "      <td>12</td>\n",
              "      <td>13899</td>\n",
              "      <td>38</td>\n",
              "      <td>30</td>\n",
              "      <td>3</td>\n",
              "    </tr>\n",
              "    <tr>\n",
              "      <th>1</th>\n",
              "      <td>0</td>\n",
              "      <td>0</td>\n",
              "      <td>1</td>\n",
              "      <td>1</td>\n",
              "      <td>247500.0</td>\n",
              "      <td>0</td>\n",
              "      <td>4</td>\n",
              "      <td>0</td>\n",
              "      <td>1</td>\n",
              "      <td>-11380</td>\n",
              "      <td>...</td>\n",
              "      <td>3.0</td>\n",
              "      <td>5</td>\n",
              "      <td>1.0</td>\n",
              "      <td>1540</td>\n",
              "      <td>128</td>\n",
              "      <td>4</td>\n",
              "      <td>11380</td>\n",
              "      <td>31</td>\n",
              "      <td>30</td>\n",
              "      <td>3</td>\n",
              "    </tr>\n",
              "    <tr>\n",
              "      <th>2</th>\n",
              "      <td>1</td>\n",
              "      <td>1</td>\n",
              "      <td>1</td>\n",
              "      <td>0</td>\n",
              "      <td>450000.0</td>\n",
              "      <td>4</td>\n",
              "      <td>1</td>\n",
              "      <td>1</td>\n",
              "      <td>1</td>\n",
              "      <td>-19087</td>\n",
              "      <td>...</td>\n",
              "      <td>2.0</td>\n",
              "      <td>22</td>\n",
              "      <td>2.0</td>\n",
              "      <td>4434</td>\n",
              "      <td>369</td>\n",
              "      <td>12</td>\n",
              "      <td>19087</td>\n",
              "      <td>52</td>\n",
              "      <td>50</td>\n",
              "      <td>5</td>\n",
              "    </tr>\n",
              "    <tr>\n",
              "      <th>3</th>\n",
              "      <td>0</td>\n",
              "      <td>0</td>\n",
              "      <td>1</td>\n",
              "      <td>0</td>\n",
              "      <td>202500.0</td>\n",
              "      <td>0</td>\n",
              "      <td>4</td>\n",
              "      <td>1</td>\n",
              "      <td>1</td>\n",
              "      <td>-15088</td>\n",
              "      <td>...</td>\n",
              "      <td>2.0</td>\n",
              "      <td>37</td>\n",
              "      <td>0.0</td>\n",
              "      <td>2092</td>\n",
              "      <td>174</td>\n",
              "      <td>5</td>\n",
              "      <td>15088</td>\n",
              "      <td>41</td>\n",
              "      <td>40</td>\n",
              "      <td>3</td>\n",
              "    </tr>\n",
              "    <tr>\n",
              "      <th>4</th>\n",
              "      <td>0</td>\n",
              "      <td>1</td>\n",
              "      <td>1</td>\n",
              "      <td>0</td>\n",
              "      <td>157500.0</td>\n",
              "      <td>2</td>\n",
              "      <td>1</td>\n",
              "      <td>1</td>\n",
              "      <td>1</td>\n",
              "      <td>-15037</td>\n",
              "      <td>...</td>\n",
              "      <td>2.0</td>\n",
              "      <td>26</td>\n",
              "      <td>2.0</td>\n",
              "      <td>2105</td>\n",
              "      <td>175</td>\n",
              "      <td>5</td>\n",
              "      <td>15037</td>\n",
              "      <td>41</td>\n",
              "      <td>40</td>\n",
              "      <td>2</td>\n",
              "    </tr>\n",
              "    <tr>\n",
              "      <th>...</th>\n",
              "      <td>...</td>\n",
              "      <td>...</td>\n",
              "      <td>...</td>\n",
              "      <td>...</td>\n",
              "      <td>...</td>\n",
              "      <td>...</td>\n",
              "      <td>...</td>\n",
              "      <td>...</td>\n",
              "      <td>...</td>\n",
              "      <td>...</td>\n",
              "      <td>...</td>\n",
              "      <td>...</td>\n",
              "      <td>...</td>\n",
              "      <td>...</td>\n",
              "      <td>...</td>\n",
              "      <td>...</td>\n",
              "      <td>...</td>\n",
              "      <td>...</td>\n",
              "      <td>...</td>\n",
              "      <td>...</td>\n",
              "      <td>...</td>\n",
              "    </tr>\n",
              "    <tr>\n",
              "      <th>26452</th>\n",
              "      <td>0</td>\n",
              "      <td>0</td>\n",
              "      <td>0</td>\n",
              "      <td>2</td>\n",
              "      <td>225000.0</td>\n",
              "      <td>2</td>\n",
              "      <td>4</td>\n",
              "      <td>1</td>\n",
              "      <td>1</td>\n",
              "      <td>-12079</td>\n",
              "      <td>...</td>\n",
              "      <td>4.0</td>\n",
              "      <td>2</td>\n",
              "      <td>1.0</td>\n",
              "      <td>1984</td>\n",
              "      <td>165</td>\n",
              "      <td>5</td>\n",
              "      <td>12079</td>\n",
              "      <td>33</td>\n",
              "      <td>30</td>\n",
              "      <td>3</td>\n",
              "    </tr>\n",
              "    <tr>\n",
              "      <th>26453</th>\n",
              "      <td>0</td>\n",
              "      <td>0</td>\n",
              "      <td>1</td>\n",
              "      <td>1</td>\n",
              "      <td>180000.0</td>\n",
              "      <td>4</td>\n",
              "      <td>1</td>\n",
              "      <td>2</td>\n",
              "      <td>1</td>\n",
              "      <td>-15291</td>\n",
              "      <td>...</td>\n",
              "      <td>2.0</td>\n",
              "      <td>47</td>\n",
              "      <td>2.0</td>\n",
              "      <td>2475</td>\n",
              "      <td>206</td>\n",
              "      <td>6</td>\n",
              "      <td>15291</td>\n",
              "      <td>41</td>\n",
              "      <td>40</td>\n",
              "      <td>2</td>\n",
              "    </tr>\n",
              "    <tr>\n",
              "      <th>26454</th>\n",
              "      <td>0</td>\n",
              "      <td>1</td>\n",
              "      <td>0</td>\n",
              "      <td>0</td>\n",
              "      <td>292500.0</td>\n",
              "      <td>4</td>\n",
              "      <td>4</td>\n",
              "      <td>0</td>\n",
              "      <td>5</td>\n",
              "      <td>-10082</td>\n",
              "      <td>...</td>\n",
              "      <td>2.0</td>\n",
              "      <td>25</td>\n",
              "      <td>2.0</td>\n",
              "      <td>2015</td>\n",
              "      <td>167</td>\n",
              "      <td>5</td>\n",
              "      <td>10082</td>\n",
              "      <td>27</td>\n",
              "      <td>20</td>\n",
              "      <td>4</td>\n",
              "    </tr>\n",
              "    <tr>\n",
              "      <th>26455</th>\n",
              "      <td>1</td>\n",
              "      <td>0</td>\n",
              "      <td>1</td>\n",
              "      <td>0</td>\n",
              "      <td>171000.0</td>\n",
              "      <td>4</td>\n",
              "      <td>2</td>\n",
              "      <td>3</td>\n",
              "      <td>1</td>\n",
              "      <td>-10145</td>\n",
              "      <td>...</td>\n",
              "      <td>1.0</td>\n",
              "      <td>59</td>\n",
              "      <td>2.0</td>\n",
              "      <td>107</td>\n",
              "      <td>8</td>\n",
              "      <td>0</td>\n",
              "      <td>10145</td>\n",
              "      <td>27</td>\n",
              "      <td>20</td>\n",
              "      <td>2</td>\n",
              "    </tr>\n",
              "    <tr>\n",
              "      <th>26456</th>\n",
              "      <td>0</td>\n",
              "      <td>0</td>\n",
              "      <td>0</td>\n",
              "      <td>0</td>\n",
              "      <td>81000.0</td>\n",
              "      <td>4</td>\n",
              "      <td>4</td>\n",
              "      <td>0</td>\n",
              "      <td>1</td>\n",
              "      <td>-19569</td>\n",
              "      <td>...</td>\n",
              "      <td>2.0</td>\n",
              "      <td>9</td>\n",
              "      <td>2.0</td>\n",
              "      <td>1013</td>\n",
              "      <td>84</td>\n",
              "      <td>2</td>\n",
              "      <td>19569</td>\n",
              "      <td>53</td>\n",
              "      <td>50</td>\n",
              "      <td>6</td>\n",
              "    </tr>\n",
              "  </tbody>\n",
              "</table>\n",
              "<p>26353 rows × 26 columns</p>\n",
              "</div>\n",
              "    <div class=\"colab-df-buttons\">\n",
              "\n",
              "  <div class=\"colab-df-container\">\n",
              "    <button class=\"colab-df-convert\" onclick=\"convertToInteractive('df-14de7d7a-f37c-4303-a647-bf69a70e48b5')\"\n",
              "            title=\"Convert this dataframe to an interactive table.\"\n",
              "            style=\"display:none;\">\n",
              "\n",
              "  <svg xmlns=\"http://www.w3.org/2000/svg\" height=\"24px\" viewBox=\"0 -960 960 960\">\n",
              "    <path d=\"M120-120v-720h720v720H120Zm60-500h600v-160H180v160Zm220 220h160v-160H400v160Zm0 220h160v-160H400v160ZM180-400h160v-160H180v160Zm440 0h160v-160H620v160ZM180-180h160v-160H180v160Zm440 0h160v-160H620v160Z\"/>\n",
              "  </svg>\n",
              "    </button>\n",
              "\n",
              "  <style>\n",
              "    .colab-df-container {\n",
              "      display:flex;\n",
              "      gap: 12px;\n",
              "    }\n",
              "\n",
              "    .colab-df-convert {\n",
              "      background-color: #E8F0FE;\n",
              "      border: none;\n",
              "      border-radius: 50%;\n",
              "      cursor: pointer;\n",
              "      display: none;\n",
              "      fill: #1967D2;\n",
              "      height: 32px;\n",
              "      padding: 0 0 0 0;\n",
              "      width: 32px;\n",
              "    }\n",
              "\n",
              "    .colab-df-convert:hover {\n",
              "      background-color: #E2EBFA;\n",
              "      box-shadow: 0px 1px 2px rgba(60, 64, 67, 0.3), 0px 1px 3px 1px rgba(60, 64, 67, 0.15);\n",
              "      fill: #174EA6;\n",
              "    }\n",
              "\n",
              "    .colab-df-buttons div {\n",
              "      margin-bottom: 4px;\n",
              "    }\n",
              "\n",
              "    [theme=dark] .colab-df-convert {\n",
              "      background-color: #3B4455;\n",
              "      fill: #D2E3FC;\n",
              "    }\n",
              "\n",
              "    [theme=dark] .colab-df-convert:hover {\n",
              "      background-color: #434B5C;\n",
              "      box-shadow: 0px 1px 3px 1px rgba(0, 0, 0, 0.15);\n",
              "      filter: drop-shadow(0px 1px 2px rgba(0, 0, 0, 0.3));\n",
              "      fill: #FFFFFF;\n",
              "    }\n",
              "  </style>\n",
              "\n",
              "    <script>\n",
              "      const buttonEl =\n",
              "        document.querySelector('#df-14de7d7a-f37c-4303-a647-bf69a70e48b5 button.colab-df-convert');\n",
              "      buttonEl.style.display =\n",
              "        google.colab.kernel.accessAllowed ? 'block' : 'none';\n",
              "\n",
              "      async function convertToInteractive(key) {\n",
              "        const element = document.querySelector('#df-14de7d7a-f37c-4303-a647-bf69a70e48b5');\n",
              "        const dataTable =\n",
              "          await google.colab.kernel.invokeFunction('convertToInteractive',\n",
              "                                                    [key], {});\n",
              "        if (!dataTable) return;\n",
              "\n",
              "        const docLinkHtml = 'Like what you see? Visit the ' +\n",
              "          '<a target=\"_blank\" href=https://colab.research.google.com/notebooks/data_table.ipynb>data table notebook</a>'\n",
              "          + ' to learn more about interactive tables.';\n",
              "        element.innerHTML = '';\n",
              "        dataTable['output_type'] = 'display_data';\n",
              "        await google.colab.output.renderOutput(dataTable, element);\n",
              "        const docLink = document.createElement('div');\n",
              "        docLink.innerHTML = docLinkHtml;\n",
              "        element.appendChild(docLink);\n",
              "      }\n",
              "    </script>\n",
              "  </div>\n",
              "\n",
              "\n",
              "<div id=\"df-4788f9d7-932c-44a6-b55c-dd2d68904481\">\n",
              "  <button class=\"colab-df-quickchart\" onclick=\"quickchart('df-4788f9d7-932c-44a6-b55c-dd2d68904481')\"\n",
              "            title=\"Suggest charts.\"\n",
              "            style=\"display:none;\">\n",
              "\n",
              "<svg xmlns=\"http://www.w3.org/2000/svg\" height=\"24px\"viewBox=\"0 0 24 24\"\n",
              "     width=\"24px\">\n",
              "    <g>\n",
              "        <path d=\"M19 3H5c-1.1 0-2 .9-2 2v14c0 1.1.9 2 2 2h14c1.1 0 2-.9 2-2V5c0-1.1-.9-2-2-2zM9 17H7v-7h2v7zm4 0h-2V7h2v10zm4 0h-2v-4h2v4z\"/>\n",
              "    </g>\n",
              "</svg>\n",
              "  </button>\n",
              "\n",
              "<style>\n",
              "  .colab-df-quickchart {\n",
              "      --bg-color: #E8F0FE;\n",
              "      --fill-color: #1967D2;\n",
              "      --hover-bg-color: #E2EBFA;\n",
              "      --hover-fill-color: #174EA6;\n",
              "      --disabled-fill-color: #AAA;\n",
              "      --disabled-bg-color: #DDD;\n",
              "  }\n",
              "\n",
              "  [theme=dark] .colab-df-quickchart {\n",
              "      --bg-color: #3B4455;\n",
              "      --fill-color: #D2E3FC;\n",
              "      --hover-bg-color: #434B5C;\n",
              "      --hover-fill-color: #FFFFFF;\n",
              "      --disabled-bg-color: #3B4455;\n",
              "      --disabled-fill-color: #666;\n",
              "  }\n",
              "\n",
              "  .colab-df-quickchart {\n",
              "    background-color: var(--bg-color);\n",
              "    border: none;\n",
              "    border-radius: 50%;\n",
              "    cursor: pointer;\n",
              "    display: none;\n",
              "    fill: var(--fill-color);\n",
              "    height: 32px;\n",
              "    padding: 0;\n",
              "    width: 32px;\n",
              "  }\n",
              "\n",
              "  .colab-df-quickchart:hover {\n",
              "    background-color: var(--hover-bg-color);\n",
              "    box-shadow: 0 1px 2px rgba(60, 64, 67, 0.3), 0 1px 3px 1px rgba(60, 64, 67, 0.15);\n",
              "    fill: var(--button-hover-fill-color);\n",
              "  }\n",
              "\n",
              "  .colab-df-quickchart-complete:disabled,\n",
              "  .colab-df-quickchart-complete:disabled:hover {\n",
              "    background-color: var(--disabled-bg-color);\n",
              "    fill: var(--disabled-fill-color);\n",
              "    box-shadow: none;\n",
              "  }\n",
              "\n",
              "  .colab-df-spinner {\n",
              "    border: 2px solid var(--fill-color);\n",
              "    border-color: transparent;\n",
              "    border-bottom-color: var(--fill-color);\n",
              "    animation:\n",
              "      spin 1s steps(1) infinite;\n",
              "  }\n",
              "\n",
              "  @keyframes spin {\n",
              "    0% {\n",
              "      border-color: transparent;\n",
              "      border-bottom-color: var(--fill-color);\n",
              "      border-left-color: var(--fill-color);\n",
              "    }\n",
              "    20% {\n",
              "      border-color: transparent;\n",
              "      border-left-color: var(--fill-color);\n",
              "      border-top-color: var(--fill-color);\n",
              "    }\n",
              "    30% {\n",
              "      border-color: transparent;\n",
              "      border-left-color: var(--fill-color);\n",
              "      border-top-color: var(--fill-color);\n",
              "      border-right-color: var(--fill-color);\n",
              "    }\n",
              "    40% {\n",
              "      border-color: transparent;\n",
              "      border-right-color: var(--fill-color);\n",
              "      border-top-color: var(--fill-color);\n",
              "    }\n",
              "    60% {\n",
              "      border-color: transparent;\n",
              "      border-right-color: var(--fill-color);\n",
              "    }\n",
              "    80% {\n",
              "      border-color: transparent;\n",
              "      border-right-color: var(--fill-color);\n",
              "      border-bottom-color: var(--fill-color);\n",
              "    }\n",
              "    90% {\n",
              "      border-color: transparent;\n",
              "      border-bottom-color: var(--fill-color);\n",
              "    }\n",
              "  }\n",
              "</style>\n",
              "\n",
              "  <script>\n",
              "    async function quickchart(key) {\n",
              "      const quickchartButtonEl =\n",
              "        document.querySelector('#' + key + ' button');\n",
              "      quickchartButtonEl.disabled = true;  // To prevent multiple clicks.\n",
              "      quickchartButtonEl.classList.add('colab-df-spinner');\n",
              "      try {\n",
              "        const charts = await google.colab.kernel.invokeFunction(\n",
              "            'suggestCharts', [key], {});\n",
              "      } catch (error) {\n",
              "        console.error('Error during call to suggestCharts:', error);\n",
              "      }\n",
              "      quickchartButtonEl.classList.remove('colab-df-spinner');\n",
              "      quickchartButtonEl.classList.add('colab-df-quickchart-complete');\n",
              "    }\n",
              "    (() => {\n",
              "      let quickchartButtonEl =\n",
              "        document.querySelector('#df-4788f9d7-932c-44a6-b55c-dd2d68904481 button');\n",
              "      quickchartButtonEl.style.display =\n",
              "        google.colab.kernel.accessAllowed ? 'block' : 'none';\n",
              "    })();\n",
              "  </script>\n",
              "</div>\n",
              "    </div>\n",
              "  </div>\n"
            ],
            "text/plain": [
              "       gender  car  reality  child_num  income_total  income_type  edu_type  \\\n",
              "0           0    0        0          0      202500.0            0         1   \n",
              "1           0    0        1          1      247500.0            0         4   \n",
              "2           1    1        1          0      450000.0            4         1   \n",
              "3           0    0        1          0      202500.0            0         4   \n",
              "4           0    1        1          0      157500.0            2         1   \n",
              "...       ...  ...      ...        ...           ...          ...       ...   \n",
              "26452       0    0        0          2      225000.0            2         4   \n",
              "26453       0    0        1          1      180000.0            4         1   \n",
              "26454       0    1        0          0      292500.0            4         4   \n",
              "26455       1    0        1          0      171000.0            4         2   \n",
              "26456       0    0        0          0       81000.0            4         4   \n",
              "\n",
              "       family_type  house_type  DAYS_BIRTH  ...  family_size  begin_month  \\\n",
              "0                1           2      -13899  ...          2.0            6   \n",
              "1                0           1      -11380  ...          3.0            5   \n",
              "2                1           1      -19087  ...          2.0           22   \n",
              "3                1           1      -15088  ...          2.0           37   \n",
              "4                1           1      -15037  ...          2.0           26   \n",
              "...            ...         ...         ...  ...          ...          ...   \n",
              "26452            1           1      -12079  ...          4.0            2   \n",
              "26453            2           1      -15291  ...          2.0           47   \n",
              "26454            0           5      -10082  ...          2.0           25   \n",
              "26455            3           1      -10145  ...          1.0           59   \n",
              "26456            0           1      -19569  ...          2.0            9   \n",
              "\n",
              "       credit  days_employed  month_employed  years_employed  days_birth  age  \\\n",
              "0         1.0           4709             392              12       13899   38   \n",
              "1         1.0           1540             128               4       11380   31   \n",
              "2         2.0           4434             369              12       19087   52   \n",
              "3         0.0           2092             174               5       15088   41   \n",
              "4         2.0           2105             175               5       15037   41   \n",
              "...       ...            ...             ...             ...         ...  ...   \n",
              "26452     1.0           1984             165               5       12079   33   \n",
              "26453     2.0           2475             206               6       15291   41   \n",
              "26454     2.0           2015             167               5       10082   27   \n",
              "26455     2.0            107               8               0       10145   27   \n",
              "26456     2.0           1013              84               2       19569   53   \n",
              "\n",
              "       ages  income_range  \n",
              "0        30             3  \n",
              "1        30             3  \n",
              "2        50             5  \n",
              "3        40             3  \n",
              "4        40             2  \n",
              "...     ...           ...  \n",
              "26452    30             3  \n",
              "26453    40             2  \n",
              "26454    20             4  \n",
              "26455    20             2  \n",
              "26456    50             6  \n",
              "\n",
              "[26353 rows x 26 columns]"
            ]
          },
          "execution_count": 66,
          "metadata": {},
          "output_type": "execute_result"
        }
      ],
      "source": [
        "credit_df"
      ]
    },
    {
      "cell_type": "code",
      "execution_count": null,
      "metadata": {
        "colab": {
          "background_save": true
        },
        "id": "CgC0fH7sMs4p",
        "outputId": "6fd99899-a107-43f3-a3a2-ac792a8d7464"
      },
      "outputs": [
        {
          "data": {
            "text/plain": [
              "25"
            ]
          },
          "execution_count": 67,
          "metadata": {},
          "output_type": "execute_result"
        }
      ],
      "source": [
        "len(scaler.get_feature_names_out())"
      ]
    },
    {
      "cell_type": "code",
      "execution_count": null,
      "metadata": {
        "colab": {
          "background_save": true
        },
        "id": "cTJnQq5cMlVB",
        "outputId": "d3d5569e-62bd-4864-a575-ae0642e47d55"
      },
      "outputs": [
        {
          "data": {
            "text/html": [
              "\n",
              "  <div id=\"df-6879b1da-f779-4f32-831d-62e7dc6dbadd\" class=\"colab-df-container\">\n",
              "    <div>\n",
              "<style scoped>\n",
              "    .dataframe tbody tr th:only-of-type {\n",
              "        vertical-align: middle;\n",
              "    }\n",
              "\n",
              "    .dataframe tbody tr th {\n",
              "        vertical-align: top;\n",
              "    }\n",
              "\n",
              "    .dataframe thead th {\n",
              "        text-align: right;\n",
              "    }\n",
              "</style>\n",
              "<table border=\"1\" class=\"dataframe\">\n",
              "  <thead>\n",
              "    <tr style=\"text-align: right;\">\n",
              "      <th></th>\n",
              "      <th>gender</th>\n",
              "      <th>car</th>\n",
              "      <th>reality</th>\n",
              "      <th>child_num</th>\n",
              "      <th>income_total</th>\n",
              "      <th>income_type</th>\n",
              "      <th>edu_type</th>\n",
              "      <th>family_type</th>\n",
              "      <th>house_type</th>\n",
              "      <th>DAYS_BIRTH</th>\n",
              "      <th>...</th>\n",
              "      <th>occyp_type</th>\n",
              "      <th>family_size</th>\n",
              "      <th>begin_month</th>\n",
              "      <th>days_employed</th>\n",
              "      <th>month_employed</th>\n",
              "      <th>years_employed</th>\n",
              "      <th>days_birth</th>\n",
              "      <th>age</th>\n",
              "      <th>ages</th>\n",
              "      <th>income_range</th>\n",
              "    </tr>\n",
              "  </thead>\n",
              "  <tbody>\n",
              "    <tr>\n",
              "      <th>0</th>\n",
              "      <td>1</td>\n",
              "      <td>1</td>\n",
              "      <td>0</td>\n",
              "      <td>0</td>\n",
              "      <td>112500.0</td>\n",
              "      <td>1</td>\n",
              "      <td>4</td>\n",
              "      <td>0</td>\n",
              "      <td>1</td>\n",
              "      <td>-21990</td>\n",
              "      <td>...</td>\n",
              "      <td>18</td>\n",
              "      <td>2.0</td>\n",
              "      <td>60</td>\n",
              "      <td>365243</td>\n",
              "      <td>30436</td>\n",
              "      <td>1000</td>\n",
              "      <td>21990</td>\n",
              "      <td>60</td>\n",
              "      <td>30</td>\n",
              "      <td>1</td>\n",
              "    </tr>\n",
              "    <tr>\n",
              "      <th>1</th>\n",
              "      <td>0</td>\n",
              "      <td>0</td>\n",
              "      <td>1</td>\n",
              "      <td>0</td>\n",
              "      <td>135000.0</td>\n",
              "      <td>2</td>\n",
              "      <td>1</td>\n",
              "      <td>1</td>\n",
              "      <td>1</td>\n",
              "      <td>-18964</td>\n",
              "      <td>...</td>\n",
              "      <td>3</td>\n",
              "      <td>2.0</td>\n",
              "      <td>36</td>\n",
              "      <td>8671</td>\n",
              "      <td>722</td>\n",
              "      <td>23</td>\n",
              "      <td>18964</td>\n",
              "      <td>51</td>\n",
              "      <td>30</td>\n",
              "      <td>1</td>\n",
              "    </tr>\n",
              "    <tr>\n",
              "      <th>2</th>\n",
              "      <td>0</td>\n",
              "      <td>0</td>\n",
              "      <td>1</td>\n",
              "      <td>0</td>\n",
              "      <td>69372.0</td>\n",
              "      <td>4</td>\n",
              "      <td>4</td>\n",
              "      <td>1</td>\n",
              "      <td>1</td>\n",
              "      <td>-15887</td>\n",
              "      <td>...</td>\n",
              "      <td>8</td>\n",
              "      <td>2.0</td>\n",
              "      <td>40</td>\n",
              "      <td>217</td>\n",
              "      <td>18</td>\n",
              "      <td>0</td>\n",
              "      <td>15887</td>\n",
              "      <td>43</td>\n",
              "      <td>50</td>\n",
              "      <td>6</td>\n",
              "    </tr>\n",
              "    <tr>\n",
              "      <th>3</th>\n",
              "      <td>1</td>\n",
              "      <td>1</td>\n",
              "      <td>0</td>\n",
              "      <td>0</td>\n",
              "      <td>112500.0</td>\n",
              "      <td>0</td>\n",
              "      <td>4</td>\n",
              "      <td>1</td>\n",
              "      <td>1</td>\n",
              "      <td>-19270</td>\n",
              "      <td>...</td>\n",
              "      <td>4</td>\n",
              "      <td>2.0</td>\n",
              "      <td>41</td>\n",
              "      <td>2531</td>\n",
              "      <td>210</td>\n",
              "      <td>6</td>\n",
              "      <td>19270</td>\n",
              "      <td>52</td>\n",
              "      <td>40</td>\n",
              "      <td>1</td>\n",
              "    </tr>\n",
              "    <tr>\n",
              "      <th>4</th>\n",
              "      <td>0</td>\n",
              "      <td>1</td>\n",
              "      <td>1</td>\n",
              "      <td>0</td>\n",
              "      <td>225000.0</td>\n",
              "      <td>2</td>\n",
              "      <td>1</td>\n",
              "      <td>1</td>\n",
              "      <td>1</td>\n",
              "      <td>-17822</td>\n",
              "      <td>...</td>\n",
              "      <td>10</td>\n",
              "      <td>2.0</td>\n",
              "      <td>8</td>\n",
              "      <td>9385</td>\n",
              "      <td>782</td>\n",
              "      <td>25</td>\n",
              "      <td>17822</td>\n",
              "      <td>48</td>\n",
              "      <td>40</td>\n",
              "      <td>3</td>\n",
              "    </tr>\n",
              "    <tr>\n",
              "      <th>...</th>\n",
              "      <td>...</td>\n",
              "      <td>...</td>\n",
              "      <td>...</td>\n",
              "      <td>...</td>\n",
              "      <td>...</td>\n",
              "      <td>...</td>\n",
              "      <td>...</td>\n",
              "      <td>...</td>\n",
              "      <td>...</td>\n",
              "      <td>...</td>\n",
              "      <td>...</td>\n",
              "      <td>...</td>\n",
              "      <td>...</td>\n",
              "      <td>...</td>\n",
              "      <td>...</td>\n",
              "      <td>...</td>\n",
              "      <td>...</td>\n",
              "      <td>...</td>\n",
              "      <td>...</td>\n",
              "      <td>...</td>\n",
              "      <td>...</td>\n",
              "    </tr>\n",
              "    <tr>\n",
              "      <th>9995</th>\n",
              "      <td>0</td>\n",
              "      <td>1</td>\n",
              "      <td>1</td>\n",
              "      <td>0</td>\n",
              "      <td>202500.0</td>\n",
              "      <td>4</td>\n",
              "      <td>2</td>\n",
              "      <td>1</td>\n",
              "      <td>1</td>\n",
              "      <td>-18593</td>\n",
              "      <td>...</td>\n",
              "      <td>0</td>\n",
              "      <td>2.0</td>\n",
              "      <td>19</td>\n",
              "      <td>5434</td>\n",
              "      <td>452</td>\n",
              "      <td>14</td>\n",
              "      <td>18593</td>\n",
              "      <td>50</td>\n",
              "      <td>60</td>\n",
              "      <td>3</td>\n",
              "    </tr>\n",
              "    <tr>\n",
              "      <th>9996</th>\n",
              "      <td>1</td>\n",
              "      <td>1</td>\n",
              "      <td>1</td>\n",
              "      <td>0</td>\n",
              "      <td>202500.0</td>\n",
              "      <td>4</td>\n",
              "      <td>4</td>\n",
              "      <td>0</td>\n",
              "      <td>1</td>\n",
              "      <td>-10886</td>\n",
              "      <td>...</td>\n",
              "      <td>8</td>\n",
              "      <td>2.0</td>\n",
              "      <td>34</td>\n",
              "      <td>1315</td>\n",
              "      <td>109</td>\n",
              "      <td>3</td>\n",
              "      <td>10886</td>\n",
              "      <td>29</td>\n",
              "      <td>50</td>\n",
              "      <td>3</td>\n",
              "    </tr>\n",
              "    <tr>\n",
              "      <th>9997</th>\n",
              "      <td>0</td>\n",
              "      <td>0</td>\n",
              "      <td>1</td>\n",
              "      <td>0</td>\n",
              "      <td>292500.0</td>\n",
              "      <td>4</td>\n",
              "      <td>4</td>\n",
              "      <td>1</td>\n",
              "      <td>1</td>\n",
              "      <td>-21016</td>\n",
              "      <td>...</td>\n",
              "      <td>11</td>\n",
              "      <td>2.0</td>\n",
              "      <td>55</td>\n",
              "      <td>14018</td>\n",
              "      <td>1168</td>\n",
              "      <td>38</td>\n",
              "      <td>21016</td>\n",
              "      <td>57</td>\n",
              "      <td>50</td>\n",
              "      <td>4</td>\n",
              "    </tr>\n",
              "    <tr>\n",
              "      <th>9998</th>\n",
              "      <td>0</td>\n",
              "      <td>1</td>\n",
              "      <td>0</td>\n",
              "      <td>0</td>\n",
              "      <td>180000.0</td>\n",
              "      <td>0</td>\n",
              "      <td>4</td>\n",
              "      <td>1</td>\n",
              "      <td>1</td>\n",
              "      <td>-16541</td>\n",
              "      <td>...</td>\n",
              "      <td>18</td>\n",
              "      <td>2.0</td>\n",
              "      <td>33</td>\n",
              "      <td>1085</td>\n",
              "      <td>90</td>\n",
              "      <td>2</td>\n",
              "      <td>16541</td>\n",
              "      <td>45</td>\n",
              "      <td>20</td>\n",
              "      <td>2</td>\n",
              "    </tr>\n",
              "    <tr>\n",
              "      <th>9999</th>\n",
              "      <td>0</td>\n",
              "      <td>0</td>\n",
              "      <td>1</td>\n",
              "      <td>0</td>\n",
              "      <td>270000.0</td>\n",
              "      <td>4</td>\n",
              "      <td>1</td>\n",
              "      <td>1</td>\n",
              "      <td>1</td>\n",
              "      <td>-9154</td>\n",
              "      <td>...</td>\n",
              "      <td>8</td>\n",
              "      <td>2.0</td>\n",
              "      <td>11</td>\n",
              "      <td>187</td>\n",
              "      <td>15</td>\n",
              "      <td>0</td>\n",
              "      <td>9154</td>\n",
              "      <td>25</td>\n",
              "      <td>40</td>\n",
              "      <td>4</td>\n",
              "    </tr>\n",
              "  </tbody>\n",
              "</table>\n",
              "<p>10000 rows × 25 columns</p>\n",
              "</div>\n",
              "    <div class=\"colab-df-buttons\">\n",
              "\n",
              "  <div class=\"colab-df-container\">\n",
              "    <button class=\"colab-df-convert\" onclick=\"convertToInteractive('df-6879b1da-f779-4f32-831d-62e7dc6dbadd')\"\n",
              "            title=\"Convert this dataframe to an interactive table.\"\n",
              "            style=\"display:none;\">\n",
              "\n",
              "  <svg xmlns=\"http://www.w3.org/2000/svg\" height=\"24px\" viewBox=\"0 -960 960 960\">\n",
              "    <path d=\"M120-120v-720h720v720H120Zm60-500h600v-160H180v160Zm220 220h160v-160H400v160Zm0 220h160v-160H400v160ZM180-400h160v-160H180v160Zm440 0h160v-160H620v160ZM180-180h160v-160H180v160Zm440 0h160v-160H620v160Z\"/>\n",
              "  </svg>\n",
              "    </button>\n",
              "\n",
              "  <style>\n",
              "    .colab-df-container {\n",
              "      display:flex;\n",
              "      gap: 12px;\n",
              "    }\n",
              "\n",
              "    .colab-df-convert {\n",
              "      background-color: #E8F0FE;\n",
              "      border: none;\n",
              "      border-radius: 50%;\n",
              "      cursor: pointer;\n",
              "      display: none;\n",
              "      fill: #1967D2;\n",
              "      height: 32px;\n",
              "      padding: 0 0 0 0;\n",
              "      width: 32px;\n",
              "    }\n",
              "\n",
              "    .colab-df-convert:hover {\n",
              "      background-color: #E2EBFA;\n",
              "      box-shadow: 0px 1px 2px rgba(60, 64, 67, 0.3), 0px 1px 3px 1px rgba(60, 64, 67, 0.15);\n",
              "      fill: #174EA6;\n",
              "    }\n",
              "\n",
              "    .colab-df-buttons div {\n",
              "      margin-bottom: 4px;\n",
              "    }\n",
              "\n",
              "    [theme=dark] .colab-df-convert {\n",
              "      background-color: #3B4455;\n",
              "      fill: #D2E3FC;\n",
              "    }\n",
              "\n",
              "    [theme=dark] .colab-df-convert:hover {\n",
              "      background-color: #434B5C;\n",
              "      box-shadow: 0px 1px 3px 1px rgba(0, 0, 0, 0.15);\n",
              "      filter: drop-shadow(0px 1px 2px rgba(0, 0, 0, 0.3));\n",
              "      fill: #FFFFFF;\n",
              "    }\n",
              "  </style>\n",
              "\n",
              "    <script>\n",
              "      const buttonEl =\n",
              "        document.querySelector('#df-6879b1da-f779-4f32-831d-62e7dc6dbadd button.colab-df-convert');\n",
              "      buttonEl.style.display =\n",
              "        google.colab.kernel.accessAllowed ? 'block' : 'none';\n",
              "\n",
              "      async function convertToInteractive(key) {\n",
              "        const element = document.querySelector('#df-6879b1da-f779-4f32-831d-62e7dc6dbadd');\n",
              "        const dataTable =\n",
              "          await google.colab.kernel.invokeFunction('convertToInteractive',\n",
              "                                                    [key], {});\n",
              "        if (!dataTable) return;\n",
              "\n",
              "        const docLinkHtml = 'Like what you see? Visit the ' +\n",
              "          '<a target=\"_blank\" href=https://colab.research.google.com/notebooks/data_table.ipynb>data table notebook</a>'\n",
              "          + ' to learn more about interactive tables.';\n",
              "        element.innerHTML = '';\n",
              "        dataTable['output_type'] = 'display_data';\n",
              "        await google.colab.output.renderOutput(dataTable, element);\n",
              "        const docLink = document.createElement('div');\n",
              "        docLink.innerHTML = docLinkHtml;\n",
              "        element.appendChild(docLink);\n",
              "      }\n",
              "    </script>\n",
              "  </div>\n",
              "\n",
              "\n",
              "<div id=\"df-13a87c1f-075f-461e-bb56-0c965526d2ed\">\n",
              "  <button class=\"colab-df-quickchart\" onclick=\"quickchart('df-13a87c1f-075f-461e-bb56-0c965526d2ed')\"\n",
              "            title=\"Suggest charts.\"\n",
              "            style=\"display:none;\">\n",
              "\n",
              "<svg xmlns=\"http://www.w3.org/2000/svg\" height=\"24px\"viewBox=\"0 0 24 24\"\n",
              "     width=\"24px\">\n",
              "    <g>\n",
              "        <path d=\"M19 3H5c-1.1 0-2 .9-2 2v14c0 1.1.9 2 2 2h14c1.1 0 2-.9 2-2V5c0-1.1-.9-2-2-2zM9 17H7v-7h2v7zm4 0h-2V7h2v10zm4 0h-2v-4h2v4z\"/>\n",
              "    </g>\n",
              "</svg>\n",
              "  </button>\n",
              "\n",
              "<style>\n",
              "  .colab-df-quickchart {\n",
              "      --bg-color: #E8F0FE;\n",
              "      --fill-color: #1967D2;\n",
              "      --hover-bg-color: #E2EBFA;\n",
              "      --hover-fill-color: #174EA6;\n",
              "      --disabled-fill-color: #AAA;\n",
              "      --disabled-bg-color: #DDD;\n",
              "  }\n",
              "\n",
              "  [theme=dark] .colab-df-quickchart {\n",
              "      --bg-color: #3B4455;\n",
              "      --fill-color: #D2E3FC;\n",
              "      --hover-bg-color: #434B5C;\n",
              "      --hover-fill-color: #FFFFFF;\n",
              "      --disabled-bg-color: #3B4455;\n",
              "      --disabled-fill-color: #666;\n",
              "  }\n",
              "\n",
              "  .colab-df-quickchart {\n",
              "    background-color: var(--bg-color);\n",
              "    border: none;\n",
              "    border-radius: 50%;\n",
              "    cursor: pointer;\n",
              "    display: none;\n",
              "    fill: var(--fill-color);\n",
              "    height: 32px;\n",
              "    padding: 0;\n",
              "    width: 32px;\n",
              "  }\n",
              "\n",
              "  .colab-df-quickchart:hover {\n",
              "    background-color: var(--hover-bg-color);\n",
              "    box-shadow: 0 1px 2px rgba(60, 64, 67, 0.3), 0 1px 3px 1px rgba(60, 64, 67, 0.15);\n",
              "    fill: var(--button-hover-fill-color);\n",
              "  }\n",
              "\n",
              "  .colab-df-quickchart-complete:disabled,\n",
              "  .colab-df-quickchart-complete:disabled:hover {\n",
              "    background-color: var(--disabled-bg-color);\n",
              "    fill: var(--disabled-fill-color);\n",
              "    box-shadow: none;\n",
              "  }\n",
              "\n",
              "  .colab-df-spinner {\n",
              "    border: 2px solid var(--fill-color);\n",
              "    border-color: transparent;\n",
              "    border-bottom-color: var(--fill-color);\n",
              "    animation:\n",
              "      spin 1s steps(1) infinite;\n",
              "  }\n",
              "\n",
              "  @keyframes spin {\n",
              "    0% {\n",
              "      border-color: transparent;\n",
              "      border-bottom-color: var(--fill-color);\n",
              "      border-left-color: var(--fill-color);\n",
              "    }\n",
              "    20% {\n",
              "      border-color: transparent;\n",
              "      border-left-color: var(--fill-color);\n",
              "      border-top-color: var(--fill-color);\n",
              "    }\n",
              "    30% {\n",
              "      border-color: transparent;\n",
              "      border-left-color: var(--fill-color);\n",
              "      border-top-color: var(--fill-color);\n",
              "      border-right-color: var(--fill-color);\n",
              "    }\n",
              "    40% {\n",
              "      border-color: transparent;\n",
              "      border-right-color: var(--fill-color);\n",
              "      border-top-color: var(--fill-color);\n",
              "    }\n",
              "    60% {\n",
              "      border-color: transparent;\n",
              "      border-right-color: var(--fill-color);\n",
              "    }\n",
              "    80% {\n",
              "      border-color: transparent;\n",
              "      border-right-color: var(--fill-color);\n",
              "      border-bottom-color: var(--fill-color);\n",
              "    }\n",
              "    90% {\n",
              "      border-color: transparent;\n",
              "      border-bottom-color: var(--fill-color);\n",
              "    }\n",
              "  }\n",
              "</style>\n",
              "\n",
              "  <script>\n",
              "    async function quickchart(key) {\n",
              "      const quickchartButtonEl =\n",
              "        document.querySelector('#' + key + ' button');\n",
              "      quickchartButtonEl.disabled = true;  // To prevent multiple clicks.\n",
              "      quickchartButtonEl.classList.add('colab-df-spinner');\n",
              "      try {\n",
              "        const charts = await google.colab.kernel.invokeFunction(\n",
              "            'suggestCharts', [key], {});\n",
              "      } catch (error) {\n",
              "        console.error('Error during call to suggestCharts:', error);\n",
              "      }\n",
              "      quickchartButtonEl.classList.remove('colab-df-spinner');\n",
              "      quickchartButtonEl.classList.add('colab-df-quickchart-complete');\n",
              "    }\n",
              "    (() => {\n",
              "      let quickchartButtonEl =\n",
              "        document.querySelector('#df-13a87c1f-075f-461e-bb56-0c965526d2ed button');\n",
              "      quickchartButtonEl.style.display =\n",
              "        google.colab.kernel.accessAllowed ? 'block' : 'none';\n",
              "    })();\n",
              "  </script>\n",
              "</div>\n",
              "    </div>\n",
              "  </div>\n"
            ],
            "text/plain": [
              "      gender  car  reality  child_num  income_total  income_type  edu_type  \\\n",
              "0          1    1        0          0      112500.0            1         4   \n",
              "1          0    0        1          0      135000.0            2         1   \n",
              "2          0    0        1          0       69372.0            4         4   \n",
              "3          1    1        0          0      112500.0            0         4   \n",
              "4          0    1        1          0      225000.0            2         1   \n",
              "...      ...  ...      ...        ...           ...          ...       ...   \n",
              "9995       0    1        1          0      202500.0            4         2   \n",
              "9996       1    1        1          0      202500.0            4         4   \n",
              "9997       0    0        1          0      292500.0            4         4   \n",
              "9998       0    1        0          0      180000.0            0         4   \n",
              "9999       0    0        1          0      270000.0            4         1   \n",
              "\n",
              "      family_type  house_type  DAYS_BIRTH  ...  occyp_type  family_size  \\\n",
              "0               0           1      -21990  ...          18          2.0   \n",
              "1               1           1      -18964  ...           3          2.0   \n",
              "2               1           1      -15887  ...           8          2.0   \n",
              "3               1           1      -19270  ...           4          2.0   \n",
              "4               1           1      -17822  ...          10          2.0   \n",
              "...           ...         ...         ...  ...         ...          ...   \n",
              "9995            1           1      -18593  ...           0          2.0   \n",
              "9996            0           1      -10886  ...           8          2.0   \n",
              "9997            1           1      -21016  ...          11          2.0   \n",
              "9998            1           1      -16541  ...          18          2.0   \n",
              "9999            1           1       -9154  ...           8          2.0   \n",
              "\n",
              "      begin_month  days_employed  month_employed  years_employed  days_birth  \\\n",
              "0              60         365243           30436            1000       21990   \n",
              "1              36           8671             722              23       18964   \n",
              "2              40            217              18               0       15887   \n",
              "3              41           2531             210               6       19270   \n",
              "4               8           9385             782              25       17822   \n",
              "...           ...            ...             ...             ...         ...   \n",
              "9995           19           5434             452              14       18593   \n",
              "9996           34           1315             109               3       10886   \n",
              "9997           55          14018            1168              38       21016   \n",
              "9998           33           1085              90               2       16541   \n",
              "9999           11            187              15               0        9154   \n",
              "\n",
              "      age  ages  income_range  \n",
              "0      60    30             1  \n",
              "1      51    30             1  \n",
              "2      43    50             6  \n",
              "3      52    40             1  \n",
              "4      48    40             3  \n",
              "...   ...   ...           ...  \n",
              "9995   50    60             3  \n",
              "9996   29    50             3  \n",
              "9997   57    50             4  \n",
              "9998   45    20             2  \n",
              "9999   25    40             4  \n",
              "\n",
              "[10000 rows x 25 columns]"
            ]
          },
          "execution_count": 68,
          "metadata": {},
          "output_type": "execute_result"
        }
      ],
      "source": [
        "test"
      ]
    },
    {
      "cell_type": "code",
      "execution_count": null,
      "metadata": {
        "colab": {
          "background_save": true
        },
        "id": "z6Sc8i2DKsdz",
        "outputId": "1818d42f-0a03-4a4e-c85a-075930cfeddd"
      },
      "outputs": [
        {
          "name": "stderr",
          "output_type": "stream",
          "text": [
            "/usr/local/lib/python3.10/dist-packages/sklearn/base.py:432: UserWarning: X has feature names, but DecisionTreeClassifier was fitted without feature names\n",
            "  warnings.warn(\n",
            "<ipython-input-69-594f50960fa4>:7: FutureWarning: Slicing a positional slice with .loc is not supported, and will raise TypeError in a future version.  Use .loc with labels or .iloc with positions instead.\n",
            "  submission.loc[:,1:] = dt_pred\n",
            "<ipython-input-69-594f50960fa4>:7: DeprecationWarning: In a future version, `df.iloc[:, i] = newvals` will attempt to set the values inplace instead of always setting a new array. To retain the old behavior, use either `df[df.columns[i]] = newvals` or, if columns are non-unique, `df.isetitem(i, newvals)`\n",
            "  submission.loc[:,1:] = dt_pred\n"
          ]
        }
      ],
      "source": [
        "# Test 데이터에도 MinMax Scaling 적용\n",
        "test_scaled = scaler.transform(test)\n",
        "\n",
        "# Decision Tree 모델로 최종 예측 수행\n",
        "dt_pred = dt_model.predict_proba(test)\n",
        "\n",
        "submission.loc[:,1:] = dt_pred\n",
        "\n",
        "# 결과를 CSV 파일로 저장\n",
        "submission.to_csv('sample_submission.csv', index=False)"
      ]
    },
    {
      "cell_type": "markdown",
      "metadata": {
        "id": "DtNzXE--3XQp"
      },
      "source": [
        ">**Inst.**  \n",
        "- 앞서 Train data에 적용한 MinMax Scaling을 그대로 적용하여 테스트 데이터 스케일을 변환합니다.\n",
        "- 위에서 학습한 Decision Tree 모델로 최종 예측을 수행합니다.\n",
        "- dt_model의 predict_proba 메서드를 호출하여 예측 확률을 계산하는데 이는 각 클래스에 대한 예측 확률을 반환합니다.\n",
        "\n",
        ">**결과 해석**  \n",
        "- submission 데이터프레임의 두번째 열부터 마지막 열까지 dt_pred의 내용을 대입하여 예측 결과(확률)를 업데이트합니다.\n",
        "- submission 데이터프레임을 csv 파일로 저장하는데 이때 index=False로 지정하여 인덱스를 파일에 포함시키지 않습니다."
      ]
    },
    {
      "cell_type": "code",
      "execution_count": null,
      "metadata": {
        "colab": {
          "background_save": true
        },
        "id": "al71yzr5vZ52",
        "outputId": "6c10a6aa-d469-4b26-9b05-7d67bdcbeacb"
      },
      "outputs": [
        {
          "name": "stdout",
          "output_type": "stream",
          "text": [
            "      index    0    1    2\n",
            "0     26457  0.0  1.0  0.0\n",
            "1     26458  1.0  0.0  0.0\n",
            "2     26459  1.0  0.0  0.0\n",
            "3     26460  1.0  0.0  0.0\n",
            "4     26461  1.0  0.0  0.0\n",
            "...     ...  ...  ...  ...\n",
            "9995  36452  1.0  0.0  0.0\n",
            "9996  36453  1.0  0.0  0.0\n",
            "9997  36454  1.0  0.0  0.0\n",
            "9998  36455  1.0  0.0  0.0\n",
            "9999  36456  1.0  0.0  0.0\n",
            "\n",
            "[10000 rows x 4 columns]\n"
          ]
        }
      ],
      "source": [
        "# CSV 파일을 pandas DataFrame으로 읽기\n",
        "submission_df = pd.read_csv('sample_submission.csv')\n",
        "\n",
        "# DataFrame 내용 확인\n",
        "print(submission_df)"
      ]
    },
    {
      "cell_type": "markdown",
      "metadata": {
        "id": "kgiGyvmC5voB"
      },
      "source": [
        ">**Inst.**  \n",
        "- submission csv파일을 pandas dataframe으로 변환하여 읽어옵니다.\n",
        "\n",
        ">**결과 해석**  \n",
        "- submission_df의 dataframe의 내용을 출력합니다. 이를 통해 파일로 저장된 예측 결과의 내용을 확인할 수 있습니다."
      ]
    },
    {
      "cell_type": "code",
      "execution_count": null,
      "metadata": {
        "id": "MZl3OXviMnz_"
      },
      "outputs": [],
      "source": [
        "from google.colab import drive\n",
        "drive.mount('/content/drive')"
      ]
    },
    {
      "cell_type": "markdown",
      "metadata": {
        "id": "z-06VfOGeLrO"
      },
      "source": [
        "#**7. 프로젝트 결론**"
      ]
    },
    {
      "cell_type": "markdown",
      "metadata": {
        "id": "mHqI2uZge_bD"
      },
      "source": [
        "  ### 7.1 프로젝트 결과 요약"
      ]
    },
    {
      "cell_type": "markdown",
      "metadata": {
        "id": "D8PyOHyQsfxh"
      },
      "source": [
        "이 프로젝트에서는 주어진 데이터를 활용하여 대출 신청자의 신용 등급을 예측하는 모델을 개발하였습니다. 프로젝트의 전반적인 결과는 다음과 같습니다:\n",
        "\n",
        "사용한 모델: Decision Tree 모델을 선택하여 예측 모델을 구축하였습니다. 해당 모델은 주어진 데이터에 대해 예측을 수행하는 데 사용되었습니다.\n",
        "성능 평가: 구축한 Decision Tree 모델의 성능을 평가하였습니다. Accuracy, Precision, Recall, F1 Score 등의 지표를 통해 모델의 예측 능력을 확인하였습니다.\n",
        "Cross Validation: K-Fold Cross Validation을 활용하여 모델의 일반화 성능을 검증하였습니다."
      ]
    },
    {
      "cell_type": "markdown",
      "metadata": {
        "id": "3xRbTQUyfFV9"
      },
      "source": [
        "\n",
        "  ### 7.2 프로젝트 진행 중 발견된 문제점"
      ]
    },
    {
      "cell_type": "markdown",
      "metadata": {
        "id": "h8qZd-et1y2D"
      },
      "source": [
        "프로젝트를 진행하면서 몇 가지 문제점이 나타났습니다:\n",
        "\n",
        "모델 선택의 어려움: Sklearn의 기본 모델만을 활용하여 모델 선택을 진행하였는데, 이로 인해 최적의 모델을 찾는 과정에서 어려움을 겪었습니다. 다양한 모델의 하이퍼파라미터 튜닝과 비교를 통해 모델 성능을 향상시키는 방법을 더 탐구할 필요성을 느꼈습니다.\n",
        "데이터 전처리의 중요성: 데이터의 품질과 전처리 과정의 영향이 모델 성능에 큰 영향을 미쳤습니다. 주어진 데이터의 특성과 결측치 등을 고려하여 적절한 전처리 과정을 수행하는 것이 중요함을 깨달았습니다.\n"
      ]
    },
    {
      "cell_type": "markdown",
      "metadata": {
        "id": "8CJ1bsb3slxY"
      },
      "source": [
        "이 프로젝트를 통해 데이터 분석과 머신러닝 모델링에 대한 기초를 배우고 경험해볼 수 있었습니다. 하지만 더 나은 결과를 얻기 위해서는 다양한 모델 선택과 하이퍼파라미터 튜닝, 데이터 전처리 등을 더 심도 있게 탐구하고 활용해야 함을 알게 되었습니다. 데이터 분석은 지속적인 학습과 실험을 통해 점진적으로 개선되는 영역임을 느꼈습니다.\n",
        "\n",
        "더 많은 프로젝트와 학습을 통해 데이터 분석 및 머신러닝에 대한 역량을 키워나가고 싶습니다."
      ]
    }
  ],
  "metadata": {
    "colab": {
      "provenance": []
    },
    "kernelspec": {
      "display_name": "Python 3",
      "name": "python3"
    },
    "language_info": {
      "name": "python"
    }
  },
  "nbformat": 4,
  "nbformat_minor": 0
}